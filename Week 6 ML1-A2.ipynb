{
 "cells": [
  {
   "cell_type": "markdown",
   "id": "ab075593",
   "metadata": {},
   "source": [
    "# Week 6 Prima Indians Assignment\n",
    "## Francis Yang 11/8/2022\n",
    "**Step 1. Loading Dataset**\n",
    "Load the Prima Indians Onset of Diabates dataset. It is a standard machine learning dataset available for free download from the UCI Machine Learning repository. It describes patient medical record data for Pima Indians and whether they had an onset of diabetes within five years. It is a binary classification problem (onset of diabetes as 1 or not as 0)\n",
    "\n",
    "-\t**NTP**: Number of times pregnant.\n",
    "-\t**PGC**: Plasma glucose concentration a 2 hours in an oral glucose tolerance test. 3. Diastolic blood pressure (mm Hg).\n",
    "-\t**TSFT**: Triceps skin fold thickness (mm).\n",
    "-\t**2hSI**: 2-Hour serum insulin (mu U/ml).\n",
    "-\t**BMI**: Body mass index.\n",
    "-\t**DPF**: Diabetes pedigree function.\n",
    "-\t**Age**: Age (years).\n",
    "-\t**OnDiab**: Class, onset of diabetes within five years.\n"
   ]
  },
  {
   "cell_type": "code",
   "execution_count": 1,
   "id": "482bfdca",
   "metadata": {},
   "outputs": [
    {
     "data": {
      "text/html": [
       "<div>\n",
       "<style scoped>\n",
       "    .dataframe tbody tr th:only-of-type {\n",
       "        vertical-align: middle;\n",
       "    }\n",
       "\n",
       "    .dataframe tbody tr th {\n",
       "        vertical-align: top;\n",
       "    }\n",
       "\n",
       "    .dataframe thead th {\n",
       "        text-align: right;\n",
       "    }\n",
       "</style>\n",
       "<table border=\"1\" class=\"dataframe\">\n",
       "  <thead>\n",
       "    <tr style=\"text-align: right;\">\n",
       "      <th></th>\n",
       "      <th>NTP</th>\n",
       "      <th>PGC</th>\n",
       "      <th>DBP</th>\n",
       "      <th>TSFT</th>\n",
       "      <th>2hSI</th>\n",
       "      <th>BMI</th>\n",
       "      <th>DPF</th>\n",
       "      <th>Age</th>\n",
       "      <th>OnDiab</th>\n",
       "    </tr>\n",
       "  </thead>\n",
       "  <tbody>\n",
       "    <tr>\n",
       "      <th>0</th>\n",
       "      <td>6</td>\n",
       "      <td>148</td>\n",
       "      <td>72</td>\n",
       "      <td>35</td>\n",
       "      <td>0</td>\n",
       "      <td>33.6</td>\n",
       "      <td>0.627</td>\n",
       "      <td>50</td>\n",
       "      <td>1</td>\n",
       "    </tr>\n",
       "    <tr>\n",
       "      <th>1</th>\n",
       "      <td>1</td>\n",
       "      <td>85</td>\n",
       "      <td>66</td>\n",
       "      <td>29</td>\n",
       "      <td>0</td>\n",
       "      <td>26.6</td>\n",
       "      <td>0.351</td>\n",
       "      <td>31</td>\n",
       "      <td>0</td>\n",
       "    </tr>\n",
       "    <tr>\n",
       "      <th>2</th>\n",
       "      <td>8</td>\n",
       "      <td>183</td>\n",
       "      <td>64</td>\n",
       "      <td>0</td>\n",
       "      <td>0</td>\n",
       "      <td>23.3</td>\n",
       "      <td>0.672</td>\n",
       "      <td>32</td>\n",
       "      <td>1</td>\n",
       "    </tr>\n",
       "    <tr>\n",
       "      <th>3</th>\n",
       "      <td>1</td>\n",
       "      <td>89</td>\n",
       "      <td>66</td>\n",
       "      <td>23</td>\n",
       "      <td>94</td>\n",
       "      <td>28.1</td>\n",
       "      <td>0.167</td>\n",
       "      <td>21</td>\n",
       "      <td>0</td>\n",
       "    </tr>\n",
       "    <tr>\n",
       "      <th>4</th>\n",
       "      <td>0</td>\n",
       "      <td>137</td>\n",
       "      <td>40</td>\n",
       "      <td>35</td>\n",
       "      <td>168</td>\n",
       "      <td>43.1</td>\n",
       "      <td>2.288</td>\n",
       "      <td>33</td>\n",
       "      <td>1</td>\n",
       "    </tr>\n",
       "    <tr>\n",
       "      <th>5</th>\n",
       "      <td>5</td>\n",
       "      <td>116</td>\n",
       "      <td>74</td>\n",
       "      <td>0</td>\n",
       "      <td>0</td>\n",
       "      <td>25.6</td>\n",
       "      <td>0.201</td>\n",
       "      <td>30</td>\n",
       "      <td>0</td>\n",
       "    </tr>\n",
       "    <tr>\n",
       "      <th>6</th>\n",
       "      <td>3</td>\n",
       "      <td>78</td>\n",
       "      <td>50</td>\n",
       "      <td>32</td>\n",
       "      <td>88</td>\n",
       "      <td>31.0</td>\n",
       "      <td>0.248</td>\n",
       "      <td>26</td>\n",
       "      <td>1</td>\n",
       "    </tr>\n",
       "    <tr>\n",
       "      <th>7</th>\n",
       "      <td>10</td>\n",
       "      <td>115</td>\n",
       "      <td>0</td>\n",
       "      <td>0</td>\n",
       "      <td>0</td>\n",
       "      <td>35.3</td>\n",
       "      <td>0.134</td>\n",
       "      <td>29</td>\n",
       "      <td>0</td>\n",
       "    </tr>\n",
       "    <tr>\n",
       "      <th>8</th>\n",
       "      <td>2</td>\n",
       "      <td>197</td>\n",
       "      <td>70</td>\n",
       "      <td>45</td>\n",
       "      <td>543</td>\n",
       "      <td>30.5</td>\n",
       "      <td>0.158</td>\n",
       "      <td>53</td>\n",
       "      <td>1</td>\n",
       "    </tr>\n",
       "    <tr>\n",
       "      <th>9</th>\n",
       "      <td>8</td>\n",
       "      <td>125</td>\n",
       "      <td>96</td>\n",
       "      <td>0</td>\n",
       "      <td>0</td>\n",
       "      <td>0.0</td>\n",
       "      <td>0.232</td>\n",
       "      <td>54</td>\n",
       "      <td>1</td>\n",
       "    </tr>\n",
       "  </tbody>\n",
       "</table>\n",
       "</div>"
      ],
      "text/plain": [
       "   NTP  PGC  DBP  TSFT  2hSI   BMI    DPF  Age  OnDiab\n",
       "0    6  148   72    35     0  33.6  0.627   50       1\n",
       "1    1   85   66    29     0  26.6  0.351   31       0\n",
       "2    8  183   64     0     0  23.3  0.672   32       1\n",
       "3    1   89   66    23    94  28.1  0.167   21       0\n",
       "4    0  137   40    35   168  43.1  2.288   33       1\n",
       "5    5  116   74     0     0  25.6  0.201   30       0\n",
       "6    3   78   50    32    88  31.0  0.248   26       1\n",
       "7   10  115    0     0     0  35.3  0.134   29       0\n",
       "8    2  197   70    45   543  30.5  0.158   53       1\n",
       "9    8  125   96     0     0   0.0  0.232   54       1"
      ]
     },
     "execution_count": 1,
     "metadata": {},
     "output_type": "execute_result"
    }
   ],
   "source": [
    "import pandas as pd\n",
    "import numpy as np\n",
    "import matplotlib.pyplot as plt\n",
    "\n",
    "col_names = ['NTP', 'PGC','DBP','TSFT','2hSI','BMI','DPF','Age','OnDiab']\n",
    "data = pd.read_csv(\"datasets/diabetes.csv\", names=col_names)\n",
    "\n",
    "data.head(10)"
   ]
  },
  {
   "cell_type": "code",
   "execution_count": 2,
   "id": "e05aa4cc",
   "metadata": {},
   "outputs": [
    {
     "data": {
      "text/plain": [
       "(768, 9)"
      ]
     },
     "execution_count": 2,
     "metadata": {},
     "output_type": "execute_result"
    }
   ],
   "source": [
    "data.shape"
   ]
  },
  {
   "cell_type": "markdown",
   "id": "0eeb6668",
   "metadata": {},
   "source": [
    "**Step 2: Data type and description for each attribute**\n",
    "-\tPrint the data type for each attribute using `dtypes` method of a pandas data frame\n",
    "-\tDescriptive statistics can give you great insight into the properties of each attribute. Often you can create more summaries than you have time to review. The `describe()` function on the Pandas DataFrame lists 8 statistical properties of each attribute. They are: Count, Mean, Standard Deviation, Minimum Value, 25th Percentile, 50th Percentile (Median), 75th Percentile, Maximum Value.\n",
    "-\tOn classication problems you need to know how balanced the class values are. Highly imbalanced problems (a lot more observations for one class than another) are common and may need special handling in the data preparation stage of your project. You can quickly get an idea of the distribution of the OnDiab attribute in Pandas. Group your data by `OnDiab` attribute and use the `size` method to count the number of different values of class attribute.\n"
   ]
  },
  {
   "cell_type": "code",
   "execution_count": 3,
   "id": "085723bd",
   "metadata": {},
   "outputs": [
    {
     "data": {
      "text/plain": [
       "NTP         int64\n",
       "PGC         int64\n",
       "DBP         int64\n",
       "TSFT        int64\n",
       "2hSI        int64\n",
       "BMI       float64\n",
       "DPF       float64\n",
       "Age         int64\n",
       "OnDiab      int64\n",
       "dtype: object"
      ]
     },
     "execution_count": 3,
     "metadata": {},
     "output_type": "execute_result"
    }
   ],
   "source": [
    "data.dtypes"
   ]
  },
  {
   "cell_type": "code",
   "execution_count": 4,
   "id": "ac421878",
   "metadata": {},
   "outputs": [
    {
     "data": {
      "text/html": [
       "<div>\n",
       "<style scoped>\n",
       "    .dataframe tbody tr th:only-of-type {\n",
       "        vertical-align: middle;\n",
       "    }\n",
       "\n",
       "    .dataframe tbody tr th {\n",
       "        vertical-align: top;\n",
       "    }\n",
       "\n",
       "    .dataframe thead th {\n",
       "        text-align: right;\n",
       "    }\n",
       "</style>\n",
       "<table border=\"1\" class=\"dataframe\">\n",
       "  <thead>\n",
       "    <tr style=\"text-align: right;\">\n",
       "      <th></th>\n",
       "      <th>NTP</th>\n",
       "      <th>PGC</th>\n",
       "      <th>DBP</th>\n",
       "      <th>TSFT</th>\n",
       "      <th>2hSI</th>\n",
       "      <th>BMI</th>\n",
       "      <th>DPF</th>\n",
       "      <th>Age</th>\n",
       "      <th>OnDiab</th>\n",
       "    </tr>\n",
       "  </thead>\n",
       "  <tbody>\n",
       "    <tr>\n",
       "      <th>count</th>\n",
       "      <td>768.000000</td>\n",
       "      <td>768.000000</td>\n",
       "      <td>768.000000</td>\n",
       "      <td>768.000000</td>\n",
       "      <td>768.000000</td>\n",
       "      <td>768.000000</td>\n",
       "      <td>768.000000</td>\n",
       "      <td>768.000000</td>\n",
       "      <td>768.000000</td>\n",
       "    </tr>\n",
       "    <tr>\n",
       "      <th>mean</th>\n",
       "      <td>3.845052</td>\n",
       "      <td>120.894531</td>\n",
       "      <td>69.105469</td>\n",
       "      <td>20.536458</td>\n",
       "      <td>79.799479</td>\n",
       "      <td>31.992578</td>\n",
       "      <td>0.471876</td>\n",
       "      <td>33.240885</td>\n",
       "      <td>0.348958</td>\n",
       "    </tr>\n",
       "    <tr>\n",
       "      <th>std</th>\n",
       "      <td>3.369578</td>\n",
       "      <td>31.972618</td>\n",
       "      <td>19.355807</td>\n",
       "      <td>15.952218</td>\n",
       "      <td>115.244002</td>\n",
       "      <td>7.884160</td>\n",
       "      <td>0.331329</td>\n",
       "      <td>11.760232</td>\n",
       "      <td>0.476951</td>\n",
       "    </tr>\n",
       "    <tr>\n",
       "      <th>min</th>\n",
       "      <td>0.000000</td>\n",
       "      <td>0.000000</td>\n",
       "      <td>0.000000</td>\n",
       "      <td>0.000000</td>\n",
       "      <td>0.000000</td>\n",
       "      <td>0.000000</td>\n",
       "      <td>0.078000</td>\n",
       "      <td>21.000000</td>\n",
       "      <td>0.000000</td>\n",
       "    </tr>\n",
       "    <tr>\n",
       "      <th>25%</th>\n",
       "      <td>1.000000</td>\n",
       "      <td>99.000000</td>\n",
       "      <td>62.000000</td>\n",
       "      <td>0.000000</td>\n",
       "      <td>0.000000</td>\n",
       "      <td>27.300000</td>\n",
       "      <td>0.243750</td>\n",
       "      <td>24.000000</td>\n",
       "      <td>0.000000</td>\n",
       "    </tr>\n",
       "    <tr>\n",
       "      <th>50%</th>\n",
       "      <td>3.000000</td>\n",
       "      <td>117.000000</td>\n",
       "      <td>72.000000</td>\n",
       "      <td>23.000000</td>\n",
       "      <td>30.500000</td>\n",
       "      <td>32.000000</td>\n",
       "      <td>0.372500</td>\n",
       "      <td>29.000000</td>\n",
       "      <td>0.000000</td>\n",
       "    </tr>\n",
       "    <tr>\n",
       "      <th>75%</th>\n",
       "      <td>6.000000</td>\n",
       "      <td>140.250000</td>\n",
       "      <td>80.000000</td>\n",
       "      <td>32.000000</td>\n",
       "      <td>127.250000</td>\n",
       "      <td>36.600000</td>\n",
       "      <td>0.626250</td>\n",
       "      <td>41.000000</td>\n",
       "      <td>1.000000</td>\n",
       "    </tr>\n",
       "    <tr>\n",
       "      <th>max</th>\n",
       "      <td>17.000000</td>\n",
       "      <td>199.000000</td>\n",
       "      <td>122.000000</td>\n",
       "      <td>99.000000</td>\n",
       "      <td>846.000000</td>\n",
       "      <td>67.100000</td>\n",
       "      <td>2.420000</td>\n",
       "      <td>81.000000</td>\n",
       "      <td>1.000000</td>\n",
       "    </tr>\n",
       "  </tbody>\n",
       "</table>\n",
       "</div>"
      ],
      "text/plain": [
       "              NTP         PGC         DBP        TSFT        2hSI         BMI  \\\n",
       "count  768.000000  768.000000  768.000000  768.000000  768.000000  768.000000   \n",
       "mean     3.845052  120.894531   69.105469   20.536458   79.799479   31.992578   \n",
       "std      3.369578   31.972618   19.355807   15.952218  115.244002    7.884160   \n",
       "min      0.000000    0.000000    0.000000    0.000000    0.000000    0.000000   \n",
       "25%      1.000000   99.000000   62.000000    0.000000    0.000000   27.300000   \n",
       "50%      3.000000  117.000000   72.000000   23.000000   30.500000   32.000000   \n",
       "75%      6.000000  140.250000   80.000000   32.000000  127.250000   36.600000   \n",
       "max     17.000000  199.000000  122.000000   99.000000  846.000000   67.100000   \n",
       "\n",
       "              DPF         Age      OnDiab  \n",
       "count  768.000000  768.000000  768.000000  \n",
       "mean     0.471876   33.240885    0.348958  \n",
       "std      0.331329   11.760232    0.476951  \n",
       "min      0.078000   21.000000    0.000000  \n",
       "25%      0.243750   24.000000    0.000000  \n",
       "50%      0.372500   29.000000    0.000000  \n",
       "75%      0.626250   41.000000    1.000000  \n",
       "max      2.420000   81.000000    1.000000  "
      ]
     },
     "execution_count": 4,
     "metadata": {},
     "output_type": "execute_result"
    }
   ],
   "source": [
    "data.describe()"
   ]
  },
  {
   "cell_type": "code",
   "execution_count": 5,
   "id": "d006f7c1",
   "metadata": {},
   "outputs": [
    {
     "data": {
      "text/plain": [
       "OnDiab\n",
       "0    500\n",
       "1    268\n",
       "dtype: int64"
      ]
     },
     "execution_count": 5,
     "metadata": {},
     "output_type": "execute_result"
    }
   ],
   "source": [
    "data.groupby('OnDiab').size()"
   ]
  },
  {
   "cell_type": "markdown",
   "id": "ad8df15b",
   "metadata": {},
   "source": [
    "**Step 3: Draw the histogram of your data attributes.**\n",
    "-\tUse `hist()` method of pandas data frame to plot the histograms."
   ]
  },
  {
   "cell_type": "code",
   "execution_count": 6,
   "id": "a723eefd",
   "metadata": {},
   "outputs": [
    {
     "data": {
      "image/png": "[encoded data removed]",
      "text/plain": [
       "<Figure size 864x864 with 9 Axes>"
      ]
     },
     "metadata": {
      "needs_background": "light"
     },
     "output_type": "display_data"
    }
   ],
   "source": [
    "data.hist(bins=20, figsize=(12,12));"
   ]
  },
  {
   "cell_type": "markdown",
   "id": "91cc4f78",
   "metadata": {},
   "source": [
    "**Step 4: Running a Classifier**\n",
    "-\tSeparate your dataset into feature set X and target variable y. Your target variable is `OnDiab`.\n",
    "-\tSplit your dataset into train and test datasets, keep the test dataset size as 0.25 using `test_size` parameter of `train_test_split`. Set the random seed top 7 using random_state parameter of `train_test_split`. Make a stratified split.\n",
    "-\tTrain KNearestNeighbor classifer on your train dataset and print the score on the test dataset.\n",
    "-   Set number of neighbors to 5.\n",
    "\n"
   ]
  },
  {
   "cell_type": "code",
   "execution_count": 7,
   "id": "a16b9c82",
   "metadata": {},
   "outputs": [
    {
     "data": {
      "text/plain": [
       "0.7395833333333334"
      ]
     },
     "execution_count": 7,
     "metadata": {},
     "output_type": "execute_result"
    }
   ],
   "source": [
    "from sklearn.model_selection import train_test_split\n",
    "from sklearn.neighbors import KNeighborsClassifier\n",
    "\n",
    "X = data.drop('OnDiab', axis=1)\n",
    "y = data.OnDiab\n",
    "\n",
    "X_train, X_test, y_train, y_test = train_test_split(\n",
    "    X, y, test_size=0.25, random_state=7, stratify=y)\n",
    "\n",
    "knn = KNeighborsClassifier(n_neighbors=5)\n",
    "knn.fit(X_train, y_train)\n",
    "knn.score(X_test, y_test)"
   ]
  },
  {
   "cell_type": "markdown",
   "id": "0f9c4ce4",
   "metadata": {},
   "source": [
    "**Step 5: Grid Search**\n",
    "-\tImport GridSearchCV from sklearn.model_selection\n",
    "-\t(Done Previously) Split your data into train and test datasets\n",
    "-\tFor neighbors=1 to 30, compute GridSearchCV for train dataset with kfold=10.\n",
    "-\tPrint the best cross validation score\n",
    "-\tPrint the best parameter\n",
    "-\tPrint the test score"
   ]
  },
  {
   "cell_type": "code",
   "execution_count": 8,
   "id": "947f057a",
   "metadata": {},
   "outputs": [],
   "source": [
    "from sklearn.model_selection import GridSearchCV\n",
    "\n",
    "param_grid = {'n_neighbors': np.arange(1, 30)}\n",
    "\n",
    "grid = GridSearchCV(KNeighborsClassifier(),\n",
    "                    param_grid=param_grid, cv=10, return_train_score=True)"
   ]
  },
  {
   "cell_type": "code",
   "execution_count": 9,
   "id": "ebc6f2d0",
   "metadata": {},
   "outputs": [
    {
     "data": {
      "text/plain": [
       "GridSearchCV(cv=10, estimator=KNeighborsClassifier(),\n",
       "             param_grid={'n_neighbors': array([ 1,  2,  3,  4,  5,  6,  7,  8,  9, 10, 11, 12, 13, 14, 15, 16, 17,\n",
       "       18, 19, 20, 21, 22, 23, 24, 25, 26, 27, 28, 29])},\n",
       "             return_train_score=True)"
      ]
     },
     "execution_count": 9,
     "metadata": {},
     "output_type": "execute_result"
    }
   ],
   "source": [
    "grid.fit(X_train,y_train)"
   ]
  },
  {
   "cell_type": "code",
   "execution_count": 16,
   "id": "ec26e9e0",
   "metadata": {},
   "outputs": [
    {
     "name": "stderr",
     "output_type": "stream",
     "text": [
      "C:\\Users\\12099\\anaconda3\\lib\\site-packages\\pandas\\core\\indexes\\base.py:6982: FutureWarning: In a future version, the Index constructor will not infer numeric dtypes when passed object-dtype sequences (matching Series behavior)\n",
      "  return Index(sequences[0], name=names)\n",
      "C:\\Users\\12099\\anaconda3\\lib\\site-packages\\pandas\\core\\indexes\\base.py:6982: FutureWarning: In a future version, the Index constructor will not infer numeric dtypes when passed object-dtype sequences (matching Series behavior)\n",
      "  return Index(sequences[0], name=names)\n"
     ]
    },
    {
     "data": {
      "image/png": "[encoded data removed]",
      "text/plain": [
       "<Figure size 432x288 with 1 Axes>"
      ]
     },
     "metadata": {
      "needs_background": "light"
     },
     "output_type": "display_data"
    }
   ],
   "source": [
    "# best (mean) cv score\n",
    "results = pd.DataFrame(grid.cv_results_)\n",
    "results.plot(\"param_n_neighbors\",\"mean_train_score\", ax=plt.gca());\n",
    "results.plot(\"param_n_neighbors\",\"mean_test_score\", ax=plt.gca());"
   ]
  },
  {
   "cell_type": "code",
   "execution_count": 14,
   "id": "f077f7a9",
   "metadata": {},
   "outputs": [
    {
     "data": {
      "text/plain": [
       "{'n_neighbors': 15}"
      ]
     },
     "execution_count": 14,
     "metadata": {},
     "output_type": "execute_result"
    }
   ],
   "source": [
    "#best k value\n",
    "grid.best_params_"
   ]
  },
  {
   "cell_type": "code",
   "execution_count": 10,
   "id": "21b6b6c5",
   "metadata": {},
   "outputs": [
    {
     "data": {
      "text/plain": [
       "0.7535087719298246"
      ]
     },
     "execution_count": 10,
     "metadata": {},
     "output_type": "execute_result"
    }
   ],
   "source": [
    "# best test score\n",
    "grid.best_score_"
   ]
  },
  {
   "cell_type": "code",
   "execution_count": 11,
   "id": "372238cb",
   "metadata": {},
   "outputs": [
    {
     "data": {
      "text/plain": [
       "{'scoring': None,\n",
       " 'estimator': KNeighborsClassifier(),\n",
       " 'n_jobs': None,\n",
       " 'refit': True,\n",
       " 'cv': 10,\n",
       " 'verbose': 0,\n",
       " 'pre_dispatch': '2*n_jobs',\n",
       " 'error_score': nan,\n",
       " 'return_train_score': True,\n",
       " 'param_grid': {'n_neighbors': array([ 1,  2,  3,  4,  5,  6,  7,  8,  9, 10, 11, 12, 13, 14, 15, 16, 17,\n",
       "         18, 19, 20, 21, 22, 23, 24, 25, 26, 27, 28, 29])},\n",
       " 'multimetric_': False,\n",
       " 'best_index_': 14,\n",
       " 'best_score_': 0.7535087719298246,\n",
       " 'best_params_': {'n_neighbors': 15},\n",
       " 'best_estimator_': KNeighborsClassifier(n_neighbors=15),\n",
       " 'refit_time_': 0.001993894577026367,\n",
       " 'feature_names_in_': array(['NTP', 'PGC', 'DBP', 'TSFT', '2hSI', 'BMI', 'DPF', 'Age'],\n",
       "       dtype=object),\n",
       " 'scorer_': <function sklearn.metrics._scorer._passthrough_scorer(estimator, *args, **kwargs)>,\n",
       " 'cv_results_': {'mean_fit_time': array([0.00222778, 0.00218058, 0.00211906, 0.00191958, 0.00200737,\n",
       "         0.00211427, 0.00209746, 0.00210462, 0.00214913, 0.00232513,\n",
       "         0.00226808, 0.00211716, 0.00212173, 0.00217478, 0.00219889,\n",
       "         0.00215108, 0.00222781, 0.00198796, 0.0023113 , 0.00232878,\n",
       "         0.00228801, 0.00213852, 0.00210512, 0.00196586, 0.00206676,\n",
       "         0.0019563 , 0.00229912, 0.00197909, 0.00196257]),\n",
       "  'std_fit_time': array([5.32309500e-04, 3.98434698e-04, 3.52645242e-04, 4.28243003e-04,\n",
       "         3.56168220e-04, 3.50779762e-04, 4.73187669e-04, 5.15117575e-04,\n",
       "         6.24153579e-04, 4.27988963e-04, 3.60643137e-04, 2.96300256e-04,\n",
       "         3.56295118e-04, 4.56128716e-04, 4.07851031e-04, 3.31204617e-04,\n",
       "         4.12995163e-04, 9.74570727e-05, 4.56507121e-04, 1.02564734e-03,\n",
       "         4.26495123e-04, 3.23698828e-04, 3.79093882e-04, 6.02210683e-04,\n",
       "         3.36168695e-04, 1.44724007e-04, 3.13904237e-04, 4.47822772e-04,\n",
       "         2.18297207e-04]),\n",
       "  'mean_score_time': array([0.00306354, 0.00268316, 0.00310166, 0.00285726, 0.00284441,\n",
       "         0.0029196 , 0.00298412, 0.00335236, 0.00308425, 0.00260193,\n",
       "         0.00331299, 0.00289359, 0.00311348, 0.00293643, 0.00303986,\n",
       "         0.00283062, 0.00288579, 0.0026742 , 0.00288668, 0.00317111,\n",
       "         0.00293663, 0.00292552, 0.0031687 , 0.00305352, 0.00281286,\n",
       "         0.00300453, 0.00298967, 0.00317047, 0.00300841]),\n",
       "  'std_score_time': array([0.00033667, 0.00039186, 0.00030107, 0.00060971, 0.00081731,\n",
       "         0.00055221, 0.00090284, 0.00041724, 0.00055476, 0.00060405,\n",
       "         0.00096197, 0.00053659, 0.00068   , 0.00058832, 0.00065842,\n",
       "         0.00043289, 0.00062557, 0.00044922, 0.00094743, 0.00029907,\n",
       "         0.00063881, 0.00047361, 0.00043368, 0.00052758, 0.00054242,\n",
       "         0.00014287, 0.00044586, 0.00036191, 0.00062388]),\n",
       "  'param_n_neighbors': masked_array(data=[1, 2, 3, 4, 5, 6, 7, 8, 9, 10, 11, 12, 13, 14, 15, 16,\n",
       "                     17, 18, 19, 20, 21, 22, 23, 24, 25, 26, 27, 28, 29],\n",
       "               mask=[False, False, False, False, False, False, False, False,\n",
       "                     False, False, False, False, False, False, False, False,\n",
       "                     False, False, False, False, False, False, False, False,\n",
       "                     False, False, False, False, False],\n",
       "         fill_value='?',\n",
       "              dtype=object),\n",
       "  'params': [{'n_neighbors': 1},\n",
       "   {'n_neighbors': 2},\n",
       "   {'n_neighbors': 3},\n",
       "   {'n_neighbors': 4},\n",
       "   {'n_neighbors': 5},\n",
       "   {'n_neighbors': 6},\n",
       "   {'n_neighbors': 7},\n",
       "   {'n_neighbors': 8},\n",
       "   {'n_neighbors': 9},\n",
       "   {'n_neighbors': 10},\n",
       "   {'n_neighbors': 11},\n",
       "   {'n_neighbors': 12},\n",
       "   {'n_neighbors': 13},\n",
       "   {'n_neighbors': 14},\n",
       "   {'n_neighbors': 15},\n",
       "   {'n_neighbors': 16},\n",
       "   {'n_neighbors': 17},\n",
       "   {'n_neighbors': 18},\n",
       "   {'n_neighbors': 19},\n",
       "   {'n_neighbors': 20},\n",
       "   {'n_neighbors': 21},\n",
       "   {'n_neighbors': 22},\n",
       "   {'n_neighbors': 23},\n",
       "   {'n_neighbors': 24},\n",
       "   {'n_neighbors': 25},\n",
       "   {'n_neighbors': 26},\n",
       "   {'n_neighbors': 27},\n",
       "   {'n_neighbors': 28},\n",
       "   {'n_neighbors': 29}],\n",
       "  'split0_test_score': array([0.72413793, 0.68965517, 0.68965517, 0.68965517, 0.67241379,\n",
       "         0.68965517, 0.65517241, 0.67241379, 0.70689655, 0.68965517,\n",
       "         0.70689655, 0.68965517, 0.70689655, 0.68965517, 0.68965517,\n",
       "         0.68965517, 0.68965517, 0.68965517, 0.68965517, 0.68965517,\n",
       "         0.68965517, 0.68965517, 0.68965517, 0.70689655, 0.67241379,\n",
       "         0.65517241, 0.65517241, 0.68965517, 0.68965517]),\n",
       "  'split1_test_score': array([0.67241379, 0.72413793, 0.74137931, 0.72413793, 0.74137931,\n",
       "         0.77586207, 0.81034483, 0.77586207, 0.77586207, 0.79310345,\n",
       "         0.81034483, 0.79310345, 0.79310345, 0.75862069, 0.77586207,\n",
       "         0.74137931, 0.75862069, 0.75862069, 0.75862069, 0.75862069,\n",
       "         0.75862069, 0.74137931, 0.75862069, 0.74137931, 0.75862069,\n",
       "         0.75862069, 0.77586207, 0.77586207, 0.75862069]),\n",
       "  'split2_test_score': array([0.67241379, 0.70689655, 0.67241379, 0.72413793, 0.67241379,\n",
       "         0.70689655, 0.70689655, 0.77586207, 0.75862069, 0.75862069,\n",
       "         0.74137931, 0.74137931, 0.75862069, 0.81034483, 0.79310345,\n",
       "         0.77586207, 0.75862069, 0.72413793, 0.72413793, 0.70689655,\n",
       "         0.68965517, 0.72413793, 0.70689655, 0.72413793, 0.77586207,\n",
       "         0.77586207, 0.77586207, 0.79310345, 0.77586207]),\n",
       "  'split3_test_score': array([0.68965517, 0.68965517, 0.67241379, 0.68965517, 0.70689655,\n",
       "         0.68965517, 0.72413793, 0.72413793, 0.72413793, 0.70689655,\n",
       "         0.72413793, 0.74137931, 0.72413793, 0.72413793, 0.70689655,\n",
       "         0.70689655, 0.70689655, 0.68965517, 0.67241379, 0.67241379,\n",
       "         0.68965517, 0.70689655, 0.72413793, 0.72413793, 0.72413793,\n",
       "         0.70689655, 0.74137931, 0.72413793, 0.72413793]),\n",
       "  'split4_test_score': array([0.74137931, 0.68965517, 0.63793103, 0.65517241, 0.62068966,\n",
       "         0.65517241, 0.5862069 , 0.67241379, 0.65517241, 0.70689655,\n",
       "         0.68965517, 0.72413793, 0.70689655, 0.72413793, 0.77586207,\n",
       "         0.70689655, 0.70689655, 0.70689655, 0.74137931, 0.70689655,\n",
       "         0.70689655, 0.70689655, 0.68965517, 0.67241379, 0.70689655,\n",
       "         0.68965517, 0.74137931, 0.67241379, 0.70689655]),\n",
       "  'split5_test_score': array([0.53448276, 0.67241379, 0.72413793, 0.72413793, 0.72413793,\n",
       "         0.72413793, 0.74137931, 0.74137931, 0.72413793, 0.74137931,\n",
       "         0.74137931, 0.74137931, 0.75862069, 0.75862069, 0.75862069,\n",
       "         0.74137931, 0.74137931, 0.74137931, 0.74137931, 0.74137931,\n",
       "         0.75862069, 0.75862069, 0.74137931, 0.70689655, 0.72413793,\n",
       "         0.72413793, 0.72413793, 0.70689655, 0.72413793]),\n",
       "  'split6_test_score': array([0.68421053, 0.71929825, 0.68421053, 0.73684211, 0.77192982,\n",
       "         0.73684211, 0.73684211, 0.73684211, 0.71929825, 0.75438596,\n",
       "         0.71929825, 0.80701754, 0.73684211, 0.77192982, 0.77192982,\n",
       "         0.77192982, 0.75438596, 0.77192982, 0.75438596, 0.78947368,\n",
       "         0.77192982, 0.77192982, 0.78947368, 0.75438596, 0.77192982,\n",
       "         0.78947368, 0.78947368, 0.80701754, 0.78947368]),\n",
       "  'split7_test_score': array([0.73684211, 0.68421053, 0.66666667, 0.68421053, 0.73684211,\n",
       "         0.68421053, 0.68421053, 0.70175439, 0.64912281, 0.64912281,\n",
       "         0.66666667, 0.61403509, 0.63157895, 0.66666667, 0.68421053,\n",
       "         0.66666667, 0.66666667, 0.66666667, 0.66666667, 0.70175439,\n",
       "         0.70175439, 0.68421053, 0.68421053, 0.70175439, 0.70175439,\n",
       "         0.68421053, 0.66666667, 0.70175439, 0.66666667]),\n",
       "  'split8_test_score': array([0.59649123, 0.68421053, 0.63157895, 0.70175439, 0.70175439,\n",
       "         0.68421053, 0.73684211, 0.70175439, 0.73684211, 0.73684211,\n",
       "         0.73684211, 0.73684211, 0.71929825, 0.73684211, 0.73684211,\n",
       "         0.77192982, 0.80701754, 0.77192982, 0.75438596, 0.75438596,\n",
       "         0.77192982, 0.75438596, 0.73684211, 0.71929825, 0.77192982,\n",
       "         0.71929825, 0.75438596, 0.75438596, 0.75438596]),\n",
       "  'split9_test_score': array([0.64912281, 0.66666667, 0.64912281, 0.68421053, 0.71929825,\n",
       "         0.75438596, 0.71929825, 0.73684211, 0.73684211, 0.75438596,\n",
       "         0.78947368, 0.8245614 , 0.80701754, 0.8245614 , 0.84210526,\n",
       "         0.78947368, 0.77192982, 0.73684211, 0.78947368, 0.78947368,\n",
       "         0.77192982, 0.77192982, 0.78947368, 0.77192982, 0.75438596,\n",
       "         0.75438596, 0.75438596, 0.77192982, 0.77192982]),\n",
       "  'mean_test_score': array([0.67011494, 0.69267998, 0.676951  , 0.70139141, 0.70677556,\n",
       "         0.71010284, 0.71013309, 0.72392619, 0.71869328, 0.72912886,\n",
       "         0.73260738, 0.74134906, 0.73430127, 0.74655172, 0.75350877,\n",
       "         0.7362069 , 0.7362069 , 0.72577132, 0.72924985, 0.73109498,\n",
       "         0.73106473, 0.73100423, 0.73103448, 0.72232305, 0.7362069 ,\n",
       "         0.72577132, 0.73787054, 0.73971567, 0.73617665]),\n",
       "  'std_test_score': array([0.061072  , 0.01777236, 0.03330802, 0.0241063 , 0.04074584,\n",
       "         0.03521635, 0.05637945, 0.03510442, 0.0382034 , 0.03923725,\n",
       "         0.04068377, 0.05754373, 0.04724084, 0.04669937, 0.04702328,\n",
       "         0.03966957, 0.04046401, 0.03488195, 0.03845558, 0.03926167,\n",
       "         0.03621599, 0.03142567, 0.03738877, 0.02694012, 0.03371142,\n",
       "         0.0410873 , 0.04268172, 0.04442493, 0.03830428]),\n",
       "  'rank_test_score': array([29, 27, 28, 26, 25, 24, 23, 20, 22, 17, 11,  3, 10,  2,  1,  6,  6,\n",
       "         19, 16, 12, 13, 15, 14, 21,  6, 18,  5,  4,  9]),\n",
       "  'split0_train_score': array([1.        , 0.83397683, 0.83397683, 0.7972973 , 0.7953668 ,\n",
       "         0.79343629, 0.79150579, 0.78185328, 0.78378378, 0.78571429,\n",
       "         0.77413127, 0.77992278, 0.77606178, 0.77413127, 0.77606178,\n",
       "         0.76447876, 0.77220077, 0.76447876, 0.76447876, 0.76447876,\n",
       "         0.76833977, 0.76447876, 0.76833977, 0.76254826, 0.77027027,\n",
       "         0.76254826, 0.76447876, 0.75289575, 0.75675676]),\n",
       "  'split1_train_score': array([1.        , 0.83590734, 0.83397683, 0.78764479, 0.78185328,\n",
       "         0.77992278, 0.76447876, 0.75868726, 0.77413127, 0.77992278,\n",
       "         0.77027027, 0.76833977, 0.76447876, 0.77992278, 0.77992278,\n",
       "         0.77220077, 0.77027027, 0.76640927, 0.76640927, 0.76254826,\n",
       "         0.75675676, 0.75289575, 0.75868726, 0.75096525, 0.75675676,\n",
       "         0.75675676, 0.75675676, 0.75289575, 0.75482625]),\n",
       "  'split2_train_score': array([1.        , 0.83783784, 0.83590734, 0.78957529, 0.78957529,\n",
       "         0.78185328, 0.77799228, 0.77220077, 0.77220077, 0.76833977,\n",
       "         0.76833977, 0.77413127, 0.77413127, 0.76833977, 0.78571429,\n",
       "         0.76061776, 0.77220077, 0.75868726, 0.77220077, 0.74903475,\n",
       "         0.76640927, 0.76833977, 0.76061776, 0.75289575, 0.74517375,\n",
       "         0.74903475, 0.75096525, 0.74710425, 0.75289575]),\n",
       "  'split3_train_score': array([1.        , 0.82818533, 0.83590734, 0.7972973 , 0.8030888 ,\n",
       "         0.77220077, 0.78378378, 0.77027027, 0.77413127, 0.77799228,\n",
       "         0.77220077, 0.77799228, 0.77992278, 0.77027027, 0.78185328,\n",
       "         0.75868726, 0.75482625, 0.75096525, 0.75868726, 0.75289575,\n",
       "         0.75868726, 0.75289575, 0.75868726, 0.75482625, 0.75868726,\n",
       "         0.76061776, 0.75675676, 0.75675676, 0.75482625]),\n",
       "  'split4_train_score': array([1.        , 0.83976834, 0.84362934, 0.79343629, 0.77799228,\n",
       "         0.77606178, 0.78571429, 0.77799228, 0.77606178, 0.77799228,\n",
       "         0.77606178, 0.77413127, 0.77220077, 0.77606178, 0.76833977,\n",
       "         0.76447876, 0.77027027, 0.76833977, 0.76254826, 0.77220077,\n",
       "         0.76447876, 0.77027027, 0.76061776, 0.75482625, 0.75868726,\n",
       "         0.76640927, 0.76061776, 0.76061776, 0.75675676]),\n",
       "  'split5_train_score': array([1.        , 0.83976834, 0.84555985, 0.78957529, 0.79343629,\n",
       "         0.77027027, 0.76833977, 0.75868726, 0.77799228, 0.76640927,\n",
       "         0.77799228, 0.78764479, 0.77413127, 0.77606178, 0.78378378,\n",
       "         0.77799228, 0.77799228, 0.77027027, 0.77606178, 0.75675676,\n",
       "         0.75868726, 0.75289575, 0.75482625, 0.75096525, 0.74131274,\n",
       "         0.74324324, 0.74903475, 0.75675676, 0.75096525]),\n",
       "  'split6_train_score': array([1.        , 0.82466281, 0.83429672, 0.78612717, 0.7822736 ,\n",
       "         0.76300578, 0.76878613, 0.76300578, 0.75915222, 0.77649326,\n",
       "         0.77649326, 0.77263969, 0.76685934, 0.76878613, 0.761079  ,\n",
       "         0.75529865, 0.761079  , 0.74759152, 0.75722543, 0.75337187,\n",
       "         0.74759152, 0.75722543, 0.75722543, 0.75337187, 0.7495183 ,\n",
       "         0.75529865, 0.7495183 , 0.74181118, 0.74566474]),\n",
       "  'split7_train_score': array([1.        , 0.83236994, 0.83622351, 0.80346821, 0.7822736 ,\n",
       "         0.78998073, 0.78420039, 0.77842004, 0.77649326, 0.77263969,\n",
       "         0.77649326, 0.77842004, 0.7822736 , 0.77456647, 0.7822736 ,\n",
       "         0.7822736 , 0.78612717, 0.77263969, 0.77263969, 0.77263969,\n",
       "         0.77263969, 0.76493256, 0.76878613, 0.75722543, 0.75915222,\n",
       "         0.75337187, 0.75337187, 0.7495183 , 0.75915222]),\n",
       "  'split8_train_score': array([1.        , 0.8265896 , 0.82080925, 0.77842004, 0.78998073,\n",
       "         0.77649326, 0.77456647, 0.77842004, 0.77842004, 0.76878613,\n",
       "         0.77842004, 0.7822736 , 0.78420039, 0.76493256, 0.78612717,\n",
       "         0.76878613, 0.77649326, 0.75915222, 0.76300578, 0.75722543,\n",
       "         0.761079  , 0.75529865, 0.75722543, 0.75144509, 0.75144509,\n",
       "         0.75722543, 0.75722543, 0.74373796, 0.75144509]),\n",
       "  'split9_train_score': array([1.        , 0.84200385, 0.83622351, 0.79190751, 0.7822736 ,\n",
       "         0.77263969, 0.77263969, 0.76493256, 0.76493256, 0.77649326,\n",
       "         0.76878613, 0.78420039, 0.77842004, 0.77649326, 0.77071291,\n",
       "         0.77071291, 0.76493256, 0.75915222, 0.76300578, 0.75144509,\n",
       "         0.75529865, 0.74373796, 0.7495183 , 0.74759152, 0.75529865,\n",
       "         0.75337187, 0.74181118, 0.75144509, 0.73795761]),\n",
       "  'mean_train_score': array([1.        , 0.83410702, 0.83565105, 0.79147492, 0.78781143,\n",
       "         0.77758646, 0.77720074, 0.77044695, 0.77372992, 0.7750783 ,\n",
       "         0.77391888, 0.77796959, 0.775268  , 0.77295661, 0.77758684,\n",
       "         0.76755269, 0.77063926, 0.76176862, 0.76562628, 0.75925971,\n",
       "         0.76099679, 0.75829707, 0.75945314, 0.75366609, 0.75463023,\n",
       "         0.75578779, 0.75405368, 0.75135396, 0.75212467]),\n",
       "  'std_train_score': array([0.        , 0.00572212, 0.00624775, 0.00660749, 0.00744215,\n",
       "         0.00866959, 0.00842013, 0.00824405, 0.00668492, 0.00568927,\n",
       "         0.00358442, 0.00552795, 0.0060017 , 0.00441136, 0.00794112,\n",
       "         0.00809044, 0.00841057, 0.00776793, 0.00587515, 0.00797331,\n",
       "         0.00686817, 0.0079755 , 0.0054772 , 0.00389045, 0.00778463,\n",
       "         0.00632247, 0.0061813 , 0.00565207, 0.00593071])},\n",
       " 'n_splits_': 10}"
      ]
     },
     "execution_count": 11,
     "metadata": {},
     "output_type": "execute_result"
    }
   ],
   "source": [
    "vars(grid)"
   ]
  }
 ],
 "metadata": {
  "kernelspec": {
   "display_name": "Python 3 (ipykernel)",
   "language": "python",
   "name": "python3"
  },
  "language_info": {
   "codemirror_mode": {
    "name": "ipython",
    "version": 3
   },
   "file_extension": ".py",
   "mimetype": "text/x-python",
   "name": "python",
   "nbconvert_exporter": "python",
   "pygments_lexer": "ipython3",
   "version": "3.9.12"
  }
 },
 "nbformat": 4,
 "nbformat_minor": 5
}
