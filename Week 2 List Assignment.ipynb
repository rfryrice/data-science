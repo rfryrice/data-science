{
 "cells": [
  {
   "cell_type": "markdown",
   "id": "db547957",
   "metadata": {},
   "source": [
    "# Francis Yang 10/5/22\n",
    "## List Assignment\n",
    "1. Write a code to compute the sum of the two lowest numbers and the two highest numbers in the following list.\n",
    "\n",
    "``` my_list = [34, 56, 76, 45, 2, 12, 67, 98, 37, 54, 66] ```"
   ]
  },
  {
   "cell_type": "code",
   "execution_count": 1,
   "id": "dcbbdc4f",
   "metadata": {},
   "outputs": [
    {
     "name": "stdout",
     "output_type": "stream",
     "text": [
      "[2, 12, 34, 37, 45, 54, 56, 66, 67, 76, 98]\n",
      "Lowest sum: 14 Highest sum: 174\n"
     ]
    }
   ],
   "source": [
    "my_list = [34, 56, 76, 45, 2, 12, 67, 98, 37, 54, 66]\n",
    "my_list.sort()\n",
    "low_sum = my_list[0] + my_list[1]\n",
    "high_sum = my_list[-1] + my_list[-2]\n",
    "print(my_list)\n",
    "print(\"Lowest sum:\",low_sum,\"Highest sum:\",high_sum)"
   ]
  },
  {
   "cell_type": "markdown",
   "id": "08ed7c2d",
   "metadata": {},
   "source": [
    "2. The following two lists contain student names and scores. Write a code that gets the name from the user and prints the score of that student.\n"
   ]
  },
  {
   "cell_type": "code",
   "execution_count": 2,
   "id": "b5cdfc80",
   "metadata": {},
   "outputs": [],
   "source": [
    "names = [\"David\", \"Michael\", \"John\", \"James\", \"Greg\", \"Mark\", \"William\", \"Richard\", \n",
    "         \"Thomas\", \"Steven\", \"Mary\", \"Susan\", \"Maria\", \"Karen\", \"Lisa\", \"Linda\",\n",
    "         \"Donna\", \"Patricia\", \"Debra\", \"Eric\"]\n",
    "scores = [99, 87, 78, 86, 68, 94, 76, 97, 56, 98, 76, 87, 79, 90, 73, 93, 82, 69, 97, 98]"
   ]
  },
  {
   "cell_type": "code",
   "execution_count": 3,
   "id": "b83a2906",
   "metadata": {},
   "outputs": [
    {
     "name": "stdout",
     "output_type": "stream",
     "text": [
      "['David', 'Michael', 'John', 'James', 'Greg', 'Mark', 'William', 'Richard', 'Thomas', 'Steven', 'Mary', 'Susan', 'Maria', 'Karen', 'Lisa', 'Linda', 'Donna', 'Patricia', 'Debra', 'Eric']\n",
      "Enter a name from list: Michael\n",
      "Michael's score is 87\n"
     ]
    }
   ],
   "source": [
    "print(names)\n",
    "name = input(\"Enter a name from list: \")\n",
    "print(f\"{name}'s score is {scores[names.index(name)]}\")"
   ]
  },
  {
   "cell_type": "markdown",
   "id": "d9150262",
   "metadata": {},
   "source": [
    "3. By using the two lists above, what is the maximum score and how many students got that score?"
   ]
  },
  {
   "cell_type": "code",
   "execution_count": 4,
   "id": "ecf9ca78",
   "metadata": {},
   "outputs": [
    {
     "name": "stdout",
     "output_type": "stream",
     "text": [
      "The maximum score is 99\n",
      "[ True False False False False False False False False False False False\n",
      " False False False False False False False False]\n"
     ]
    }
   ],
   "source": [
    "import numpy as np\n",
    "highscore = max(scores)\n",
    "print(f\"The maximum score is {highscore}\")\n",
    "np_scores = np.array(scores)\n",
    "print(np_scores == highscore)"
   ]
  },
  {
   "cell_type": "markdown",
   "id": "9ac31f29",
   "metadata": {},
   "source": [
    "Only 1 person got the highest score of 99."
   ]
  },
  {
   "cell_type": "code",
   "execution_count": null,
   "id": "fd1acd94",
   "metadata": {},
   "outputs": [],
   "source": []
  }
 ],
 "metadata": {
  "kernelspec": {
   "display_name": "Python 3 (ipykernel)",
   "language": "python",
   "name": "python3"
  },
  "language_info": {
   "codemirror_mode": {
    "name": "ipython",
    "version": 3
   },
   "file_extension": ".py",
   "mimetype": "text/x-python",
   "name": "python",
   "nbconvert_exporter": "python",
   "pygments_lexer": "ipython3",
   "version": "3.9.7"
  }
 },
 "nbformat": 4,
 "nbformat_minor": 5
}
