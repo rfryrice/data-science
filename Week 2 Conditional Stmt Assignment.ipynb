{
 "cells": [
  {
   "cell_type": "markdown",
   "metadata": {},
   "source": [
    "# Francis Yang 10/5/22\n",
    "## Conditional Statements Assignment\n",
    "1. Ask the user to enter a number between 10 and 20 (inclusive). If they enter a number within this range, display the message “Thank you”, otherwise display the message “Incorrect answer”."
   ]
  },
  {
   "cell_type": "code",
   "execution_count": 1,
   "metadata": {},
   "outputs": [
    {
     "name": "stdout",
     "output_type": "stream",
     "text": [
      "Enter a number between 10 and 20 (inclusive):45\n",
      "Incorrect answer\n"
     ]
    }
   ],
   "source": [
    "num = input(\"Enter a number between 10 and 20 (inclusive):\")\n",
    "if 10<=int(num)<=20:\n",
    "    print(\"Thank you\")\n",
    "else:\n",
    "    print(\"Incorrect answer\")"
   ]
  },
  {
   "cell_type": "markdown",
   "metadata": {},
   "source": [
    "2. In this exercise, you will create a program that reads a letter of the alphabet from the user. According to the answer\\: \n",
    "    * If the user enters a, e, i, o, u, then your program should display a message indicating that the entered letter is a vowel. \n",
    "    * If the user enters y, then your program should display a message indicating that y is sometimes a vowel and sometimes a consonant.\n",
    "    * Otherwise, your program should display a message indicating that the letter is a consonant.\n",
    "\n"
   ]
  },
  {
   "cell_type": "code",
   "execution_count": 2,
   "metadata": {},
   "outputs": [
    {
     "name": "stdout",
     "output_type": "stream",
     "text": [
      "Enter a letter from the english alphabet:O\n",
      "The letter 'O' is a vowel\n"
     ]
    }
   ],
   "source": [
    "alpha = input(\"Enter a letter from the english alphabet:\")\n",
    "beta = alpha.lower()\n",
    "vowels = ['a','e','i','o','u']\n",
    "if beta in vowels:\n",
    "    print(f\"The letter '{alpha}' is a vowel\")\n",
    "elif beta == 'y':\n",
    "    print(f\"The letter '{alpha}' is sometimes a vowel and sometimes a consonant\")\n",
    "else:\n",
    "    print(f\"The letter '{alpha}' is a consonant\")"
   ]
  }
 ],
 "metadata": {
  "kernelspec": {
   "display_name": "Python 3",
   "language": "python",
   "name": "python3"
  },
  "language_info": {
   "codemirror_mode": {
    "name": "ipython",
    "version": 3
   },
   "file_extension": ".py",
   "mimetype": "text/x-python",
   "name": "python",
   "nbconvert_exporter": "python",
   "pygments_lexer": "ipython3",
   "version": "3.7.6"
  }
 },
 "nbformat": 4,
 "nbformat_minor": 4
}
