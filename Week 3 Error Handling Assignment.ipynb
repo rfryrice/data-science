{
 "cells": [
  {
   "cell_type": "markdown",
   "metadata": {},
   "source": [
    "# Francis Yang 10/12/2022\n",
    "## Error Handling Assignment\n",
    "1. Let us define a division operation inside a function (using def) but to get an error, define the denominator as 0. So, type except statement properly."
   ]
  },
  {
   "cell_type": "code",
   "execution_count": 1,
   "metadata": {},
   "outputs": [
    {
     "name": "stdout",
     "output_type": "stream",
     "text": [
      "division by zero occurred\n"
     ]
    }
   ],
   "source": [
    "def division(a,b=0):\n",
    "    try:\n",
    "        print(a/b)\n",
    "    except:\n",
    "        print(\"division by zero occurred\")\n",
    "division(1)"
   ]
  },
  {
   "cell_type": "markdown",
   "metadata": {},
   "source": [
    "2. It is possible to get multiple errors after the execution of one try block. So, please define an error-exception issue with NameError."
   ]
  },
  {
   "cell_type": "code",
   "execution_count": 2,
   "metadata": {},
   "outputs": [
    {
     "name": "stdout",
     "output_type": "stream",
     "text": [
      "Name Error occured, check variable names\n"
     ]
    }
   ],
   "source": [
    "a = \"Hello\"\n",
    "#b = 6\n",
    "c = \"World\"\n",
    "\n",
    "try:\n",
    "    print(a+b)\n",
    "except NameError:\n",
    "    print(\"Name Error occured, check variable names\")\n",
    "    \n",
    "except TypeError:\n",
    "    print(\"Value unacceptable\")"
   ]
  },
  {
   "cell_type": "markdown",
   "metadata": {},
   "source": [
    "3. Please define a function and with this function, generate a TypeError exception simply by entering a string instead of numerical value."
   ]
  },
  {
   "cell_type": "code",
   "execution_count": 9,
   "metadata": {},
   "outputs": [
    {
     "name": "stdout",
     "output_type": "stream",
     "text": [
      "HelloHello\n",
      "A string was given, not a number\n"
     ]
    }
   ],
   "source": [
    "def repeatHello(s):\n",
    "    try:\n",
    "        c = \"Hello\" * s\n",
    "        print(c)\n",
    "    except TypeError:\n",
    "        print(\"A string was given, not a number\")\n",
    "\n",
    "repeatHello(2)\n",
    "repeatHello(\"2\")"
   ]
  },
  {
   "cell_type": "markdown",
   "metadata": {},
   "source": [
    "4. Write a function called circumference that takes the diameter of a circle as input and produces the circumference of the circle. Your function should use try...except to check for a type error in the event a string is passed."
   ]
  },
  {
   "cell_type": "code",
   "execution_count": 10,
   "metadata": {},
   "outputs": [
    {
     "name": "stdout",
     "output_type": "stream",
     "text": [
      "12.566370614359172\n",
      "A string was given, not a number\n"
     ]
    }
   ],
   "source": [
    "import math\n",
    "def circumference(diameter):\n",
    "    try:\n",
    "        c = math.pi*diameter\n",
    "        print(c)\n",
    "    except TypeError:\n",
    "        print(\"A string was given, not a number\")\n",
    "        \n",
    "circumference(4)\n",
    "circumference(\"4\")"
   ]
  }
 ],
 "metadata": {
  "kernelspec": {
   "display_name": "Python 3 (ipykernel)",
   "language": "python",
   "name": "python3"
  },
  "language_info": {
   "codemirror_mode": {
    "name": "ipython",
    "version": 3
   },
   "file_extension": ".py",
   "mimetype": "text/x-python",
   "name": "python",
   "nbconvert_exporter": "python",
   "pygments_lexer": "ipython3",
   "version": "3.9.12"
  }
 },
 "nbformat": 4,
 "nbformat_minor": 4
}
