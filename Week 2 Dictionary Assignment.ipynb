{
 "cells": [
  {
   "cell_type": "markdown",
   "id": "ea64f28b",
   "metadata": {},
   "source": [
    "# Francis Yang 10/7/22\n",
    "## Dictionary Assignment\n",
    "1. Create a dictionary with 7 days. Ask the user to choose 2 different days by listing the (e.g. \"12\" for Monday and Tuesday). Delete the user-selected days from the dictionary and print the remaining 5 days on the screen."
   ]
  },
  {
   "cell_type": "code",
   "execution_count": 1,
   "id": "5ffda01c",
   "metadata": {},
   "outputs": [
    {
     "name": "stdout",
     "output_type": "stream",
     "text": [
      "{1: 'Monday', 2: 'Tuesday', 3: 'Wednesday', 4: 'Thursday', 5: 'Friday', 6: 'Saturday', 7: 'Sunday'}\n",
      "Enter a day as a number:2\n",
      "Enter another day as a number:5\n",
      "Remaining days  {1: 'Monday', 3: 'Wednesday', 4: 'Thursday', 6: 'Saturday', 7: 'Sunday'}\n"
     ]
    }
   ],
   "source": [
    "days = {1:\"Monday\",2:\"Tuesday\",3:\"Wednesday\",4:\"Thursday\",5:\"Friday\",6:\"Saturday\",7:\"Sunday\"}\n",
    "print(days)\n",
    "rmday1 = int(input(\"Enter a day as a number:\"))\n",
    "rmday2 = int(input(\"Enter another day as a number:\"))\n",
    "days.pop(rmday1)\n",
    "days.pop(rmday2)\n",
    "print(\"Remaining days \",days)"
   ]
  },
  {
   "cell_type": "markdown",
   "id": "5ae6dcba",
   "metadata": {},
   "source": [
    "2. Create a dictionary with the following personnel. Use names as keys.\n",
    "    * Michael (age: 20)\n",
    "    * Linda (age: 30)"
   ]
  },
  {
   "cell_type": "code",
   "execution_count": 2,
   "id": "24b9097c",
   "metadata": {},
   "outputs": [],
   "source": [
    "people = {\"Michael\":{'age':20},\"Linda\":{'age':30}}"
   ]
  },
  {
   "cell_type": "markdown",
   "id": "5bfbe93a",
   "metadata": {},
   "source": [
    "3. Add child information to Michael and Linda. Michael has two children (Karen (age : 12, female) and Greg (age : 7, male) and Linda has one child (Susan (age: 6, female))"
   ]
  },
  {
   "cell_type": "code",
   "execution_count": 3,
   "id": "b144de17",
   "metadata": {},
   "outputs": [],
   "source": [
    "people[\"Michael\"].update({\"children\":{\"Karen\":{\"age\":12,\"sex\":\"female\"},\"Greg\":{\"age\":7,\"sex\":\"male\"}}})\n",
    "people[\"Linda\"].update({\"children\":{\"Susan\":{\"age\":6,\"sex\":\"female\"}}})"
   ]
  },
  {
   "cell_type": "markdown",
   "id": "4a54cf9b",
   "metadata": {},
   "source": [
    "4. Print the names of Michael's children in a list."
   ]
  },
  {
   "cell_type": "code",
   "execution_count": 4,
   "id": "303c5e14",
   "metadata": {},
   "outputs": [
    {
     "name": "stdout",
     "output_type": "stream",
     "text": [
      "['Karen', 'Greg']\n"
     ]
    }
   ],
   "source": [
    "print(list(people[\"Michael\"][\"children\"]))"
   ]
  }
 ],
 "metadata": {
  "kernelspec": {
   "display_name": "Python 3 (ipykernel)",
   "language": "python",
   "name": "python3"
  },
  "language_info": {
   "codemirror_mode": {
    "name": "ipython",
    "version": 3
   },
   "file_extension": ".py",
   "mimetype": "text/x-python",
   "name": "python",
   "nbconvert_exporter": "python",
   "pygments_lexer": "ipython3",
   "version": "3.9.7"
  }
 },
 "nbformat": 4,
 "nbformat_minor": 5
}
