{
 "cells": [
  {
   "cell_type": "markdown",
   "id": "79fac742",
   "metadata": {},
   "source": [
    "# Project 1 A/B Test\n",
    "## Francis Yang 10/28/22\n",
    "**From prompt:**\n",
    "An advertising company has developed a new ad to have users engage with their questionnaire. The company has shown the new ad to some users and a dummy ad to others and wants their data analyst team to interpret the results. Does the new ad generate more responses to their questionnaire? Is it statistically significant? Is the company justified in using the new ad? \n",
    "\n",
    "A/B testing is common in the business world and is a way to compare two versions of something to figure out which performs better. Figuring out which ad users prefer is a real life business problem that would be expected to know how to solve as a business data analyst\n",
    "\n",
    "**Goal:** Identify statiscally significant difference in responses\n",
    "\n",
    "**Methods:**\n",
    "- z-test \n",
    "- Fisher exact test\n",
    "- correlation "
   ]
  },
  {
   "cell_type": "code",
   "execution_count": 1,
   "id": "8369a52f",
   "metadata": {},
   "outputs": [],
   "source": [
    "import pandas as pd\n",
    "import numpy as np\n",
    "import matplotlib as mpl\n",
    "import matplotlib.pyplot as plt\n",
    "%matplotlib inline\n",
    "\n",
    "data = pd.read_csv(\"datasets\\AdSmartABdata - AdSmartABdata.csv\")"
   ]
  },
  {
   "cell_type": "code",
   "execution_count": 2,
   "id": "50a84721",
   "metadata": {},
   "outputs": [
    {
     "data": {
      "text/html": [
       "<div>\n",
       "<style scoped>\n",
       "    .dataframe tbody tr th:only-of-type {\n",
       "        vertical-align: middle;\n",
       "    }\n",
       "\n",
       "    .dataframe tbody tr th {\n",
       "        vertical-align: top;\n",
       "    }\n",
       "\n",
       "    .dataframe thead th {\n",
       "        text-align: right;\n",
       "    }\n",
       "</style>\n",
       "<table border=\"1\" class=\"dataframe\">\n",
       "  <thead>\n",
       "    <tr style=\"text-align: right;\">\n",
       "      <th></th>\n",
       "      <th>auction_id</th>\n",
       "      <th>experiment</th>\n",
       "      <th>date</th>\n",
       "      <th>hour</th>\n",
       "      <th>device_make</th>\n",
       "      <th>platform_os</th>\n",
       "      <th>browser</th>\n",
       "      <th>yes</th>\n",
       "      <th>no</th>\n",
       "    </tr>\n",
       "  </thead>\n",
       "  <tbody>\n",
       "    <tr>\n",
       "      <th>0</th>\n",
       "      <td>0008ef63-77a7-448b-bd1e-075f42c55e39</td>\n",
       "      <td>exposed</td>\n",
       "      <td>2020-07-10</td>\n",
       "      <td>8</td>\n",
       "      <td>Generic Smartphone</td>\n",
       "      <td>6</td>\n",
       "      <td>Chrome Mobile</td>\n",
       "      <td>0</td>\n",
       "      <td>0</td>\n",
       "    </tr>\n",
       "    <tr>\n",
       "      <th>1</th>\n",
       "      <td>000eabc5-17ce-4137-8efe-44734d914446</td>\n",
       "      <td>exposed</td>\n",
       "      <td>2020-07-07</td>\n",
       "      <td>10</td>\n",
       "      <td>Generic Smartphone</td>\n",
       "      <td>6</td>\n",
       "      <td>Chrome Mobile</td>\n",
       "      <td>0</td>\n",
       "      <td>0</td>\n",
       "    </tr>\n",
       "    <tr>\n",
       "      <th>2</th>\n",
       "      <td>0016d14a-ae18-4a02-a204-6ba53b52f2ed</td>\n",
       "      <td>exposed</td>\n",
       "      <td>2020-07-05</td>\n",
       "      <td>2</td>\n",
       "      <td>E5823</td>\n",
       "      <td>6</td>\n",
       "      <td>Chrome Mobile WebView</td>\n",
       "      <td>0</td>\n",
       "      <td>1</td>\n",
       "    </tr>\n",
       "    <tr>\n",
       "      <th>3</th>\n",
       "      <td>00187412-2932-4542-a8ef-3633901c98d9</td>\n",
       "      <td>control</td>\n",
       "      <td>2020-07-03</td>\n",
       "      <td>15</td>\n",
       "      <td>Samsung SM-A705FN</td>\n",
       "      <td>6</td>\n",
       "      <td>Facebook</td>\n",
       "      <td>0</td>\n",
       "      <td>0</td>\n",
       "    </tr>\n",
       "    <tr>\n",
       "      <th>4</th>\n",
       "      <td>001a7785-d3fe-4e11-a344-c8735acacc2c</td>\n",
       "      <td>control</td>\n",
       "      <td>2020-07-03</td>\n",
       "      <td>15</td>\n",
       "      <td>Generic Smartphone</td>\n",
       "      <td>6</td>\n",
       "      <td>Chrome Mobile</td>\n",
       "      <td>0</td>\n",
       "      <td>0</td>\n",
       "    </tr>\n",
       "  </tbody>\n",
       "</table>\n",
       "</div>"
      ],
      "text/plain": [
       "                             auction_id experiment        date  hour  \\\n",
       "0  0008ef63-77a7-448b-bd1e-075f42c55e39    exposed  2020-07-10     8   \n",
       "1  000eabc5-17ce-4137-8efe-44734d914446    exposed  2020-07-07    10   \n",
       "2  0016d14a-ae18-4a02-a204-6ba53b52f2ed    exposed  2020-07-05     2   \n",
       "3  00187412-2932-4542-a8ef-3633901c98d9    control  2020-07-03    15   \n",
       "4  001a7785-d3fe-4e11-a344-c8735acacc2c    control  2020-07-03    15   \n",
       "\n",
       "          device_make  platform_os                browser  yes  no  \n",
       "0  Generic Smartphone            6          Chrome Mobile    0   0  \n",
       "1  Generic Smartphone            6          Chrome Mobile    0   0  \n",
       "2               E5823            6  Chrome Mobile WebView    0   1  \n",
       "3   Samsung SM-A705FN            6               Facebook    0   0  \n",
       "4  Generic Smartphone            6          Chrome Mobile    0   0  "
      ]
     },
     "execution_count": 2,
     "metadata": {},
     "output_type": "execute_result"
    }
   ],
   "source": [
    "data.head()"
   ]
  },
  {
   "cell_type": "code",
   "execution_count": 3,
   "id": "10edb669",
   "metadata": {},
   "outputs": [
    {
     "name": "stdout",
     "output_type": "stream",
     "text": [
      "<class 'pandas.core.frame.DataFrame'>\n",
      "RangeIndex: 8077 entries, 0 to 8076\n",
      "Data columns (total 9 columns):\n",
      " #   Column       Non-Null Count  Dtype \n",
      "---  ------       --------------  ----- \n",
      " 0   auction_id   8077 non-null   object\n",
      " 1   experiment   8077 non-null   object\n",
      " 2   date         8077 non-null   object\n",
      " 3   hour         8077 non-null   int64 \n",
      " 4   device_make  8077 non-null   object\n",
      " 5   platform_os  8077 non-null   int64 \n",
      " 6   browser      8077 non-null   object\n",
      " 7   yes          8077 non-null   int64 \n",
      " 8   no           8077 non-null   int64 \n",
      "dtypes: int64(4), object(5)\n",
      "memory usage: 568.0+ KB\n"
     ]
    }
   ],
   "source": [
    "data.info()"
   ]
  },
  {
   "cell_type": "markdown",
   "id": "d089a5b3",
   "metadata": {},
   "source": [
    "## Columns Description\n",
    "\n",
    "-    **auction_id**: the unique id of the online user who has been presented the BIO. In standard terminologies this is called an impression id. The user may see the BIO questionnaire but choose not to respond. In that case both the yes and no columns are zero.\n",
    "\n",
    "-    **experiment**: which group the user belongs to - control or exposed.\n",
    "        - **control**: users who have been shown a dummy ad\n",
    "        - **exposed**: users who have been shown a creative, an online interactive ad, with the SmartAd brand. \n",
    "\n",
    "-    **date**: the date in YYYY-MM-DD format\n",
    "\n",
    "-    **hour**: the hour of the day in HH format.\n",
    "\n",
    "-    **device_make**: the name of the type of device the user has e.g. Samsung\n",
    "\n",
    "-    **platform_os**: the id of the OS the user has.\n",
    "\n",
    "-    **browser**: the name of the browser the user uses to see the BIO questionnaire.\n",
    "\n",
    "-    **yes**: 1 if the user chooses the “Yes” radio button for the BIO questionnaire.\n",
    "\n",
    "-    **no**: 1 if the user chooses the “No” radio button for the BIO questionnaire.\n"
   ]
  },
  {
   "cell_type": "markdown",
   "id": "1e9a2e10",
   "metadata": {},
   "source": [
    "## Visualizations\n",
    "### Split dataset into control and exposed groups"
   ]
  },
  {
   "cell_type": "code",
   "execution_count": 4,
   "id": "6a6bc2ae",
   "metadata": {
    "scrolled": true
   },
   "outputs": [
    {
     "name": "stdout",
     "output_type": "stream",
     "text": [
      "Size of group A is (4071, 9)\n",
      "Size of group B is (4006, 9)\n"
     ]
    }
   ],
   "source": [
    "A = data[data[\"experiment\"] == \"control\"]\n",
    "B = data[data[\"experiment\"] == \"exposed\"]\n",
    "print(f\"Size of group A is {A.shape}\")\n",
    "print(f\"Size of group B is {B.shape}\")"
   ]
  },
  {
   "cell_type": "markdown",
   "id": "25019007",
   "metadata": {},
   "source": [
    "Sample imbalance present, but not that big"
   ]
  },
  {
   "cell_type": "markdown",
   "id": "355b09de",
   "metadata": {},
   "source": [
    "### Analysis of Individual Groups"
   ]
  },
  {
   "cell_type": "code",
   "execution_count": 5,
   "id": "bb2938ee",
   "metadata": {},
   "outputs": [
    {
     "data": {
      "image/png": "[encoded data removed]",
      "text/plain": [
       "<Figure size 864x720 with 2 Axes>"
      ]
     },
     "metadata": {
      "needs_background": "light"
     },
     "output_type": "display_data"
    }
   ],
   "source": [
    "Bcolor=\"firebrick\" #for plotting\n",
    "plt.figure(figsize=(12,10))\n",
    "plt.subplot(2,1,1)\n",
    "plt.hist(A.sort_values(\"date\").date,bins=7)\n",
    "plt.xlabel(\"Date\")\n",
    "plt.ylabel(\"Record Count\")\n",
    "plt.title(\"Response Date Distribution\")\n",
    "plt.legend(labels=[\"Control Group\"])\n",
    "plt.subplot(2,1,2)\n",
    "plt.hist(B.sort_values(\"date\").date,bins=7,color=Bcolor)\n",
    "plt.xlabel(\"Date\")\n",
    "plt.ylabel(\"Record Count\")\n",
    "plt.legend(labels=[\"Exposed Group\"]);"
   ]
  },
  {
   "cell_type": "markdown",
   "id": "696760fa",
   "metadata": {},
   "source": [
    "Date of responses are somewhat imbalanced. May suggest difference in day to day response within group."
   ]
  },
  {
   "cell_type": "code",
   "execution_count": 6,
   "id": "390fead0",
   "metadata": {},
   "outputs": [
    {
     "data": {
      "image/png": "[encoded data removed]",
      "text/plain": [
       "<Figure size 864x720 with 2 Axes>"
      ]
     },
     "metadata": {
      "needs_background": "light"
     },
     "output_type": "display_data"
    }
   ],
   "source": [
    "plt.figure(figsize=(12, 10))\n",
    "plt.subplot(2, 1, 1)\n",
    "plt.hist(A.sort_values(\"hour\").hour, bins=range(0,25,1))\n",
    "plt.xticks(range(0,25,3))\n",
    "plt.xlabel(\"Hour\")\n",
    "plt.ylabel(\"Record Count\")\n",
    "plt.title(\"Response Time Distribution\")\n",
    "plt.legend(labels=[\"Control Group\"]);\n",
    "plt.subplot(2, 1, 2)\n",
    "plt.hist(B.sort_values(\"hour\").hour, color=Bcolor, bins=range(0,25,1))\n",
    "plt.xlabel(\"Hour\")\n",
    "plt.ylabel(\"Record Count\")\n",
    "plt.xticks(range(0,25,3))\n",
    "plt.legend(labels=[\"Exposed Group\"]);"
   ]
  },
  {
   "cell_type": "markdown",
   "id": "077990f7",
   "metadata": {},
   "source": [
    "Responses from Exposed group is more normally distributed than Control group. May suggest habitual bias in Control group responses, in terms of social media activity."
   ]
  },
  {
   "cell_type": "code",
   "execution_count": 7,
   "id": "e668dacf",
   "metadata": {},
   "outputs": [],
   "source": [
    "dev_A = A.device_make.value_counts().to_frame()\n",
    "dev_A.rename(columns={\"device_make\": \"count_A\"}, inplace=True)\n",
    "dev_A.reset_index(level=0, inplace=True)\n",
    "\n",
    "dev_B = B.device_make.value_counts().to_frame()\n",
    "dev_B.rename(columns={\"device_make\": \"count_B\"}, inplace=True)\n",
    "dev_B.reset_index(level=0, inplace=True)"
   ]
  },
  {
   "cell_type": "code",
   "execution_count": 8,
   "id": "e4ba2656",
   "metadata": {},
   "outputs": [
    {
     "name": "stdout",
     "output_type": "stream",
     "text": [
      "A: (168, 2) B: (217, 2) Total: (269, 3)\n"
     ]
    },
    {
     "data": {
      "text/plain": [
       "index  count_A  count_B\n",
       "False  False    False      116\n",
       "       True     False      101\n",
       "       False    True        52\n",
       "dtype: int64"
      ]
     },
     "execution_count": 8,
     "metadata": {},
     "output_type": "execute_result"
    }
   ],
   "source": [
    "device = dev_A.merge(dev_B, how=\"outer\", on='index')\n",
    "print(\"A:\",dev_A.shape,\"B:\",dev_B.shape,\"Total:\",device.shape)\n",
    "device.isna().value_counts()"
   ]
  },
  {
   "cell_type": "markdown",
   "id": "203f64d6",
   "metadata": {},
   "source": [
    "Output of `value_counts()` confirms outer join completed successfully."
   ]
  },
  {
   "cell_type": "code",
   "execution_count": 9,
   "id": "50745b3d",
   "metadata": {},
   "outputs": [
    {
     "data": {
      "image/png": "[encoded data removed]",
      "text/plain": [
       "<Figure size 864x360 with 1 Axes>"
      ]
     },
     "metadata": {
      "needs_background": "light"
     },
     "output_type": "display_data"
    }
   ],
   "source": [
    "plt.figure(figsize=(12, 5))\n",
    "width = 0.3\n",
    "labels = device[\"index\"][:10].to_list()\n",
    "plt.xticks(range(10), labels,rotation=45)\n",
    "plt.bar(device.index[:10]-width/2, device.count_A[:10], width=width)\n",
    "plt.bar(device.index[:10]+width/2, device.count_B[:10], width=width, color=Bcolor)\n",
    "plt.ylabel(\"Count\")\n",
    "plt.title(\"User Count of Top 10 Devices\")\n",
    "plt.legend([\"Control\",\"Exposed\"]);"
   ]
  },
  {
   "cell_type": "markdown",
   "id": "5a7b5a65",
   "metadata": {},
   "source": [
    "Personally, I don't think the device affects decision making, but here is a visualization of the top 10 devices people used to take the survey."
   ]
  },
  {
   "cell_type": "code",
   "execution_count": 10,
   "id": "024d0dd1",
   "metadata": {},
   "outputs": [
    {
     "data": {
      "text/plain": [
       "experiment  platform_os\n",
       "control     5               308\n",
       "            6              3763\n",
       "exposed     5               120\n",
       "            6              3885\n",
       "            7                 1\n",
       "dtype: int64"
      ]
     },
     "metadata": {},
     "output_type": "display_data"
    }
   ],
   "source": [
    "OS = data.groupby(['experiment', \"platform_os\"]).size()\n",
    "display(OS)"
   ]
  },
  {
   "cell_type": "markdown",
   "id": "ae0b97ff",
   "metadata": {},
   "source": [
    "Sample size imbalance for OS version 5 and 7, not that much for 6."
   ]
  },
  {
   "cell_type": "code",
   "execution_count": 11,
   "id": "fad82032",
   "metadata": {
    "scrolled": true
   },
   "outputs": [
    {
     "name": "stdout",
     "output_type": "stream",
     "text": [
      "A: (12, 2) B: (12, 2) Total: (15, 3)\n"
     ]
    },
    {
     "data": {
      "text/plain": [
       "index  count_A  count_B\n",
       "False  False    False      9\n",
       "                True       3\n",
       "       True     False      3\n",
       "dtype: int64"
      ]
     },
     "execution_count": 11,
     "metadata": {},
     "output_type": "execute_result"
    }
   ],
   "source": [
    "bro_A = A.browser.value_counts().to_frame()\n",
    "bro_A.rename(columns={\"browser\": \"count_A\"}, inplace=True)\n",
    "bro_A.reset_index(level=0, inplace=True)\n",
    "\n",
    "bro_B = B.browser.value_counts().to_frame()\n",
    "bro_B.rename(columns={\"browser\": \"count_B\"}, inplace=True)\n",
    "bro_B.reset_index(level=0, inplace=True)\n",
    "\n",
    "browser = bro_A.merge(bro_B, how=\"outer\", on='index')\n",
    "print(\"A:\", bro_A.shape, \"B:\", bro_B.shape, \"Total:\", browser.shape)\n",
    "browser.isna().value_counts()\n",
    "# There is possibly an easier way to make the data for the graph using groupby but I couldn't even\n",
    "# browser = data.groupby([\"experiment\", \"browser\"]).size().to_frame()\n",
    "# browser.rename(columns={0:\"counts\"}, inplace=True)\n",
    "# browser"
   ]
  },
  {
   "cell_type": "code",
   "execution_count": 12,
   "id": "ba14f2bb",
   "metadata": {
    "scrolled": false
   },
   "outputs": [
    {
     "data": {
      "image/png": "[encoded data removed]",
      "text/plain": [
       "<Figure size 864x360 with 1 Axes>"
      ]
     },
     "metadata": {
      "needs_background": "light"
     },
     "output_type": "display_data"
    }
   ],
   "source": [
    "plt.figure(figsize=(12, 5))\n",
    "width = 0.4\n",
    "top = 8\n",
    "labels = browser[\"index\"][:top].to_list()\n",
    "plt.xticks(range(top), labels,rotation=\"vertical\")\n",
    "plt.bar(browser.index[:top]-width/2, browser.count_A[:top], width=width)\n",
    "plt.bar(browser.index[:top]+width/2, browser.count_B[:top], width=width, color=Bcolor)\n",
    "plt.ylabel(\"Users\")\n",
    "plt.title(f\"User Count of Top {top} Browsers\")\n",
    "plt.legend([\"Control\",\"Exposed\"], loc=\"upper right\");"
   ]
  },
  {
   "cell_type": "markdown",
   "id": "2a0a1648",
   "metadata": {},
   "source": [
    "I don't expect the type of browser to affect how people respond to the survey."
   ]
  },
  {
   "cell_type": "code",
   "execution_count": 13,
   "id": "ad10057a",
   "metadata": {},
   "outputs": [
    {
     "name": "stdout",
     "output_type": "stream",
     "text": [
      "------  All  ------- A: (4071, 9) B: (4006, 9)\n",
      "----Y/N Response---- A: (586, 9)  B: (657, 9)\n",
      "----Response Rate--- A: 14.39%    B: 16.40% \n"
     ]
    }
   ],
   "source": [
    "active_A = A.loc[(A['yes'] == 1) | (A['no'] == 1)]\n",
    "active_B = B.loc[(B['yes'] == 1) | (B['no'] == 1)]\n",
    "rpr_A = active_A.shape[0]/A.shape[0]*100\n",
    "rpr_B = active_B.shape[0]/B.shape[0]*100\n",
    "print(\"------  All  ------- A:\", A.shape, \"B:\", B.shape)\n",
    "print(\"----Y/N Response---- A:\", active_A.shape, \" B:\", active_B.shape)\n",
    "print(\"----Response Rate--- A: {0:.2f}%    B: {1:.2f}% \".format(rpr_A, rpr_B))"
   ]
  },
  {
   "cell_type": "markdown",
   "id": "e25e5311",
   "metadata": {},
   "source": [
    "There is a surprisingly large amount of people who didn't answer the survey in both Control and Exposed groups. This affects sample size for comparisons, such that pairwise comparison is less of an option."
   ]
  },
  {
   "cell_type": "markdown",
   "id": "d7981ed3",
   "metadata": {},
   "source": [
    "## Statistical Tests\n",
    "$$\n",
    "  \\begin{cases}\n",
    "    H_0:& p_{con}=p_{exp}\\\\\n",
    "    H_1: &p_{con}\\neq p_{exp}\n",
    "\\end{cases}\n",
    "$$\n",
    "\n",
    "For each exposure: Null hypothesis would be amount of yes votes equal to no votes. Alternative is number of votes are different <br>\n",
    "Between exposures: Null hypothesis would be proportion of yes or no votes is the same in both groups. Alternative is the proportions are different\n",
    "### Z-Test\n",
    "To compare exposure we would compare the ratio of yes votes between control and exposed groups which is called a 2-sample Z-Test for comparing proportions. This could also be done for no votes. Sample size is relatively large, otherwise a T-test would be used.\n"
   ]
  },
  {
   "cell_type": "code",
   "execution_count": 14,
   "id": "9eade611",
   "metadata": {},
   "outputs": [
    {
     "name": "stdout",
     "output_type": "stream",
     "text": [
      "Test Statistics stat:  -0.645680181221037\n",
      "Z-critical:  1.959963984540054\n",
      "P_value:  1.4815135017801033\n",
      "Confidence Interval of 2 sample Z-test for proportions:  [-0.07  0.04]\n"
     ]
    },
    {
     "data": {
      "image/png": "[encoded data removed]",
      "text/plain": [
       "<Figure size 432x288 with 1 Axes>"
      ]
     },
     "metadata": {
      "needs_background": "light"
     },
     "output_type": "display_data"
    }
   ],
   "source": [
    "from scipy.stats import norm\n",
    "\n",
    "y_active_A = active_A.loc[(A['yes'] == 1)].shape[0]\n",
    "n_active_A = active_A.loc[(A['no'] == 1)].shape[0]\n",
    "total_active_A = active_A.shape[0]\n",
    "y_active_B = active_B.loc[(B['yes'] == 1)].shape[0]\n",
    "n_active_B= active_B.loc[(B['no'] == 1)].shape[0]\n",
    "total_active_B = active_B.shape[0]\n",
    "\n",
    "pcon = y_active_A/total_active_A\n",
    "pexp = y_active_B/total_active_B\n",
    "\n",
    "ppool = (y_active_A+y_active_B)/(total_active_A+total_active_B)\n",
    "spool = ppool*(1-ppool)*((1/total_active_A)+(1/total_active_B))\n",
    "\n",
    "Z = (pcon-pexp)/np.sqrt(spool)\n",
    "\n",
    "# Significance Level\n",
    "alpha = 0.05\n",
    "\n",
    "# Standard Error\n",
    "SE = np.sqrt(spool)\n",
    "\n",
    "# test statsitics\n",
    "Test_stat = (pcon - pexp)/SE\n",
    "# critical value usig the standard normal distribution\n",
    "Z_crit = norm.ppf(1-alpha/2)\n",
    "\n",
    "# Margin of error\n",
    "m = SE * Z_crit\n",
    "# two sided test and using symmetry property of Normal distibution so we multiple with 2\n",
    "p_value = norm.sf(Test_stat)*2\n",
    "\n",
    "# Confidence Interval\n",
    "CI = [(pcon-pexp) - SE * Z_crit, (pcon-pexp) + SE * Z_crit]\n",
    "\n",
    "if np.abs(Test_stat) >= Z_crit:\n",
    "    print(\"reject the null\")\n",
    "    print(p_value)\n",
    "\n",
    "print(\"Test Statistics stat: \", Test_stat)\n",
    "print(\"Z-critical: \", Z_crit)\n",
    "print(\"P_value: \", p_value)\n",
    "print(\"Confidence Interval of 2 sample Z-test for proportions: \", np.round(CI,2))\n",
    "\n",
    "import matplotlib.pyplot as plt\n",
    "z = np.arange(-3,3,  0.1)\n",
    "plt.plot(z, norm.pdf(z), label = 'Standard Normal Distribution',linewidth = 2.5)\n",
    "plt.fill_between(z[z>Z_crit], norm.pdf(z[z>Z_crit]), label = 'Right Rejection Region',color ='y' )\n",
    "plt.fill_between(z[z<(-1)*Z_crit], norm.pdf(z[z<(-1)*Z_crit]), label = 'Left Rejection Region',color ='y' )\n",
    "plt.title(\"Two Sample Z-test rejection region\")\n",
    "plt.legend()\n",
    "plt.show()"
   ]
  },
  {
   "cell_type": "markdown",
   "id": "b7b9ca2c",
   "metadata": {},
   "source": [
    "After conducting a Z-test for comparing proportions, we fail to reject the null hyposthesis. This means the amount of yes votes in the control group is equal/proportionate to the amount of yes votes in the exposed group and that they come from the same distribution.\n",
    "\n",
    "### Fisher Exact"
   ]
  },
  {
   "cell_type": "code",
   "execution_count": 17,
   "id": "2a95b9e1",
   "metadata": {},
   "outputs": [
    {
     "name": "stdout",
     "output_type": "stream",
     "text": [
      "p_value: 0.5309716576383721\n",
      "Result: No significant difference\n"
     ]
    }
   ],
   "source": [
    "from scipy.stats import fisher_exact\n",
    "\n",
    "# 2x2 Matrix\n",
    "fd = pd.DataFrame({\"A\":[y_active_A,n_active_A],\"B\":[y_active_B,n_active_B]}, index=['yes','no'])\n",
    "\n",
    "odds_ratio, p_value = fisher_exact(fd)\n",
    "\n",
    "if p_value < 0.05:\n",
    "    print(f'p_value: {p_value}\\nResult: There is a significant difference')\n",
    "else:\n",
    "    print(f'p_value: {p_value}\\nResult: No significant difference')\n"
   ]
  },
  {
   "cell_type": "markdown",
   "id": "95d28527",
   "metadata": {},
   "source": [
    "Similar to the outcome of the 2-sample Z-Test, Fisher's Exact Test results say there is no significant difference in yes responses between the control and exposed groups. "
   ]
  },
  {
   "cell_type": "code",
   "execution_count": 19,
   "id": "af204c9b",
   "metadata": {},
   "outputs": [
    {
     "data": {
      "text/html": [
       "<div>\n",
       "<style scoped>\n",
       "    .dataframe tbody tr th:only-of-type {\n",
       "        vertical-align: middle;\n",
       "    }\n",
       "\n",
       "    .dataframe tbody tr th {\n",
       "        vertical-align: top;\n",
       "    }\n",
       "\n",
       "    .dataframe thead th {\n",
       "        text-align: right;\n",
       "    }\n",
       "</style>\n",
       "<table border=\"1\" class=\"dataframe\">\n",
       "  <thead>\n",
       "    <tr style=\"text-align: right;\">\n",
       "      <th></th>\n",
       "      <th>A</th>\n",
       "      <th>B</th>\n",
       "    </tr>\n",
       "  </thead>\n",
       "  <tbody>\n",
       "    <tr>\n",
       "      <th>yes</th>\n",
       "      <td>264</td>\n",
       "      <td>308</td>\n",
       "    </tr>\n",
       "    <tr>\n",
       "      <th>no</th>\n",
       "      <td>322</td>\n",
       "      <td>349</td>\n",
       "    </tr>\n",
       "  </tbody>\n",
       "</table>\n",
       "</div>"
      ],
      "text/plain": [
       "       A    B\n",
       "yes  264  308\n",
       "no   322  349"
      ]
     },
     "execution_count": 19,
     "metadata": {},
     "output_type": "execute_result"
    }
   ],
   "source": [
    "fd"
   ]
  },
  {
   "cell_type": "markdown",
   "id": "6a132a75",
   "metadata": {},
   "source": [
    "## Conclusion\n",
    "\n",
    "Based on the statistical tests, there is no significant difference in response between the 2 advertisements. In both groups, there was a majority \"no\" response, however, it is unclear what the question in the survey was. My guess is that the sample population disliked something in the advertisements. One area of improvement for the study could be increasig the follow through rate of people who opened the survey, but didn't answer. This could be done by offering incentive to complete the survey."
   ]
  }
 ],
 "metadata": {
  "kernelspec": {
   "display_name": "Python 3 (ipykernel)",
   "language": "python",
   "name": "python3"
  },
  "language_info": {
   "codemirror_mode": {
    "name": "ipython",
    "version": 3
   },
   "file_extension": ".py",
   "mimetype": "text/x-python",
   "name": "python",
   "nbconvert_exporter": "python",
   "pygments_lexer": "ipython3",
   "version": "3.9.12"
  }
 },
 "nbformat": 4,
 "nbformat_minor": 5
}
