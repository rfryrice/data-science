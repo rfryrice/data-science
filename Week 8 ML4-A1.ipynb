{
 "cells": [
  {
   "cell_type": "markdown",
   "id": "76a85cc9",
   "metadata": {},
   "source": [
    "# Week 8 Module 4 Assignment 1\n",
    "## Francis Yang 11/25/2022\n",
    "* Import digits data set from Scikitlearn datasets library. Use load_digits(). When loaded, the dataset comes with data and target values.\n",
    "* Assign data to X and target to y\n",
    "* Check the shape of the data\n",
    "* Use np.bincount to print the number of uniqe elements of the target vriable y\n",
    "* Split data into train and test datasets. Use stratification when splitting. You can set your random_state to 42\n",
    "* Normalize your dataset. When normalizing, simply divide your dataset by the maximum of the train dataset. To find the maximum, use `max()`"
   ]
  },
  {
   "cell_type": "code",
   "execution_count": 8,
   "id": "7fe1e4bd",
   "metadata": {},
   "outputs": [
    {
     "name": "stdout",
     "output_type": "stream",
     "text": [
      "(1797, 64) (1797,)\n"
     ]
    }
   ],
   "source": [
    "from sklearn.linear_model import LogisticRegression\n",
    "from sklearn.model_selection import train_test_split\n",
    "from sklearn.preprocessing import StandardScaler\n",
    "from sklearn.datasets import load_digits\n",
    "from sklearn.neighbors import KNeighborsClassifier\n",
    "import numpy as np\n",
    "\n",
    "data = load_digits()\n",
    "X = data.data\n",
    "y = data.target\n",
    "\n",
    "print(X.shape,y.shape)"
   ]
  },
  {
   "cell_type": "code",
   "execution_count": 10,
   "id": "3e750165",
   "metadata": {},
   "outputs": [
    {
     "data": {
      "text/plain": [
       "array([0, 1, 2, 3, 4, 5, 6, 7, 8, 9])"
      ]
     },
     "execution_count": 10,
     "metadata": {},
     "output_type": "execute_result"
    }
   ],
   "source": [
    "np.unique(y)"
   ]
  },
  {
   "cell_type": "code",
   "execution_count": 9,
   "id": "4141afee",
   "metadata": {},
   "outputs": [
    {
     "data": {
      "text/plain": [
       "array([178, 182, 177, 183, 181, 182, 181, 179, 174, 180], dtype=int64)"
      ]
     },
     "execution_count": 9,
     "metadata": {},
     "output_type": "execute_result"
    }
   ],
   "source": [
    "np.bincount(y)"
   ]
  },
  {
   "cell_type": "markdown",
   "id": "bdf29982",
   "metadata": {},
   "source": [
    "Values from `bincount` corrsepond to number of 0,1,2,etc."
   ]
  },
  {
   "cell_type": "code",
   "execution_count": 11,
   "id": "e073268d",
   "metadata": {},
   "outputs": [
    {
     "data": {
      "text/plain": [
       "0.8088888888888889"
      ]
     },
     "execution_count": 11,
     "metadata": {},
     "output_type": "execute_result"
    }
   ],
   "source": [
    "X_train, X_test, y_train, y_test = train_test_split(X, y, random_state=42)\n",
    "X_train = X_train/np.max(X_train)\n",
    "knn = KNeighborsClassifier()\n",
    "\n",
    "knn.fit(X_train, y_train)\n",
    "knn.score(X_test, y_test)"
   ]
  }
 ],
 "metadata": {
  "kernelspec": {
   "display_name": "Python 3 (ipykernel)",
   "language": "python",
   "name": "python3"
  },
  "language_info": {
   "codemirror_mode": {
    "name": "ipython",
    "version": 3
   },
   "file_extension": ".py",
   "mimetype": "text/x-python",
   "name": "python",
   "nbconvert_exporter": "python",
   "pygments_lexer": "ipython3",
   "version": "3.9.12"
  }
 },
 "nbformat": 4,
 "nbformat_minor": 5
}
