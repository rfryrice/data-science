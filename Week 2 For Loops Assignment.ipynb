{
 "cells": [
  {
   "cell_type": "markdown",
   "metadata": {},
   "source": [
    "# Francis Yang 10/7/2022\n",
    "## For Loops Assignment\n",
    "1. Do the following to create a program that simulates how websites ensure that everyone has a unique username.\n",
    "    *\tMake a list of five or more usernames called `current_users`.\n",
    "    *\tMake another list of five usernames called `new_users`. Make sure one or two of the new usernames are also in the `current_users` list.\n",
    "    *\tLoop through the `new_users` list to see if each new username has already been used. If it has, print a message that the person will need to enter a new username. If a username has not been used, print a message saying that the username is available.\n",
    "    *\tMake sure your comparison is case insensitive. If 'John' has been used, 'JOHN' should not be accepted.\n"
   ]
  },
  {
   "cell_type": "code",
   "execution_count": 1,
   "metadata": {},
   "outputs": [
    {
     "name": "stdout",
     "output_type": "stream",
     "text": [
      "John will need to enter a new username\n",
      "James will need to enter a new username\n"
     ]
    }
   ],
   "source": [
    "current_users = ['James','George','John','Thomas','Andrew']\n",
    "# lower case input\n",
    "new_users = ['John','James','Franklin','Grover','William']\n",
    "for name in new_users:\n",
    "    name = name.lower()\n",
    "    for checkname in current_users:\n",
    "        checkname = checkname.lower()\n",
    "        if name == checkname:\n",
    "            print(name.capitalize(),\"will need to enter a new username\")\n",
    "            break"
   ]
  },
  {
   "cell_type": "markdown",
   "metadata": {},
   "source": [
    "2. Color probability\n",
    "You're playing a game with a friend involving a bag of marbles. In the bag are 10 marbles\\:\n",
    "    *\t1 smooth red marble\n",
    "    *\t4 bumpy red marbles\n",
    "    *\t2 bumpy yellow marbles\n",
    "    *\t1 smooth yellow marble\n",
    "    *\t1 bumpy green marble\n",
    "    *\t1 smooth green marble\n",
    "    \n",
    "You can see that the probability of picking a smooth red marble from the bag is 1 / 10 or 0.10 and the probability of picking a bumpy yellow marble is 2 / 10 or 0.20. <br><br>\n",
    "The game works like this: your friend puts her hand in the bag, chooses a marble (without looking at it) and tells you whether it's bumpy or smooth. Then you have to guess which color it is before she pulls it out and reveals whether you're correct or not.<br><br>\n",
    "You know that the information about whether the marble is bumpy or smooth changes the probability of what color it is, and you want some help with your guesses.<br><br>\n",
    "Write a function color_probability that takes two arguments: a color ('red', 'yellow', or 'green') and a texture ('bumpy' or 'smooth') and returns the probability of drawing that combination as a decimal fraction accurate to two places.<br><br>\n",
    "The probability should be a string and should discard any digits after the 100ths place. For example, 2 / 3 or 0.6666666666666666 would become the string '0.66'. Note this is different from rounding.<br><br>\n",
    "As a complete example, color_probability('red', 'bumpy') should return the string '0.57'.\n"
   ]
  },
  {
   "cell_type": "code",
   "execution_count": 2,
   "metadata": {},
   "outputs": [
    {
     "name": "stdout",
     "output_type": "stream",
     "text": [
      "0.33\n",
      "0.57\n"
     ]
    }
   ],
   "source": [
    "def color_probability(color,surface):\n",
    "    marbles = {\"bumpy\":{\"red\":4,\"yellow\":2,\"green\":1},\"smooth\":{\"red\":1,\"yellow\":1,\"green\":1}}\n",
    "    if surface == \"bumpy\":\n",
    "        prb = marbles[surface][color]/7\n",
    "    else:\n",
    "        prb = 1/3\n",
    "    print(f\"{prb:.2f}\")\n",
    "\n",
    "color_probability('red','smooth')\n",
    "color_probability('red','bumpy')"
   ]
  },
  {
   "cell_type": "markdown",
   "metadata": {},
   "source": [
    "3. Write an if-elif-else chain that determines a person’s stage of life. Set a value for the variable `age`, and then:\n",
    "    *\tIf the person is less than 2 years old, print a message that the person is a baby.\n",
    "    *\tIf the person is at least 2 years old but less than 4, print a message that the person is a toddler.\n",
    "    *\tIf the person is at least 4 years old but less than 13, print a message that the person is a kid.\n",
    "    *\tIf the person is at least 13 years old but less than 20, print a message that the person is a teenager.\n",
    "    *\tIf the person is at least 20 years old but less than 65, print a message that the person is an adult.\n",
    "    *\tIf the person is age 65 or older, print a message that the person is an elder.\n",
    "\n"
   ]
  },
  {
   "cell_type": "code",
   "execution_count": 3,
   "metadata": {},
   "outputs": [
    {
     "name": "stdout",
     "output_type": "stream",
     "text": [
      "Enter age of a person:5\n",
      "That person is a kid\n"
     ]
    }
   ],
   "source": [
    "age = int(input(\"Enter age of a person:\"))\n",
    "\n",
    "if age < 2:\n",
    "    print(\"That person is a baby\")\n",
    "elif age >= 2 and age < 4:\n",
    "    print(\"That person is a toddler\")\n",
    "elif age >= 4 and age < 13:\n",
    "    print(\"That person is a kid\")\n",
    "elif age >= 13 and age < 20:\n",
    "    print(\"That person is a teenager\")\n",
    "elif age >= 20 and age < 65:\n",
    "    print(\"That person is a adult\")\n",
    "else:\n",
    "    print(\"That person is an elder\")"
   ]
  }
 ],
 "metadata": {
  "kernelspec": {
   "display_name": "Python 3",
   "language": "python",
   "name": "python3"
  },
  "language_info": {
   "codemirror_mode": {
    "name": "ipython",
    "version": 3
   },
   "file_extension": ".py",
   "mimetype": "text/x-python",
   "name": "python",
   "nbconvert_exporter": "python",
   "pygments_lexer": "ipython3",
   "version": "3.7.6"
  }
 },
 "nbformat": 4,
 "nbformat_minor": 4
}
