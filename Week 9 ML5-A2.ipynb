{
 "cells": [
  {
   "cell_type": "markdown",
   "id": "da4097db",
   "metadata": {},
   "source": [
    "# Week 9 Module 5 Assignment 2\n",
    "## Francis Yang 12/12/2022\n",
    "1. Load Dataset\n",
    "\n",
    "    * Load the prime_indians_diabetes dataset\n",
    "    * Check the first five samples. Are there any categorical features?\n",
    "    * Is this a classification or regression problem?\n",
    "    * Check the columns of the dataset\n",
    "\n",
    "There are 8 input variables and 1 output variable. Missing values are believed to be encoded with zero values. The variable names are as follows:\n",
    "\n",
    "   * Number of times pregnant.\n",
    "   * Plasma glucose concentration a 2 hours in an oral glucose tolerance test.\n",
    "   * Diastolic blood pressure (mm Hg).\n",
    "   * Triceps skinfold thickness (mm).\n",
    "   * 2-Hour serum insulin (mu U/ml).\n",
    "   * Body mass index (weight in kg/(height in m)^2).\n",
    "   * Diabetes pedigree function.\n",
    "   * Age (years).\n",
    "   * Class variable (0 or 1)."
   ]
  },
  {
   "cell_type": "code",
   "execution_count": 1,
   "id": "79965fa5",
   "metadata": {},
   "outputs": [],
   "source": [
    "import numpy as np\n",
    "import pandas as pd\n",
    "import matplotlib.pyplot as plt\n",
    "\n",
    "%matplotlib inline\n",
    "\n",
    "from sklearn.model_selection import train_test_split\n",
    "from sklearn.ensemble import RandomForestClassifier\n",
    "from sklearn.metrics import accuracy_score\n",
    "from sklearn.preprocessing import StandardScaler, MinMaxScaler\n",
    "from sklearn.impute import SimpleImputer\n",
    "from sklearn.pipeline import Pipeline\n",
    "from sklearn.compose import ColumnTransformer\n",
    "\n",
    "from matplotlib import rcParams\n",
    "import warnings\n",
    "\n",
    "warnings.filterwarnings(\"ignore\")\n",
    "\n",
    "# figure size in inches\n",
    "rcParams[\"figure.figsize\"] = 10, 6\n",
    "np.random.seed(42)\n",
    "\n",
    "data = pd.read_csv('datasets/pima_indians_diabetes.csv')"
   ]
  },
  {
   "cell_type": "code",
   "execution_count": 2,
   "id": "0e52a8a5",
   "metadata": {},
   "outputs": [
    {
     "data": {
      "text/html": [
       "<div>\n",
       "<style scoped>\n",
       "    .dataframe tbody tr th:only-of-type {\n",
       "        vertical-align: middle;\n",
       "    }\n",
       "\n",
       "    .dataframe tbody tr th {\n",
       "        vertical-align: top;\n",
       "    }\n",
       "\n",
       "    .dataframe thead th {\n",
       "        text-align: right;\n",
       "    }\n",
       "</style>\n",
       "<table border=\"1\" class=\"dataframe\">\n",
       "  <thead>\n",
       "    <tr style=\"text-align: right;\">\n",
       "      <th></th>\n",
       "      <th>time_pregnant_no</th>\n",
       "      <th>plasma_concentration</th>\n",
       "      <th>diastolic_blood_pressure</th>\n",
       "      <th>triceps_skinfold_thickness</th>\n",
       "      <th>serum_insulin</th>\n",
       "      <th>bmi</th>\n",
       "      <th>diabetes_pedigree</th>\n",
       "      <th>age</th>\n",
       "      <th>class</th>\n",
       "    </tr>\n",
       "  </thead>\n",
       "  <tbody>\n",
       "    <tr>\n",
       "      <th>0</th>\n",
       "      <td>6</td>\n",
       "      <td>148</td>\n",
       "      <td>72</td>\n",
       "      <td>35</td>\n",
       "      <td>0</td>\n",
       "      <td>33.6</td>\n",
       "      <td>0.627</td>\n",
       "      <td>50</td>\n",
       "      <td>1</td>\n",
       "    </tr>\n",
       "    <tr>\n",
       "      <th>1</th>\n",
       "      <td>1</td>\n",
       "      <td>85</td>\n",
       "      <td>66</td>\n",
       "      <td>29</td>\n",
       "      <td>0</td>\n",
       "      <td>26.6</td>\n",
       "      <td>0.351</td>\n",
       "      <td>31</td>\n",
       "      <td>0</td>\n",
       "    </tr>\n",
       "    <tr>\n",
       "      <th>2</th>\n",
       "      <td>8</td>\n",
       "      <td>183</td>\n",
       "      <td>64</td>\n",
       "      <td>0</td>\n",
       "      <td>0</td>\n",
       "      <td>23.3</td>\n",
       "      <td>0.672</td>\n",
       "      <td>32</td>\n",
       "      <td>1</td>\n",
       "    </tr>\n",
       "    <tr>\n",
       "      <th>3</th>\n",
       "      <td>1</td>\n",
       "      <td>89</td>\n",
       "      <td>66</td>\n",
       "      <td>23</td>\n",
       "      <td>94</td>\n",
       "      <td>28.1</td>\n",
       "      <td>0.167</td>\n",
       "      <td>21</td>\n",
       "      <td>0</td>\n",
       "    </tr>\n",
       "    <tr>\n",
       "      <th>4</th>\n",
       "      <td>0</td>\n",
       "      <td>137</td>\n",
       "      <td>40</td>\n",
       "      <td>35</td>\n",
       "      <td>168</td>\n",
       "      <td>43.1</td>\n",
       "      <td>2.288</td>\n",
       "      <td>33</td>\n",
       "      <td>1</td>\n",
       "    </tr>\n",
       "  </tbody>\n",
       "</table>\n",
       "</div>"
      ],
      "text/plain": [
       "   time_pregnant_no  plasma_concentration  diastolic_blood_pressure  \\\n",
       "0                 6                   148                        72   \n",
       "1                 1                    85                        66   \n",
       "2                 8                   183                        64   \n",
       "3                 1                    89                        66   \n",
       "4                 0                   137                        40   \n",
       "\n",
       "   triceps_skinfold_thickness  serum_insulin   bmi  diabetes_pedigree  age  \\\n",
       "0                          35              0  33.6              0.627   50   \n",
       "1                          29              0  26.6              0.351   31   \n",
       "2                           0              0  23.3              0.672   32   \n",
       "3                          23             94  28.1              0.167   21   \n",
       "4                          35            168  43.1              2.288   33   \n",
       "\n",
       "   class  \n",
       "0      1  \n",
       "1      0  \n",
       "2      1  \n",
       "3      0  \n",
       "4      1  "
      ]
     },
     "execution_count": 2,
     "metadata": {},
     "output_type": "execute_result"
    }
   ],
   "source": [
    "data.head()"
   ]
  },
  {
   "cell_type": "code",
   "execution_count": 3,
   "id": "a1af5537",
   "metadata": {},
   "outputs": [
    {
     "name": "stdout",
     "output_type": "stream",
     "text": [
      "<class 'pandas.core.frame.DataFrame'>\n",
      "RangeIndex: 768 entries, 0 to 767\n",
      "Data columns (total 9 columns):\n",
      " #   Column                      Non-Null Count  Dtype  \n",
      "---  ------                      --------------  -----  \n",
      " 0   time_pregnant_no            768 non-null    int64  \n",
      " 1   plasma_concentration        768 non-null    int64  \n",
      " 2   diastolic_blood_pressure    768 non-null    int64  \n",
      " 3   triceps_skinfold_thickness  768 non-null    int64  \n",
      " 4   serum_insulin               768 non-null    int64  \n",
      " 5   bmi                         768 non-null    float64\n",
      " 6   diabetes_pedigree           768 non-null    float64\n",
      " 7   age                         768 non-null    int64  \n",
      " 8   class                       768 non-null    int64  \n",
      "dtypes: float64(2), int64(7)\n",
      "memory usage: 54.1 KB\n"
     ]
    }
   ],
   "source": [
    "data.info()"
   ]
  },
  {
   "cell_type": "markdown",
   "id": "973223db",
   "metadata": {},
   "source": [
    "2. Data Preprocessing and Model\n",
    "\n",
    "   * Assign features to X and target variable to y\n",
    "   * Create a pipeline for preprocessing which includes imputing and standardscaling\n",
    "   * Create a pipeline for preprocessor and the random forest classifier. Set n_estimators=100\n",
    "   * Train the model and make your predictions on the test dataset\n",
    "   * List the feature importance and the corresponding features\n",
    "   * Create a bar plot for the feature importances\n",
    "   * Drop the least important feature from the data and repeat the steps above"
   ]
  },
  {
   "cell_type": "code",
   "execution_count": 4,
   "id": "570e8c9f",
   "metadata": {},
   "outputs": [
    {
     "data": {
      "text/plain": [
       "0.7447916666666666"
      ]
     },
     "execution_count": 4,
     "metadata": {},
     "output_type": "execute_result"
    }
   ],
   "source": [
    "X = data.drop('class', axis=1)\n",
    "y = data['class']\n",
    "\n",
    "# Numeric pipeline\n",
    "preprocessing = Pipeline(\n",
    "    [('Imputation', SimpleImputer(strategy='mean')),\n",
    "     ('Scaling', StandardScaler())]\n",
    ")\n",
    "\n",
    "pipe = Pipeline([('preprocessing', preprocessing),\n",
    "                ('model', RandomForestClassifier(n_estimators=100))])\n",
    "\n",
    "\n",
    "X_train, X_test, y_train, y_test = train_test_split(X, y)\n",
    "pipe.fit(X_train, y_train)\n",
    "y_hat = pipe.predict(X_test)\n",
    "accuracy_score(y_test, y_hat)"
   ]
  },
  {
   "cell_type": "code",
   "execution_count": 5,
   "id": "d0f2f4cf",
   "metadata": {
    "scrolled": false
   },
   "outputs": [
    {
     "data": {
      "image/png": "[encoded data removed]",
      "text/plain": [
       "<Figure size 720x432 with 1 Axes>"
      ]
     },
     "metadata": {
      "needs_background": "light"
     },
     "output_type": "display_data"
    }
   ],
   "source": [
    "barx = np.arange(pipe['model'].n_features_in_)\n",
    "barv = pipe['model'].feature_importances_\n",
    "\n",
    "fig, ax = plt.subplots()\n",
    "ax.barh(barx,barv)\n",
    "ax.set_yticks(barx, labels=X.columns)\n",
    "ax.invert_yaxis()  # labels read top-to-bottom\n",
    "ax.set_xlabel('Performance')\n",
    "ax.set_title('Feature Importance');"
   ]
  },
  {
   "cell_type": "markdown",
   "id": "42e4fc83",
   "metadata": {},
   "source": [
    "Retrain model without `serum_insulin`"
   ]
  },
  {
   "cell_type": "code",
   "execution_count": 6,
   "id": "ff190358",
   "metadata": {},
   "outputs": [
    {
     "data": {
      "text/plain": [
       "0.8020833333333334"
      ]
     },
     "execution_count": 6,
     "metadata": {},
     "output_type": "execute_result"
    }
   ],
   "source": [
    "X = data.drop(['class','serum_insulin'], axis=1)\n",
    "y = data['class']\n",
    "\n",
    "X_train, X_test, y_train, y_test = train_test_split(X, y)\n",
    "pipe.fit(X_train, y_train)\n",
    "y_hat = pipe.predict(X_test)\n",
    "accuracy_score(y_test, y_hat)"
   ]
  },
  {
   "cell_type": "markdown",
   "id": "0d20bd53",
   "metadata": {},
   "source": [
    "Model performance increases with the least significant feature removed!"
   ]
  }
 ],
 "metadata": {
  "kernelspec": {
   "display_name": "Python 3 (ipykernel)",
   "language": "python",
   "name": "python3"
  },
  "language_info": {
   "codemirror_mode": {
    "name": "ipython",
    "version": 3
   },
   "file_extension": ".py",
   "mimetype": "text/x-python",
   "name": "python",
   "nbconvert_exporter": "python",
   "pygments_lexer": "ipython3",
   "version": "3.9.12"
  }
 },
 "nbformat": 4,
 "nbformat_minor": 5
}
