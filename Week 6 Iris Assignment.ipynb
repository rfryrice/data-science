{
 "cells": [
  {
   "cell_type": "markdown",
   "id": "9feba1e8",
   "metadata": {},
   "source": [
    "# Week 6 Iris Assignment\n",
    "## Francis Yang 11/8/2022\n",
    "\n",
    "**Step 1:**\n",
    "Load iris dataset from ScikitLearn using load_iris(). Assign the dataset to X and the target values to y. <br>\n",
    "**Step 2:**\n",
    "Print the dataset keys using `iris_dataset.keys()`\n"
   ]
  },
  {
   "cell_type": "code",
   "execution_count": 1,
   "id": "0048105a",
   "metadata": {},
   "outputs": [
    {
     "data": {
      "text/plain": [
       "dict_keys(['data', 'target', 'frame', 'target_names', 'DESCR', 'feature_names', 'filename', 'data_module'])"
      ]
     },
     "execution_count": 1,
     "metadata": {},
     "output_type": "execute_result"
    }
   ],
   "source": [
    "import pandas as pd\n",
    "import numpy as np\n",
    "from sklearn.datasets import load_iris\n",
    "\n",
    "iris = load_iris()\n",
    "iris.keys()"
   ]
  },
  {
   "cell_type": "markdown",
   "id": "875cc1fa",
   "metadata": {},
   "source": [
    "**Step 3:**\n",
    "Print the names of the categories in the target file\n"
   ]
  },
  {
   "cell_type": "code",
   "execution_count": 4,
   "id": "92c68798",
   "metadata": {},
   "outputs": [
    {
     "data": {
      "text/plain": [
       "{0, 1, 2}"
      ]
     },
     "execution_count": 4,
     "metadata": {},
     "output_type": "execute_result"
    }
   ],
   "source": [
    "set(iris['target'])"
   ]
  },
  {
   "cell_type": "markdown",
   "id": "a3dca6c8",
   "metadata": {},
   "source": [
    "**Step 4:**\n",
    "Print the feature names in the Iris dataset\n"
   ]
  },
  {
   "cell_type": "code",
   "execution_count": 5,
   "id": "221cd7c9",
   "metadata": {},
   "outputs": [
    {
     "data": {
      "text/plain": [
       "{'petal length (cm)',\n",
       " 'petal width (cm)',\n",
       " 'sepal length (cm)',\n",
       " 'sepal width (cm)'}"
      ]
     },
     "execution_count": 5,
     "metadata": {},
     "output_type": "execute_result"
    }
   ],
   "source": [
    "set(iris['feature_names'])"
   ]
  },
  {
   "cell_type": "markdown",
   "id": "9b547220",
   "metadata": {},
   "source": [
    "**Step 5:**\n",
    "Print the type of the Iris dataset.\n"
   ]
  },
  {
   "cell_type": "code",
   "execution_count": 6,
   "id": "c085ff7d",
   "metadata": {},
   "outputs": [
    {
     "data": {
      "text/plain": [
       "sklearn.utils.Bunch"
      ]
     },
     "execution_count": 6,
     "metadata": {},
     "output_type": "execute_result"
    }
   ],
   "source": [
    "type(iris)"
   ]
  },
  {
   "cell_type": "markdown",
   "id": "b7be573b",
   "metadata": {},
   "source": [
    "**Step 6:**\n",
    "Print the shape of the Iris dataset.\n"
   ]
  },
  {
   "cell_type": "code",
   "execution_count": 11,
   "id": "738d7d25",
   "metadata": {},
   "outputs": [
    {
     "data": {
      "text/plain": [
       "(150, 4)"
      ]
     },
     "execution_count": 11,
     "metadata": {},
     "output_type": "execute_result"
    }
   ],
   "source": [
    "iris['data'].shape"
   ]
  },
  {
   "cell_type": "markdown",
   "id": "c7bc4d66",
   "metadata": {},
   "source": [
    "**Step 7:**\n",
    "Print the first five rows of the Iris dataset.\n"
   ]
  },
  {
   "cell_type": "code",
   "execution_count": 14,
   "id": "77deaf81",
   "metadata": {},
   "outputs": [
    {
     "data": {
      "text/plain": [
       "array([[5.1, 3.5, 1.4, 0.2],\n",
       "       [4.9, 3. , 1.4, 0.2],\n",
       "       [4.7, 3.2, 1.3, 0.2],\n",
       "       [4.6, 3.1, 1.5, 0.2],\n",
       "       [5. , 3.6, 1.4, 0.2]])"
      ]
     },
     "execution_count": 14,
     "metadata": {},
     "output_type": "execute_result"
    }
   ],
   "source": [
    "X = iris.data\n",
    "X[0:5]"
   ]
  },
  {
   "cell_type": "markdown",
   "id": "b514d6e9",
   "metadata": {},
   "source": [
    "**Step 8**\n",
    "Print the type of the target variable of Iris dataset.\n"
   ]
  },
  {
   "cell_type": "code",
   "execution_count": 15,
   "id": "b514d3c5",
   "metadata": {},
   "outputs": [
    {
     "data": {
      "text/plain": [
       "numpy.ndarray"
      ]
     },
     "execution_count": 15,
     "metadata": {},
     "output_type": "execute_result"
    }
   ],
   "source": [
    "Y = iris.target\n",
    "type(Y)"
   ]
  },
  {
   "cell_type": "markdown",
   "id": "14c1691d",
   "metadata": {},
   "source": [
    "**Step 9:**\n",
    "Print the shape of the target variable of Iris dataset.\n"
   ]
  },
  {
   "cell_type": "code",
   "execution_count": 16,
   "id": "a13d9120",
   "metadata": {},
   "outputs": [
    {
     "data": {
      "text/plain": [
       "(150,)"
      ]
     },
     "execution_count": 16,
     "metadata": {},
     "output_type": "execute_result"
    }
   ],
   "source": [
    "Y.shape"
   ]
  },
  {
   "cell_type": "markdown",
   "id": "3783303f",
   "metadata": {},
   "source": [
    "**Step 10:**\n",
    "Print the entire target variable values of the Iris dataset.\n"
   ]
  },
  {
   "cell_type": "code",
   "execution_count": 17,
   "id": "d4d41c35",
   "metadata": {},
   "outputs": [
    {
     "data": {
      "text/plain": [
       "array([0, 0, 0, 0, 0, 0, 0, 0, 0, 0, 0, 0, 0, 0, 0, 0, 0, 0, 0, 0, 0, 0,\n",
       "       0, 0, 0, 0, 0, 0, 0, 0, 0, 0, 0, 0, 0, 0, 0, 0, 0, 0, 0, 0, 0, 0,\n",
       "       0, 0, 0, 0, 0, 0, 1, 1, 1, 1, 1, 1, 1, 1, 1, 1, 1, 1, 1, 1, 1, 1,\n",
       "       1, 1, 1, 1, 1, 1, 1, 1, 1, 1, 1, 1, 1, 1, 1, 1, 1, 1, 1, 1, 1, 1,\n",
       "       1, 1, 1, 1, 1, 1, 1, 1, 1, 1, 1, 1, 2, 2, 2, 2, 2, 2, 2, 2, 2, 2,\n",
       "       2, 2, 2, 2, 2, 2, 2, 2, 2, 2, 2, 2, 2, 2, 2, 2, 2, 2, 2, 2, 2, 2,\n",
       "       2, 2, 2, 2, 2, 2, 2, 2, 2, 2, 2, 2, 2, 2, 2, 2, 2, 2])"
      ]
     },
     "execution_count": 17,
     "metadata": {},
     "output_type": "execute_result"
    }
   ],
   "source": [
    "Y"
   ]
  },
  {
   "cell_type": "markdown",
   "id": "d0c9b4b9",
   "metadata": {},
   "source": [
    "**Step 11:**\n",
    "Import NumPy with `import numpy as np` and use the `np.unique()` function to print the unique values of the target variable of Iris dataset\n"
   ]
  },
  {
   "cell_type": "code",
   "execution_count": 19,
   "id": "8cbba0fa",
   "metadata": {},
   "outputs": [
    {
     "data": {
      "text/plain": [
       "array([0, 1, 2])"
      ]
     },
     "execution_count": 19,
     "metadata": {},
     "output_type": "execute_result"
    }
   ],
   "source": [
    "np.unique(Y)"
   ]
  },
  {
   "cell_type": "markdown",
   "id": "e1f3ee6f",
   "metadata": {},
   "source": [
    "**Step 12:**\n",
    "Split dataset into train and test datasets using `from sklearn.model_selection import train_test_split`\n"
   ]
  },
  {
   "cell_type": "code",
   "execution_count": 21,
   "id": "52c7f74d",
   "metadata": {},
   "outputs": [],
   "source": [
    "from sklearn.model_selection import train_test_split\n",
    "\n",
    "X_train, X_test, y_train, y_test = train_test_split(X, Y, stratify=Y)"
   ]
  },
  {
   "cell_type": "markdown",
   "id": "52f64923",
   "metadata": {},
   "source": [
    "**Step 13:**\n",
    "Print the shape of train/test datasets and the train/test target variables.\n"
   ]
  },
  {
   "cell_type": "code",
   "execution_count": 22,
   "id": "46746390",
   "metadata": {},
   "outputs": [
    {
     "name": "stdout",
     "output_type": "stream",
     "text": [
      "X train (112, 4)\n",
      "X test (38, 4)\n",
      "y train (112,)\n",
      "y test (38,)\n"
     ]
    }
   ],
   "source": [
    "print(\"X train\",X_train.shape)\n",
    "print(\"X test\",X_test.shape)\n",
    "print(\"y train\",y_train.shape)\n",
    "print(\"y test\",y_test.shape)"
   ]
  },
  {
   "cell_type": "markdown",
   "id": "ddf24a39",
   "metadata": {},
   "source": [
    "**Step 14:**\n",
    "Build your K-neighbors classifier for nearest neighbor of 1 using `from sklearn.neighbors import KNeighborsClassifier`, fit the model to your train dataset and make a prediction for the data point of [5, 1.9, 1, 0.2]. Print your prediction class value as an integer and also the corresponding string label.\n"
   ]
  },
  {
   "cell_type": "code",
   "execution_count": 29,
   "id": "a41976eb",
   "metadata": {},
   "outputs": [
    {
     "data": {
      "text/plain": [
       "array([0])"
      ]
     },
     "execution_count": 29,
     "metadata": {},
     "output_type": "execute_result"
    }
   ],
   "source": [
    "from sklearn.neighbors import KNeighborsClassifier\n",
    "\n",
    "predict = [5, 1.9, 1 ,0.2] # single data point with 4 features\n",
    "knn = KNeighborsClassifier(n_neighbors=1)\n",
    "knn.fit(X_train, y_train)\n",
    "\n",
    "knn.predict([predict])"
   ]
  },
  {
   "cell_type": "code",
   "execution_count": 24,
   "id": "674acf05",
   "metadata": {},
   "outputs": [
    {
     "data": {
      "text/plain": [
       "0.9210526315789473"
      ]
     },
     "execution_count": 24,
     "metadata": {},
     "output_type": "execute_result"
    }
   ],
   "source": [
    "knn.score(X_test, y_test)"
   ]
  }
 ],
 "metadata": {
  "kernelspec": {
   "display_name": "Python 3 (ipykernel)",
   "language": "python",
   "name": "python3"
  },
  "language_info": {
   "codemirror_mode": {
    "name": "ipython",
    "version": 3
   },
   "file_extension": ".py",
   "mimetype": "text/x-python",
   "name": "python",
   "nbconvert_exporter": "python",
   "pygments_lexer": "ipython3",
   "version": "3.9.12"
  }
 },
 "nbformat": 4,
 "nbformat_minor": 5
}
