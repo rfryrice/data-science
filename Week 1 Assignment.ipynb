{
 "cells": [
  {
   "cell_type": "markdown",
   "metadata": {},
   "source": [
    "# Francis Yang 9/27/2022\n",
    "## String Assignment\n",
    "1. Ask the user to enter their first name and surname in lower case. Change the case to title case and join them together. Display the finished result."
   ]
  },
  {
   "cell_type": "code",
   "execution_count": 1,
   "metadata": {},
   "outputs": [
    {
     "name": "stdout",
     "output_type": "stream",
     "text": [
      "Enter first name: Jack\n",
      "Enter last name: Black\n",
      "Your fullname is Jack Black\n"
     ]
    }
   ],
   "source": [
    "fname = input(\"Enter first name: \")\n",
    "lname = input(\"Enter last name: \")\n",
    "fullname = fname.title() + \" \" + lname.title()\n",
    "print(\"Your fullname is\",fullname)"
   ]
  },
  {
   "cell_type": "markdown",
   "metadata": {},
   "source": [
    "2. Ask the user to type in the first line of a poem Raven by Edgar Allen Poe and display the length of the string. Ask for a starting number and an ending number and then display just that section of the text (remember Python starts counting from 0 and not 1). Here is the poem Raven:"
   ]
  },
  {
   "cell_type": "code",
   "execution_count": 2,
   "metadata": {},
   "outputs": [
    {
     "name": "stdout",
     "output_type": "stream",
     "text": [
      "Enter first line of a poem:Deep into that darkness peering,\n",
      "Line length is 32\n",
      "Enter a starting number:5\n",
      "Enter a end number:20\n",
      "Slice: into that darkn\n"
     ]
    }
   ],
   "source": [
    "fline = input(\"Enter first line of a poem:\")\n",
    "print(\"Line length is\",len(fline))\n",
    "start = int(input(\"Enter a starting number:\"))\n",
    "stop = int(input(\"Enter a end number:\"))\n",
    "print(\"Slice:\",fline[start:stop])"
   ]
  },
  {
   "cell_type": "markdown",
   "metadata": {},
   "source": [
    "3. Removes extra characters from the start and end of a string and explain why you need to remove white spaces while exploring text."
   ]
  },
  {
   "cell_type": "code",
   "execution_count": 3,
   "metadata": {},
   "outputs": [
    {
     "name": "stdout",
     "output_type": "stream",
     "text": [
      "Jello World\n",
      "   Jel\n"
     ]
    }
   ],
   "source": [
    "line1 = \"   Jello World   \"\n",
    "line2 = line1.strip()\n",
    "print(line2)\n",
    "print(line1[:6])\n"
   ]
  },
  {
   "cell_type": "markdown",
   "metadata": {},
   "source": [
    "White spaces in a string are accounted as unique, to a similar string without white spaces"
   ]
  },
  {
   "cell_type": "markdown",
   "metadata": {},
   "source": [
    "## Variable Assignment\n",
    "1. Define two variables as x and y. Assign 1 to x and '1' to y. Then check if two variables have the same value and type."
   ]
  },
  {
   "cell_type": "code",
   "execution_count": 4,
   "metadata": {},
   "outputs": [
    {
     "data": {
      "text/plain": [
       "False"
      ]
     },
     "execution_count": 4,
     "metadata": {},
     "output_type": "execute_result"
    }
   ],
   "source": [
    "x = 1\n",
    "y = '1'\n",
    "x == y"
   ]
  },
  {
   "cell_type": "code",
   "execution_count": 5,
   "metadata": {},
   "outputs": [
    {
     "name": "stdout",
     "output_type": "stream",
     "text": [
      "X is a <class 'int'> and Y is a <class 'str'>\n"
     ]
    }
   ],
   "source": [
    "print(\"X is a\",type(x),\"and Y is a\",type(y))"
   ]
  },
  {
   "cell_type": "markdown",
   "metadata": {},
   "source": [
    "2. Change the type of variable y and make the two variables the same."
   ]
  },
  {
   "cell_type": "code",
   "execution_count": 6,
   "metadata": {},
   "outputs": [
    {
     "data": {
      "text/plain": [
       "True"
      ]
     },
     "execution_count": 6,
     "metadata": {},
     "output_type": "execute_result"
    }
   ],
   "source": [
    "y = int(y)\n",
    "x == y"
   ]
  },
  {
   "cell_type": "markdown",
   "metadata": {},
   "source": [
    "## Data Types Assignment\n",
    "1. Suppose you invested in Bitcoin at the end of 2020 when Bitcoin gained a lot of value. What would be your money at the end of a week if you had invested $1000 with an average daily increase of 12% ? You can solve the problem using Python.\n",
    "Help\n"
   ]
  },
  {
   "cell_type": "code",
   "execution_count": 21,
   "metadata": {},
   "outputs": [
    {
     "name": "stdout",
     "output_type": "stream",
     "text": [
      "Total:$ 2210.6814074060812\n"
     ]
    }
   ],
   "source": [
    "capital = 1000\n",
    "rate = 0.12\n",
    "period = 7\n",
    "expected = capital*((1 + (rate/1))**(period))\n",
    "print(\"Total:$\",expected)"
   ]
  },
  {
   "cell_type": "markdown",
   "metadata": {},
   "source": [
    "2. Print the text in quotes with Python. However, you must get the numbers from variables using .format() notation. Because the text is long, you might consider writing in two lines:"
   ]
  },
  {
   "cell_type": "code",
   "execution_count": 17,
   "metadata": {},
   "outputs": [
    {
     "name": "stdout",
     "output_type": "stream",
     "text": [
      "When we buy bitcoin with 1000 USD at the beginning of the week, \n",
      "we would earn 1210.68 USD at the end of the week, with an average gain of 12%.\n"
     ]
    }
   ],
   "source": [
    "txt = \"\"\"When we buy bitcoin with {} USD at the beginning of the week, \n",
    "we would earn {:.2f} USD at the end of the week, with an average gain of 12%.\"\"\"\n",
    "print(txt.format(capital,expected-capital))"
   ]
  },
  {
   "cell_type": "markdown",
   "metadata": {},
   "source": [
    "3. Get the temperature in Fahrenheit from user and write a code to convert it to Celcius. For conversion, you can use this formula: C = (5/9) * (F - 32)"
   ]
  },
  {
   "cell_type": "code",
   "execution_count": 22,
   "metadata": {},
   "outputs": [
    {
     "name": "stdout",
     "output_type": "stream",
     "text": [
      "Enter a temperature (F) 26\n",
      "The temperarture you entered in Celsius is -3.33\n"
     ]
    }
   ],
   "source": [
    "ftemp = int(input(\"Enter a temperature (F) \"))\n",
    "ctemp = (5/9)*(ftemp-32)\n",
    "print(f\"The temperarture you entered in Celsius is {ctemp:.2f}\")"
   ]
  },
  {
   "cell_type": "markdown",
   "metadata": {},
   "source": [
    "4. Get a three digit number the from user and calculate the sum of the digits in the integer."
   ]
  },
  {
   "cell_type": "code",
   "execution_count": 10,
   "metadata": {},
   "outputs": [
    {
     "name": "stdout",
     "output_type": "stream",
     "text": [
      "Enter a three digit number: 555\n",
      "The sum of digits in the number is 15\n"
     ]
    }
   ],
   "source": [
    "num = input(\"Enter a three digit number: \")\n",
    "output = int(num[0]) + int(num[1]) + int(num[2])\n",
    "print(f\"The sum of digits in the number is {output}\")"
   ]
  },
  {
   "cell_type": "markdown",
   "metadata": {},
   "source": [
    "5. Write some code to calculate the hypotenuse of a right angled triangle. Get the side lengths from the user."
   ]
  },
  {
   "cell_type": "code",
   "execution_count": 11,
   "metadata": {},
   "outputs": [
    {
     "name": "stdout",
     "output_type": "stream",
     "text": [
      "First side length: 3\n",
      "Second side length: 4\n",
      "The length of the hypotenuse is 5.00\n"
     ]
    }
   ],
   "source": [
    "side1 = int(input(\"First side length: \"))\n",
    "side2 = int(input(\"Second side length: \"))\n",
    "hype = (side1**2 + side2**2)**(1/2)\n",
    "print(f\"The length of the hypotenuse is {hype:.2f}\")"
   ]
  },
  {
   "cell_type": "markdown",
   "metadata": {},
   "source": [
    "## Python Basics Assignment\n",
    "1. Write a code that outputs your name and surname in one line."
   ]
  },
  {
   "cell_type": "code",
   "execution_count": 12,
   "metadata": {},
   "outputs": [
    {
     "name": "stdout",
     "output_type": "stream",
     "text": [
      "Francis Yang\n"
     ]
    }
   ],
   "source": [
    "print(\"Francis Yang\")"
   ]
  },
  {
   "cell_type": "markdown",
   "metadata": {},
   "source": [
    "2. Write a 1-line code that outputs your name and surname in two separate lines by using a single print() call."
   ]
  },
  {
   "cell_type": "code",
   "execution_count": 13,
   "metadata": {},
   "outputs": [
    {
     "name": "stdout",
     "output_type": "stream",
     "text": [
      "Francis\n",
      "Yang\n"
     ]
    }
   ],
   "source": [
    "print(\"Francis\\nYang\")"
   ]
  },
  {
   "cell_type": "markdown",
   "metadata": {},
   "source": [
    "3. Use print() function that returns the following text. Notice the quotes in the text. Those quotes should be seen in the output!"
   ]
  },
  {
   "cell_type": "code",
   "execution_count": 14,
   "metadata": {},
   "outputs": [
    {
     "name": "stdout",
     "output_type": "stream",
     "text": [
      "I don't want to be an \"artist\". I want to be a \"Data Scientist.\"\n"
     ]
    }
   ],
   "source": [
    "print('''I don't want to be an \"artist\". I want to be a \"Data Scientist.\"''')"
   ]
  }
 ],
 "metadata": {
  "kernelspec": {
   "display_name": "Python 3",
   "language": "python",
   "name": "python3"
  },
  "language_info": {
   "codemirror_mode": {
    "name": "ipython",
    "version": 3
   },
   "file_extension": ".py",
   "mimetype": "text/x-python",
   "name": "python",
   "nbconvert_exporter": "python",
   "pygments_lexer": "ipython3",
   "version": "3.7.6"
  }
 },
 "nbformat": 4,
 "nbformat_minor": 4
}
