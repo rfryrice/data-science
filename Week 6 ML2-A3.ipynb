{
 "cells": [
  {
   "cell_type": "markdown",
   "id": "e1ad74ac",
   "metadata": {},
   "source": [
    "# Week 6 Module 2 Assignment 3\n",
    "## Francis Yang 11/11/2022\n",
    "\n",
    "### Exercise 1\n",
    "\n",
    "1) Load the breast_cancer dataset from skelarn (from sklearn.datasets import load_breast_cancer). Split the dataset into training and test datasets. Scale the dataset using minmaxscaler. Use KNeighborsClassifier classifier and report the score on the test dataset.\n",
    "\n",
    "2) Repeat Step 1 using pipelines and report the score.\n",
    "\n",
    "3) Use the pipeline object from Step 2 and make a grid search on parameter of number of neighbor."
   ]
  },
  {
   "cell_type": "code",
   "execution_count": 1,
   "id": "9892da70",
   "metadata": {},
   "outputs": [],
   "source": [
    "import pandas as pd\n",
    "import numpy as np\n",
    "import matplotlib.pyplot as plt"
   ]
  },
  {
   "cell_type": "code",
   "execution_count": 2,
   "id": "505cb708",
   "metadata": {},
   "outputs": [
    {
     "data": {
      "text/plain": [
       "dict_keys(['data', 'target', 'frame', 'target_names', 'DESCR', 'feature_names', 'filename'])"
      ]
     },
     "execution_count": 2,
     "metadata": {},
     "output_type": "execute_result"
    }
   ],
   "source": [
    "from sklearn.datasets import load_breast_cancer\n",
    "from sklearn.model_selection import train_test_split, cross_val_score\n",
    "from sklearn.preprocessing import MinMaxScaler\n",
    "from sklearn.neighbors import KNeighborsClassifier\n",
    "\n",
    "data = load_breast_cancer()\n",
    "data.keys()"
   ]
  },
  {
   "cell_type": "code",
   "execution_count": 3,
   "id": "8ff0e0eb",
   "metadata": {},
   "outputs": [
    {
     "data": {
      "text/plain": [
       "0.965034965034965"
      ]
     },
     "execution_count": 3,
     "metadata": {},
     "output_type": "execute_result"
    }
   ],
   "source": [
    "X = data.data\n",
    "y = data.target\n",
    "\n",
    "X_train, X_test, y_train, y_test = train_test_split(X, y, random_state=3)\n",
    "scaler = MinMaxScaler()\n",
    "knn = KNeighborsClassifier()\n",
    "\n",
    "sX_train = scaler.fit_transform(X_train,y_train)\n",
    "sX_test = scaler.fit_transform(X_test,y_test)\n",
    "\n",
    "knn.fit(sX_train, y_train)\n",
    "knn.score(sX_test, y_test)"
   ]
  },
  {
   "cell_type": "code",
   "execution_count": 4,
   "id": "7197a455",
   "metadata": {},
   "outputs": [
    {
     "data": {
      "text/plain": [
       "0.951048951048951"
      ]
     },
     "execution_count": 4,
     "metadata": {},
     "output_type": "execute_result"
    }
   ],
   "source": [
    "from sklearn.pipeline import Pipeline\n",
    "\n",
    "pipe = Pipeline([('scaler',MinMaxScaler()),('knn',KNeighborsClassifier())])\n",
    "pipe.fit(X_train, y_train)\n",
    "pipe.score(X_test, y_test)"
   ]
  },
  {
   "cell_type": "code",
   "execution_count": 7,
   "id": "23ce8db1",
   "metadata": {},
   "outputs": [
    {
     "data": {
      "text/plain": [
       "0.951048951048951"
      ]
     },
     "execution_count": 7,
     "metadata": {},
     "output_type": "execute_result"
    }
   ],
   "source": [
    "from sklearn.model_selection import GridSearchCV\n",
    "\n",
    "param_grid = {'knn__n_neighbors':np.arange(1,11,2)}\n",
    "grid = GridSearchCV(pipe, param_grid)\n",
    "grid.fit(X_train, y_train)\n",
    "grid.score(X_test, y_test)"
   ]
  },
  {
   "cell_type": "markdown",
   "id": "1d05ab89",
   "metadata": {},
   "source": [
    "### Exercise 2\n",
    "Import bike_day_raw.csv. Create a pipeline using ColumnTransformer, Scaling, and KNeighborsRegressor.\n",
    "\n",
    "*    Use `from sklearn.neighbors import KNeighborsRegressor'\n",
    "*    You need to split the data into X and y.\n",
    "*    Check the data shape\n",
    "*    Check the data types\n",
    "*    Print the column names of the data frame\n",
    "*    Create a scatterplot of each feature against the target variable (you may use clues our previous labs to do that)\n",
    "*    Create alist of features that are numeric and not numeric\n",
    "*    Create a pipeline of imputer and standard scaler for the numeric features\n",
    "*    Create a column transformer which uses the pipeline you created for numeric features and a onehotencoder for the non-numeric features\n",
    "*    You can create your column transformer in different ways\n",
    "*    Finally create a pipeline of column transformer and kNeighborsRegressor\n",
    "*    Split your data into train and test datasets\n",
    "*    Report the score on the test dataset"
   ]
  },
  {
   "cell_type": "code",
   "execution_count": null,
   "id": "68fe25d2",
   "metadata": {},
   "outputs": [],
   "source": [
    "data = pd.read_csv('datasets/bike_day_raw.csv')\n"
   ]
  }
 ],
 "metadata": {
  "kernelspec": {
   "display_name": "Python 3 (ipykernel)",
   "language": "python",
   "name": "python3"
  },
  "language_info": {
   "codemirror_mode": {
    "name": "ipython",
    "version": 3
   },
   "file_extension": ".py",
   "mimetype": "text/x-python",
   "name": "python",
   "nbconvert_exporter": "python",
   "pygments_lexer": "ipython3",
   "version": "3.9.7"
  }
 },
 "nbformat": 4,
 "nbformat_minor": 5
}
