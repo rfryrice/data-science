{
 "cells": [
  {
   "cell_type": "markdown",
   "id": "1f460e38",
   "metadata": {},
   "source": [
    "# Week 8 Module 4 Assignment 2\n",
    "## Francis Yang 11/25/2022\n",
    "### Face Recognition (from Python Data Science Handbook by Jake VanderPlas)\n",
    "\n",
    "As an example of support vector machines in action, let's take a look at the facial recognition problem. We will use the Labeled Faces in the Wild dataset, which consists of several thousand collated photos of various public figures. A fetcher for the dataset is built into Scikit-Learn:"
   ]
  },
  {
   "cell_type": "code",
   "execution_count": 1,
   "id": "1081f13e",
   "metadata": {},
   "outputs": [
    {
     "name": "stdout",
     "output_type": "stream",
     "text": [
      "['Ariel Sharon' 'Colin Powell' 'Donald Rumsfeld' 'George W Bush'\n",
      " 'Gerhard Schroeder' 'Hugo Chavez' 'Junichiro Koizumi' 'Tony Blair']\n",
      "(1348, 62, 47)\n"
     ]
    }
   ],
   "source": [
    "import numpy as np\n",
    "import matplotlib.pyplot as plt\n",
    "%matplotlib inline\n",
    "from sklearn.datasets import fetch_lfw_people\n",
    "\n",
    "faces = fetch_lfw_people(min_faces_per_person=60)\n",
    "\n",
    "print(faces.target_names)\n",
    "print(faces.images.shape)"
   ]
  },
  {
   "cell_type": "markdown",
   "id": "8386d7d5",
   "metadata": {},
   "source": [
    "Each image contains [62×47] or nearly 3,000 pixels. We could proceed by simply using each pixel value as a feature, but often it is more effective to use some sort of preprocessor to extract more meaningful features; here we will use a principal component analysis (we will learn about PCA later) to extract 150 fundamental components to feed into our support vector machine classifier. We can do this most straightforwardly by packaging the preprocessor and the classifier into a single pipeline:"
   ]
  },
  {
   "cell_type": "code",
   "execution_count": 2,
   "id": "eabb64dc",
   "metadata": {},
   "outputs": [],
   "source": [
    "from sklearn.svm import SVC\n",
    "from sklearn.decomposition import PCA\n",
    "from sklearn.pipeline import Pipeline\n",
    "\n",
    "pca = PCA(n_components=150, whiten=True, random_state=42)\n",
    "svc = SVC(class_weight='balanced')\n",
    "\n",
    "pipe = Pipeline([('pca',pca),('estimator',svc)])"
   ]
  },
  {
   "cell_type": "markdown",
   "id": "9209d300",
   "metadata": {},
   "source": [
    "Finally, we can use a grid search cross-validation to explore combinations of parameters. Here we will adjust C (which controls the margin hardness) and gamma (which controls the size of the radial basis function kernel), and determine the best model:"
   ]
  },
  {
   "cell_type": "code",
   "execution_count": 3,
   "id": "2f88deee",
   "metadata": {},
   "outputs": [
    {
     "data": {
      "text/plain": [
       "dict_keys(['data', 'images', 'target', 'target_names', 'DESCR'])"
      ]
     },
     "execution_count": 3,
     "metadata": {},
     "output_type": "execute_result"
    }
   ],
   "source": [
    "faces.keys()"
   ]
  },
  {
   "cell_type": "code",
   "execution_count": 4,
   "id": "d2a9cef4",
   "metadata": {},
   "outputs": [
    {
     "data": {
      "text/plain": [
       "{'estimator__C': 4, 'estimator__gamma': 0.002928571428571429}"
      ]
     },
     "execution_count": 4,
     "metadata": {},
     "output_type": "execute_result"
    }
   ],
   "source": [
    "from sklearn.model_selection import train_test_split\n",
    "from sklearn.model_selection import GridSearchCV\n",
    "\n",
    "X_train, X_test, y_train, y_test = train_test_split(\n",
    "    faces.data, faces.target, random_state=1)\n",
    "\n",
    "param_grid = {'estimator__C': np.arange(1, 15, 3),\n",
    "              'estimator__gamma': np.linspace(0.0001, 0.01, num=15)}\n",
    "\n",
    "grid = GridSearchCV(pipe, param_grid, cv=5)\n",
    "grid.fit(X_train, y_train)\n",
    "\n",
    "grid.best_params_"
   ]
  },
  {
   "cell_type": "code",
   "execution_count": 5,
   "id": "f6ff138d",
   "metadata": {},
   "outputs": [
    {
     "data": {
      "text/plain": [
       "0.8368287567673024"
      ]
     },
     "execution_count": 5,
     "metadata": {},
     "output_type": "execute_result"
    }
   ],
   "source": [
    "grid.best_score_"
   ]
  },
  {
   "cell_type": "markdown",
   "id": "d2017a0f",
   "metadata": {},
   "source": [
    "We can get a better sense of our estimator's performance using the classification report, which lists recovery statistics label by label:"
   ]
  },
  {
   "cell_type": "code",
   "execution_count": 7,
   "id": "e04ded90",
   "metadata": {},
   "outputs": [
    {
     "name": "stdout",
     "output_type": "stream",
     "text": [
      "                   precision    recall  f1-score   support\n",
      "\n",
      "     Ariel Sharon       0.76      0.93      0.84        14\n",
      "     Colin Powell       0.78      0.91      0.84        54\n",
      "  Donald Rumsfeld       0.95      0.67      0.78        30\n",
      "    George W Bush       0.90      0.93      0.92       134\n",
      "Gerhard Schroeder       0.83      0.81      0.82        31\n",
      "      Hugo Chavez       0.94      0.75      0.83        20\n",
      "Junichiro Koizumi       1.00      0.83      0.91        12\n",
      "       Tony Blair       0.90      0.88      0.89        42\n",
      "\n",
      "         accuracy                           0.87       337\n",
      "        macro avg       0.88      0.84      0.85       337\n",
      "     weighted avg       0.88      0.87      0.87       337\n",
      "\n"
     ]
    }
   ],
   "source": [
    "from sklearn.metrics import classification_report\n",
    "\n",
    "model = grid.best_estimator_\n",
    "yfit = model.predict(X_test)\n",
    "\n",
    "print(classification_report(y_test, yfit,\n",
    "                            target_names=faces.target_names))"
   ]
  }
 ],
 "metadata": {
  "kernelspec": {
   "display_name": "Python 3 (ipykernel)",
   "language": "python",
   "name": "python3"
  },
  "language_info": {
   "codemirror_mode": {
    "name": "ipython",
    "version": 3
   },
   "file_extension": ".py",
   "mimetype": "text/x-python",
   "name": "python",
   "nbconvert_exporter": "python",
   "pygments_lexer": "ipython3",
   "version": "3.9.12"
  }
 },
 "nbformat": 4,
 "nbformat_minor": 5
}
