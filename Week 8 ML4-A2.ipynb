{
 "cells": [
  {
   "cell_type": "markdown",
   "id": "1f460e38",
   "metadata": {},
   "source": [
    "# Week 8 Module 4 Assignment 2\n",
    "## Francis Yang 11/25/2022\n",
    "### Face Recognition (from Python Data Science Handbook by Jake VanderPlas)\n",
    "\n",
    "As an example of support vector machines in action, let's take a look at the facial recognition problem. We will use the Labeled Faces in the Wild dataset, which consists of several thousand collated photos of various public figures. A fetcher for the dataset is built into Scikit-Learn:"
   ]
  },
  {
   "cell_type": "code",
   "execution_count": 1,
   "id": "1081f13e",
   "metadata": {},
   "outputs": [
    {
     "name": "stdout",
     "output_type": "stream",
     "text": [
      "['Ariel Sharon' 'Colin Powell' 'Donald Rumsfeld' 'George W Bush'\n",
      " 'Gerhard Schroeder' 'Hugo Chavez' 'Junichiro Koizumi' 'Tony Blair']\n",
      "(1348, 62, 47)\n"
     ]
    }
   ],
   "source": [
    "import numpy as np\n",
    "import matplotlib.pyplot as plt\n",
    "%matplotlib inline\n",
    "from sklearn.datasets import fetch_lfw_people\n",
    "\n",
    "faces = fetch_lfw_people(min_faces_per_person=60)\n",
    "\n",
    "print(faces.target_names)\n",
    "print(faces.images.shape)"
   ]
  },
  {
   "cell_type": "markdown",
   "id": "8386d7d5",
   "metadata": {},
   "source": [
    "Each image contains [62×47] or nearly 3,000 pixels. We could proceed by simply using each pixel value as a feature, but often it is more effective to use some sort of preprocessor to extract more meaningful features; here we will use a principal component analysis (we will learn about PCA later) to extract 150 fundamental components to feed into our support vector machine classifier. We can do this most straightforwardly by packaging the preprocessor and the classifier into a single pipeline:"
   ]
  },
  {
   "cell_type": "code",
   "execution_count": 16,
   "id": "eabb64dc",
   "metadata": {},
   "outputs": [],
   "source": [
    "from sklearn.svm import SVC\n",
    "from sklearn.decomposition import PCA\n",
    "from sklearn.pipeline import Pipeline\n",
    "\n",
    "pca = PCA(n_components=150, whiten=True, random_state=42)\n",
    "svc = SVC()\n",
    "\n",
    "pipe = Pipeline([('pca',pca),('estimator',svc)])"
   ]
  },
  {
   "cell_type": "markdown",
   "id": "9209d300",
   "metadata": {},
   "source": [
    "Finally, we can use a grid search cross-validation to explore combinations of parameters. Here we will adjust C (which controls the margin hardness) and gamma (which controls the size of the radial basis function kernel), and determine the best model:"
   ]
  },
  {
   "cell_type": "code",
   "execution_count": 17,
   "id": "2f88deee",
   "metadata": {},
   "outputs": [
    {
     "data": {
      "text/plain": [
       "dict_keys(['data', 'images', 'target', 'target_names', 'DESCR'])"
      ]
     },
     "execution_count": 17,
     "metadata": {},
     "output_type": "execute_result"
    }
   ],
   "source": [
    "faces.keys()"
   ]
  },
  {
   "cell_type": "code",
   "execution_count": 19,
   "id": "d2a9cef4",
   "metadata": {},
   "outputs": [
    {
     "data": {
      "text/plain": [
       "{'estimator__C': 1, 'estimator__gamma': 0.1}"
      ]
     },
     "execution_count": 19,
     "metadata": {},
     "output_type": "execute_result"
    }
   ],
   "source": [
    "from sklearn.model_selection import train_test_split\n",
    "from sklearn.model_selection import GridSearchCV\n",
    "\n",
    "X_train, X_test, y_train, y_test = train_test_split(\n",
    "    faces.data, faces.target, random_state=1)\n",
    "\n",
    "param_grid = {'estimator__C': np.arange(1, 10, 2), 'estimator__gamma': np.linspace(0.1, 0.9, num=9)}\n",
    "grid = GridSearchCV(pipe, param_grid, cv=5)\n",
    "grid.fit(X_train, y_train)\n",
    "\n",
    "grid.best_params_"
   ]
  },
  {
   "cell_type": "code",
   "execution_count": 21,
   "id": "f6ff138d",
   "metadata": {},
   "outputs": [
    {
     "data": {
      "text/plain": [
       "{'scoring': None,\n",
       " 'estimator': Pipeline(steps=[('pca', PCA(n_components=150, random_state=42, whiten=True)),\n",
       "                 ('estimator', SVC())]),\n",
       " 'n_jobs': None,\n",
       " 'refit': True,\n",
       " 'cv': 5,\n",
       " 'verbose': 0,\n",
       " 'pre_dispatch': '2*n_jobs',\n",
       " 'error_score': nan,\n",
       " 'return_train_score': False,\n",
       " 'param_grid': {'estimator__C': array([1, 3, 5, 7, 9]),\n",
       "  'estimator__gamma': array([0.1, 0.2, 0.3, 0.4, 0.5, 0.6, 0.7, 0.8, 0.9])},\n",
       " 'multimetric_': False,\n",
       " 'best_index_': 0,\n",
       " 'best_score_': 0.3916938984538848,\n",
       " 'best_params_': {'estimator__C': 1, 'estimator__gamma': 0.1},\n",
       " 'best_estimator_': Pipeline(steps=[('pca', PCA(n_components=150, random_state=42, whiten=True)),\n",
       "                 ('estimator', SVC(C=1, gamma=0.1))]),\n",
       " 'refit_time_': 0.27382993698120117,\n",
       " 'scorer_': <function sklearn.metrics._scorer._passthrough_scorer(estimator, *args, **kwargs)>,\n",
       " 'cv_results_': {'mean_fit_time': array([0.21890512, 0.2080575 , 0.21933241, 0.22287793, 0.21892395,\n",
       "         0.1952878 , 0.21751051, 0.22355318, 0.21404066, 0.21570334,\n",
       "         0.21964636, 0.24084706, 0.21442094, 0.20279198, 0.22354164,\n",
       "         0.21287866, 0.20889893, 0.21349182, 0.22525315, 0.24789085,\n",
       "         0.22507854, 0.2150043 , 0.2410255 , 0.22747331, 0.21817431,\n",
       "         0.2172008 , 0.22307596, 0.22687607, 0.21104364, 0.21204405,\n",
       "         0.2364418 , 0.22104945, 0.21303658, 0.20805058, 0.23380456,\n",
       "         0.22390537, 0.20187569, 0.21563902, 0.22551923, 0.23439322,\n",
       "         0.21738224, 0.20696054, 0.22811427, 0.22233691, 0.19873662]),\n",
       "  'std_fit_time': array([0.01522007, 0.01897528, 0.02035947, 0.00463755, 0.02210735,\n",
       "         0.00987241, 0.01107223, 0.01789103, 0.01073912, 0.01282917,\n",
       "         0.01145585, 0.01383974, 0.01894541, 0.00866037, 0.01731295,\n",
       "         0.00806175, 0.01449828, 0.01955533, 0.01221495, 0.01548655,\n",
       "         0.0108482 , 0.01352646, 0.01027118, 0.01354909, 0.0210654 ,\n",
       "         0.02208818, 0.00832637, 0.0151992 , 0.00996613, 0.00932801,\n",
       "         0.01350282, 0.00994705, 0.00966469, 0.00541329, 0.01110038,\n",
       "         0.0167593 , 0.00656015, 0.02730511, 0.00881141, 0.00808126,\n",
       "         0.02430616, 0.01448801, 0.00649899, 0.01461685, 0.0038376 ]),\n",
       "  'mean_score_time': array([0.03106756, 0.0337296 , 0.03172998, 0.0326776 , 0.03142242,\n",
       "         0.03133364, 0.03340435, 0.03520131, 0.03291726, 0.03113227,\n",
       "         0.03412857, 0.03754516, 0.03348794, 0.03131742, 0.03106775,\n",
       "         0.03156848, 0.02912107, 0.03165855, 0.03679423, 0.03236718,\n",
       "         0.03868833, 0.03189931, 0.04170337, 0.03129539, 0.0315156 ,\n",
       "         0.03709388, 0.0330709 , 0.03676777, 0.02851162, 0.03175473,\n",
       "         0.03345113, 0.02983294, 0.02991967, 0.03152976, 0.0339262 ,\n",
       "         0.03344293, 0.02823215, 0.02961597, 0.03199763, 0.03253837,\n",
       "         0.0302125 , 0.03261547, 0.03095961, 0.03074856, 0.0304265 ]),\n",
       "  'std_score_time': array([0.00433554, 0.00275486, 0.00399941, 0.00201584, 0.00431282,\n",
       "         0.00339693, 0.0060409 , 0.00337272, 0.00372544, 0.00386625,\n",
       "         0.00319685, 0.00681425, 0.00670232, 0.00376262, 0.00289582,\n",
       "         0.00327264, 0.00159647, 0.00454985, 0.01059475, 0.00259842,\n",
       "         0.01159353, 0.00499106, 0.00560402, 0.00482885, 0.00293131,\n",
       "         0.00513484, 0.0029877 , 0.00576238, 0.00047937, 0.00363714,\n",
       "         0.0049508 , 0.00255753, 0.00302474, 0.00367296, 0.00708286,\n",
       "         0.00879631, 0.0005873 , 0.0022214 , 0.00335993, 0.00452905,\n",
       "         0.00198065, 0.00356481, 0.00264859, 0.00393181, 0.00375416]),\n",
       "  'param_estimator__C': masked_array(data=[1, 1, 1, 1, 1, 1, 1, 1, 1, 3, 3, 3, 3, 3, 3, 3, 3, 3,\n",
       "                     5, 5, 5, 5, 5, 5, 5, 5, 5, 7, 7, 7, 7, 7, 7, 7, 7, 7,\n",
       "                     9, 9, 9, 9, 9, 9, 9, 9, 9],\n",
       "               mask=[False, False, False, False, False, False, False, False,\n",
       "                     False, False, False, False, False, False, False, False,\n",
       "                     False, False, False, False, False, False, False, False,\n",
       "                     False, False, False, False, False, False, False, False,\n",
       "                     False, False, False, False, False, False, False, False,\n",
       "                     False, False, False, False, False],\n",
       "         fill_value='?',\n",
       "              dtype=object),\n",
       "  'param_estimator__gamma': masked_array(data=[0.1, 0.2, 0.30000000000000004, 0.4, 0.5, 0.6,\n",
       "                     0.7000000000000001, 0.8, 0.9, 0.1, 0.2,\n",
       "                     0.30000000000000004, 0.4, 0.5, 0.6, 0.7000000000000001,\n",
       "                     0.8, 0.9, 0.1, 0.2, 0.30000000000000004, 0.4, 0.5, 0.6,\n",
       "                     0.7000000000000001, 0.8, 0.9, 0.1, 0.2,\n",
       "                     0.30000000000000004, 0.4, 0.5, 0.6, 0.7000000000000001,\n",
       "                     0.8, 0.9, 0.1, 0.2, 0.30000000000000004, 0.4, 0.5, 0.6,\n",
       "                     0.7000000000000001, 0.8, 0.9],\n",
       "               mask=[False, False, False, False, False, False, False, False,\n",
       "                     False, False, False, False, False, False, False, False,\n",
       "                     False, False, False, False, False, False, False, False,\n",
       "                     False, False, False, False, False, False, False, False,\n",
       "                     False, False, False, False, False, False, False, False,\n",
       "                     False, False, False, False, False],\n",
       "         fill_value='?',\n",
       "              dtype=object),\n",
       "  'params': [{'estimator__C': 1, 'estimator__gamma': 0.1},\n",
       "   {'estimator__C': 1, 'estimator__gamma': 0.2},\n",
       "   {'estimator__C': 1, 'estimator__gamma': 0.30000000000000004},\n",
       "   {'estimator__C': 1, 'estimator__gamma': 0.4},\n",
       "   {'estimator__C': 1, 'estimator__gamma': 0.5},\n",
       "   {'estimator__C': 1, 'estimator__gamma': 0.6},\n",
       "   {'estimator__C': 1, 'estimator__gamma': 0.7000000000000001},\n",
       "   {'estimator__C': 1, 'estimator__gamma': 0.8},\n",
       "   {'estimator__C': 1, 'estimator__gamma': 0.9},\n",
       "   {'estimator__C': 3, 'estimator__gamma': 0.1},\n",
       "   {'estimator__C': 3, 'estimator__gamma': 0.2},\n",
       "   {'estimator__C': 3, 'estimator__gamma': 0.30000000000000004},\n",
       "   {'estimator__C': 3, 'estimator__gamma': 0.4},\n",
       "   {'estimator__C': 3, 'estimator__gamma': 0.5},\n",
       "   {'estimator__C': 3, 'estimator__gamma': 0.6},\n",
       "   {'estimator__C': 3, 'estimator__gamma': 0.7000000000000001},\n",
       "   {'estimator__C': 3, 'estimator__gamma': 0.8},\n",
       "   {'estimator__C': 3, 'estimator__gamma': 0.9},\n",
       "   {'estimator__C': 5, 'estimator__gamma': 0.1},\n",
       "   {'estimator__C': 5, 'estimator__gamma': 0.2},\n",
       "   {'estimator__C': 5, 'estimator__gamma': 0.30000000000000004},\n",
       "   {'estimator__C': 5, 'estimator__gamma': 0.4},\n",
       "   {'estimator__C': 5, 'estimator__gamma': 0.5},\n",
       "   {'estimator__C': 5, 'estimator__gamma': 0.6},\n",
       "   {'estimator__C': 5, 'estimator__gamma': 0.7000000000000001},\n",
       "   {'estimator__C': 5, 'estimator__gamma': 0.8},\n",
       "   {'estimator__C': 5, 'estimator__gamma': 0.9},\n",
       "   {'estimator__C': 7, 'estimator__gamma': 0.1},\n",
       "   {'estimator__C': 7, 'estimator__gamma': 0.2},\n",
       "   {'estimator__C': 7, 'estimator__gamma': 0.30000000000000004},\n",
       "   {'estimator__C': 7, 'estimator__gamma': 0.4},\n",
       "   {'estimator__C': 7, 'estimator__gamma': 0.5},\n",
       "   {'estimator__C': 7, 'estimator__gamma': 0.6},\n",
       "   {'estimator__C': 7, 'estimator__gamma': 0.7000000000000001},\n",
       "   {'estimator__C': 7, 'estimator__gamma': 0.8},\n",
       "   {'estimator__C': 7, 'estimator__gamma': 0.9},\n",
       "   {'estimator__C': 9, 'estimator__gamma': 0.1},\n",
       "   {'estimator__C': 9, 'estimator__gamma': 0.2},\n",
       "   {'estimator__C': 9, 'estimator__gamma': 0.30000000000000004},\n",
       "   {'estimator__C': 9, 'estimator__gamma': 0.4},\n",
       "   {'estimator__C': 9, 'estimator__gamma': 0.5},\n",
       "   {'estimator__C': 9, 'estimator__gamma': 0.6},\n",
       "   {'estimator__C': 9, 'estimator__gamma': 0.7000000000000001},\n",
       "   {'estimator__C': 9, 'estimator__gamma': 0.8},\n",
       "   {'estimator__C': 9, 'estimator__gamma': 0.9}],\n",
       "  'split0_test_score': array([0.38916256, 0.38916256, 0.38916256, 0.38916256, 0.38916256,\n",
       "         0.38916256, 0.38916256, 0.38916256, 0.38916256, 0.38916256,\n",
       "         0.38916256, 0.38916256, 0.38916256, 0.38916256, 0.38916256,\n",
       "         0.38916256, 0.38916256, 0.38916256, 0.38916256, 0.38916256,\n",
       "         0.38916256, 0.38916256, 0.38916256, 0.38916256, 0.38916256,\n",
       "         0.38916256, 0.38916256, 0.38916256, 0.38916256, 0.38916256,\n",
       "         0.38916256, 0.38916256, 0.38916256, 0.38916256, 0.38916256,\n",
       "         0.38916256, 0.38916256, 0.38916256, 0.38916256, 0.38916256,\n",
       "         0.38916256, 0.38916256, 0.38916256, 0.38916256, 0.38916256]),\n",
       "  'split1_test_score': array([0.39108911, 0.39108911, 0.39108911, 0.39108911, 0.39108911,\n",
       "         0.39108911, 0.39108911, 0.39108911, 0.39108911, 0.39108911,\n",
       "         0.39108911, 0.39108911, 0.39108911, 0.39108911, 0.39108911,\n",
       "         0.39108911, 0.39108911, 0.39108911, 0.39108911, 0.39108911,\n",
       "         0.39108911, 0.39108911, 0.39108911, 0.39108911, 0.39108911,\n",
       "         0.39108911, 0.39108911, 0.39108911, 0.39108911, 0.39108911,\n",
       "         0.39108911, 0.39108911, 0.39108911, 0.39108911, 0.39108911,\n",
       "         0.39108911, 0.39108911, 0.39108911, 0.39108911, 0.39108911,\n",
       "         0.39108911, 0.39108911, 0.39108911, 0.39108911, 0.39108911]),\n",
       "  'split2_test_score': array([0.39108911, 0.39108911, 0.39108911, 0.39108911, 0.39108911,\n",
       "         0.39108911, 0.39108911, 0.39108911, 0.39108911, 0.39108911,\n",
       "         0.39108911, 0.39108911, 0.39108911, 0.39108911, 0.39108911,\n",
       "         0.39108911, 0.39108911, 0.39108911, 0.39108911, 0.39108911,\n",
       "         0.39108911, 0.39108911, 0.39108911, 0.39108911, 0.39108911,\n",
       "         0.39108911, 0.39108911, 0.39108911, 0.39108911, 0.39108911,\n",
       "         0.39108911, 0.39108911, 0.39108911, 0.39108911, 0.39108911,\n",
       "         0.39108911, 0.39108911, 0.39108911, 0.39108911, 0.39108911,\n",
       "         0.39108911, 0.39108911, 0.39108911, 0.39108911, 0.39108911]),\n",
       "  'split3_test_score': array([0.39108911, 0.39108911, 0.39108911, 0.39108911, 0.39108911,\n",
       "         0.39108911, 0.39108911, 0.39108911, 0.39108911, 0.39108911,\n",
       "         0.39108911, 0.39108911, 0.39108911, 0.39108911, 0.39108911,\n",
       "         0.39108911, 0.39108911, 0.39108911, 0.39108911, 0.39108911,\n",
       "         0.39108911, 0.39108911, 0.39108911, 0.39108911, 0.39108911,\n",
       "         0.39108911, 0.39108911, 0.39108911, 0.39108911, 0.39108911,\n",
       "         0.39108911, 0.39108911, 0.39108911, 0.39108911, 0.39108911,\n",
       "         0.39108911, 0.39108911, 0.39108911, 0.39108911, 0.39108911,\n",
       "         0.39108911, 0.39108911, 0.39108911, 0.39108911, 0.39108911]),\n",
       "  'split4_test_score': array([0.3960396, 0.3960396, 0.3960396, 0.3960396, 0.3960396, 0.3960396,\n",
       "         0.3960396, 0.3960396, 0.3960396, 0.3960396, 0.3960396, 0.3960396,\n",
       "         0.3960396, 0.3960396, 0.3960396, 0.3960396, 0.3960396, 0.3960396,\n",
       "         0.3960396, 0.3960396, 0.3960396, 0.3960396, 0.3960396, 0.3960396,\n",
       "         0.3960396, 0.3960396, 0.3960396, 0.3960396, 0.3960396, 0.3960396,\n",
       "         0.3960396, 0.3960396, 0.3960396, 0.3960396, 0.3960396, 0.3960396,\n",
       "         0.3960396, 0.3960396, 0.3960396, 0.3960396, 0.3960396, 0.3960396,\n",
       "         0.3960396, 0.3960396, 0.3960396]),\n",
       "  'mean_test_score': array([0.3916939, 0.3916939, 0.3916939, 0.3916939, 0.3916939, 0.3916939,\n",
       "         0.3916939, 0.3916939, 0.3916939, 0.3916939, 0.3916939, 0.3916939,\n",
       "         0.3916939, 0.3916939, 0.3916939, 0.3916939, 0.3916939, 0.3916939,\n",
       "         0.3916939, 0.3916939, 0.3916939, 0.3916939, 0.3916939, 0.3916939,\n",
       "         0.3916939, 0.3916939, 0.3916939, 0.3916939, 0.3916939, 0.3916939,\n",
       "         0.3916939, 0.3916939, 0.3916939, 0.3916939, 0.3916939, 0.3916939,\n",
       "         0.3916939, 0.3916939, 0.3916939, 0.3916939, 0.3916939, 0.3916939,\n",
       "         0.3916939, 0.3916939, 0.3916939]),\n",
       "  'std_test_score': array([0.0022974, 0.0022974, 0.0022974, 0.0022974, 0.0022974, 0.0022974,\n",
       "         0.0022974, 0.0022974, 0.0022974, 0.0022974, 0.0022974, 0.0022974,\n",
       "         0.0022974, 0.0022974, 0.0022974, 0.0022974, 0.0022974, 0.0022974,\n",
       "         0.0022974, 0.0022974, 0.0022974, 0.0022974, 0.0022974, 0.0022974,\n",
       "         0.0022974, 0.0022974, 0.0022974, 0.0022974, 0.0022974, 0.0022974,\n",
       "         0.0022974, 0.0022974, 0.0022974, 0.0022974, 0.0022974, 0.0022974,\n",
       "         0.0022974, 0.0022974, 0.0022974, 0.0022974, 0.0022974, 0.0022974,\n",
       "         0.0022974, 0.0022974, 0.0022974]),\n",
       "  'rank_test_score': array([1, 1, 1, 1, 1, 1, 1, 1, 1, 1, 1, 1, 1, 1, 1, 1, 1, 1, 1, 1, 1, 1,\n",
       "         1, 1, 1, 1, 1, 1, 1, 1, 1, 1, 1, 1, 1, 1, 1, 1, 1, 1, 1, 1, 1, 1,\n",
       "         1])},\n",
       " 'n_splits_': 5}"
      ]
     },
     "execution_count": 21,
     "metadata": {},
     "output_type": "execute_result"
    }
   ],
   "source": [
    "vars(grid)"
   ]
  },
  {
   "cell_type": "code",
   "execution_count": null,
   "id": "a900db40",
   "metadata": {},
   "outputs": [],
   "source": [
    "#score = 0.39169"
   ]
  }
 ],
 "metadata": {
  "kernelspec": {
   "display_name": "Python 3 (ipykernel)",
   "language": "python",
   "name": "python3"
  },
  "language_info": {
   "codemirror_mode": {
    "name": "ipython",
    "version": 3
   },
   "file_extension": ".py",
   "mimetype": "text/x-python",
   "name": "python",
   "nbconvert_exporter": "python",
   "pygments_lexer": "ipython3",
   "version": "3.9.12"
  }
 },
 "nbformat": 4,
 "nbformat_minor": 5
}
