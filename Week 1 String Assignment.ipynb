{
 "cells": [
  {
   "cell_type": "markdown",
   "metadata": {},
   "source": [
    "# Francis Yang 9/27/2022\n",
    "## String Assignment\n",
    "1. Ask the user to enter their first name and surname in lower case. Change the case to title case and join them together. Display the finished result."
   ]
  },
  {
   "cell_type": "code",
   "execution_count": 1,
   "metadata": {},
   "outputs": [
    {
     "name": "stdout",
     "output_type": "stream",
     "text": [
      "Enter first name: jack\n",
      "Enter last name: black\n",
      "Your fullname is Jack Black\n"
     ]
    }
   ],
   "source": [
    "fname = input(\"Enter first name: \")\n",
    "lname = input(\"Enter last name: \")\n",
    "fullname = fname.title() + \" \" + lname.title()\n",
    "print(\"Your fullname is\",fullname)"
   ]
  },
  {
   "cell_type": "markdown",
   "metadata": {},
   "source": [
    "2. Ask the user to type in the first line of a poem Raven by Edgar Allen Poe and display the length of the string. Ask for a starting number and an ending number and then display just that section of the text (remember Python starts counting from 0 and not 1). Here is the poem Raven:"
   ]
  },
  {
   "cell_type": "code",
   "execution_count": 2,
   "metadata": {},
   "outputs": [
    {
     "name": "stdout",
     "output_type": "stream",
     "text": [
      "Enter first line of a poem:Deep into that darkness peering,\n",
      "Line length is 32\n",
      "Enter a starting number:5\n",
      "Enter a end number:25\n",
      "Slice: into that darkness p\n"
     ]
    }
   ],
   "source": [
    "fline = input(\"Enter first line of a poem:\")\n",
    "print(\"Line length is\",len(fline))\n",
    "start = int(input(\"Enter a starting number:\"))\n",
    "stop = int(input(\"Enter a end number:\"))\n",
    "print(\"Slice:\",fline[start:stop])"
   ]
  },
  {
   "cell_type": "markdown",
   "metadata": {},
   "source": [
    "3. Removes extra characters from the start and end of a string and explain why you need to remove white spaces while exploring text."
   ]
  },
  {
   "cell_type": "code",
   "execution_count": 3,
   "metadata": {},
   "outputs": [
    {
     "name": "stdout",
     "output_type": "stream",
     "text": [
      "Jello World\n",
      "   Jel\n"
     ]
    }
   ],
   "source": [
    "line1 = \"   Jello World   \"\n",
    "line2 = line1.strip()\n",
    "print(line2)\n",
    "print(line1[:6])"
   ]
  },
  {
   "cell_type": "markdown",
   "metadata": {},
   "source": [
    "White spaces in a string are accounted as unique, to a similar string without white spaces"
   ]
  }
 ],
 "metadata": {
  "kernelspec": {
   "display_name": "Python 3",
   "language": "python",
   "name": "python3"
  },
  "language_info": {
   "codemirror_mode": {
    "name": "ipython",
    "version": 3
   },
   "file_extension": ".py",
   "mimetype": "text/x-python",
   "name": "python",
   "nbconvert_exporter": "python",
   "pygments_lexer": "ipython3",
   "version": "3.7.6"
  }
 },
 "nbformat": 4,
 "nbformat_minor": 4
}
