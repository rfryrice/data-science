{
 "cells": [
  {
   "cell_type": "markdown",
   "metadata": {},
   "source": [
    "# Francis Yang 9/27/2022\n",
    "## Data Types Assignment\n",
    "1. Suppose you invested in Bitcoin at the end of 2020 when Bitcoin gained a lot of value. What would be your money at the end of a week if you had invested $1000 with an average daily increase of 12\\% ? You can solve the problem using Python.\n",
    "\n",
    "Help\n",
    "\n",
    "* Create a variable capital (\\$1000)\n",
    "* Create a variable for daily growth (12\\%)\n",
    "* Create a variable for period (7)\n",
    "* Calculate the final growth rate\n",
    "* Calculate result\n",
    "* Print result"
   ]
  },
  {
   "cell_type": "code",
   "execution_count": 1,
   "metadata": {},
   "outputs": [
    {
     "name": "stdout",
     "output_type": "stream",
     "text": [
      "Total:$ 2210.6814074060812\n"
     ]
    }
   ],
   "source": [
    "capital = 1000\n",
    "rate = 0.12\n",
    "period = 7\n",
    "expected = capital*((1 + (rate/1))**(period))\n",
    "print(\"Total:$\",expected)"
   ]
  },
  {
   "cell_type": "markdown",
   "metadata": {},
   "source": [
    "2. Print the text in quotes with Python. However, you must get the numbers from variables using .format() notation. Because the text is long, you might consider writing in two lines:"
   ]
  },
  {
   "cell_type": "code",
   "execution_count": 2,
   "metadata": {},
   "outputs": [
    {
     "name": "stdout",
     "output_type": "stream",
     "text": [
      "When we buy bitcoin with 1000 USD at the beginning of the week, \n",
      "we would earn 1210.68 USD at the end of the week, with an average gain of 12%.\n"
     ]
    }
   ],
   "source": [
    "txt = \"\"\"When we buy bitcoin with {} USD at the beginning of the week, \n",
    "we would earn {:.2f} USD at the end of the week, with an average gain of 12%.\"\"\"\n",
    "print(txt.format(capital,expected-capital))"
   ]
  },
  {
   "cell_type": "markdown",
   "metadata": {},
   "source": [
    "3. Get the temperature in Fahrenheit from user and write a code to convert it to Celcius. For conversion, you can use this formula: C = (5/9) * (F - 32)"
   ]
  },
  {
   "cell_type": "code",
   "execution_count": 3,
   "metadata": {},
   "outputs": [
    {
     "name": "stdout",
     "output_type": "stream",
     "text": [
      "Enter a temperature (F) 26\n",
      "The temperarture you entered in Celsius is -3.33\n"
     ]
    }
   ],
   "source": [
    "ftemp = int(input(\"Enter a temperature (F) \"))\n",
    "ctemp = (5/9)*(ftemp-32)\n",
    "print(f\"The temperarture you entered in Celsius is {ctemp:.2f}\")"
   ]
  },
  {
   "cell_type": "markdown",
   "metadata": {},
   "source": [
    "4. Get a three digit number the from user and calculate the sum of the digits in the integer."
   ]
  },
  {
   "cell_type": "code",
   "execution_count": 4,
   "metadata": {},
   "outputs": [
    {
     "name": "stdout",
     "output_type": "stream",
     "text": [
      "Enter a three digit number: 456\n",
      "The sum of digits in the number is 15\n"
     ]
    }
   ],
   "source": [
    "num = input(\"Enter a three digit number: \")\n",
    "output = int(num[0]) + int(num[1]) + int(num[2])\n",
    "print(f\"The sum of digits in the number is {output}\")"
   ]
  },
  {
   "cell_type": "markdown",
   "metadata": {},
   "source": [
    "5. Write some code to calculate the hypotenuse of a right angled triangle. Get the side lengths from the user."
   ]
  },
  {
   "cell_type": "code",
   "execution_count": 5,
   "metadata": {},
   "outputs": [
    {
     "name": "stdout",
     "output_type": "stream",
     "text": [
      "First side length: 3\n",
      "Second side length: 4\n",
      "The length of the hypotenuse is 5.00\n"
     ]
    }
   ],
   "source": [
    "side1 = int(input(\"First side length: \"))\n",
    "side2 = int(input(\"Second side length: \"))\n",
    "hype = (side1**2 + side2**2)**(1/2)\n",
    "print(f\"The length of the hypotenuse is {hype:.2f}\")"
   ]
  }
 ],
 "metadata": {
  "kernelspec": {
   "display_name": "Python 3",
   "language": "python",
   "name": "python3"
  },
  "language_info": {
   "codemirror_mode": {
    "name": "ipython",
    "version": 3
   },
   "file_extension": ".py",
   "mimetype": "text/x-python",
   "name": "python",
   "nbconvert_exporter": "python",
   "pygments_lexer": "ipython3",
   "version": "3.7.6"
  }
 },
 "nbformat": 4,
 "nbformat_minor": 4
}
