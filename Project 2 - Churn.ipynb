{
 "cells": [
  {
   "cell_type": "markdown",
   "id": "4df15d54",
   "metadata": {},
   "source": [
    "# Project 2 Churn Analysis\n",
    "## Francis Yang - 12/5/2022\n",
    "\n",
    "This project is about a very common business problem: analyzing customer churn. In this project, using *supervised learning models*, you will identify cell phone service customers who are more likely to stop using the service in the future and create a model that can predict if a certain customer will drop the service.<br> <br>\n",
    "Furthermore, it would help to analyze the top factors that influence user retention to guide the company prevent user churn. The dataset contains the information of customers' plans and usage of the service, as well as whether or not they stopped using the service eventually. You may find solutions to very similar data science problems on many different platforms. It is important that you put all your effort to get to a working solution yourself.  "
   ]
  },
  {
   "cell_type": "code",
   "execution_count": 1,
   "id": "98a536d9",
   "metadata": {},
   "outputs": [
    {
     "data": {
      "text/html": [
       "        <script type=\"text/javascript\">\n",
       "        window.PlotlyConfig = {MathJaxConfig: 'local'};\n",
       "        if (window.MathJax) {MathJax.Hub.Config({SVG: {font: \"STIX-Web\"}});}\n",
       "        if (typeof require !== 'undefined') {\n",
       "        require.undef(\"plotly\");\n",
       "        requirejs.config({\n",
       "            paths: {\n",
       "                'plotly': ['https://cdn.plot.ly/plotly-2.9.0.min']\n",
       "            }\n",
       "        });\n",
       "        require(['plotly'], function(Plotly) {\n",
       "            window._Plotly = Plotly;\n",
       "        });\n",
       "        }\n",
       "        </script>\n",
       "        "
      ]
     },
     "metadata": {},
     "output_type": "display_data"
    }
   ],
   "source": [
    "import pandas as pd\n",
    "import numpy as np\n",
    "import matplotlib.pyplot as plt\n",
    "import matplotlib.colors as colors\n",
    "import ipywidgets as widgets\n",
    "\n",
    "from plotly.offline import init_notebook_mode\n",
    "import plotly as py\n",
    "import plotly.graph_objects as go\n",
    "\n",
    "\n",
    "init_notebook_mode(connected=True)\n",
    "\n",
    "data = pd.read_csv(\"datasets/churn.csv\")"
   ]
  },
  {
   "cell_type": "code",
   "execution_count": 2,
   "id": "c14296e1",
   "metadata": {},
   "outputs": [
    {
     "data": {
      "text/html": [
       "<div>\n",
       "<style scoped>\n",
       "    .dataframe tbody tr th:only-of-type {\n",
       "        vertical-align: middle;\n",
       "    }\n",
       "\n",
       "    .dataframe tbody tr th {\n",
       "        vertical-align: top;\n",
       "    }\n",
       "\n",
       "    .dataframe thead th {\n",
       "        text-align: right;\n",
       "    }\n",
       "</style>\n",
       "<table border=\"1\" class=\"dataframe\">\n",
       "  <thead>\n",
       "    <tr style=\"text-align: right;\">\n",
       "      <th></th>\n",
       "      <th>state</th>\n",
       "      <th>account_length</th>\n",
       "      <th>area_code</th>\n",
       "      <th>phone_number</th>\n",
       "      <th>intl_plan</th>\n",
       "      <th>voice_mail_plan</th>\n",
       "      <th>number_vmail_messages</th>\n",
       "      <th>total_day_minutes</th>\n",
       "      <th>total_day_calls</th>\n",
       "      <th>total_day_charge</th>\n",
       "      <th>...</th>\n",
       "      <th>total_eve_calls</th>\n",
       "      <th>total_eve_charge</th>\n",
       "      <th>total_night_minutes</th>\n",
       "      <th>total_night_calls</th>\n",
       "      <th>total_night_charge</th>\n",
       "      <th>total_intl_minutes</th>\n",
       "      <th>total_intl_calls</th>\n",
       "      <th>total_intl_charge</th>\n",
       "      <th>number_customer_service_calls</th>\n",
       "      <th>churned</th>\n",
       "    </tr>\n",
       "  </thead>\n",
       "  <tbody>\n",
       "    <tr>\n",
       "      <th>0</th>\n",
       "      <td>KS</td>\n",
       "      <td>128</td>\n",
       "      <td>415</td>\n",
       "      <td>382-4657</td>\n",
       "      <td>no</td>\n",
       "      <td>yes</td>\n",
       "      <td>25</td>\n",
       "      <td>265.1</td>\n",
       "      <td>110</td>\n",
       "      <td>45.07</td>\n",
       "      <td>...</td>\n",
       "      <td>99</td>\n",
       "      <td>16.78</td>\n",
       "      <td>244.7</td>\n",
       "      <td>91</td>\n",
       "      <td>11.01</td>\n",
       "      <td>10.0</td>\n",
       "      <td>3</td>\n",
       "      <td>2.70</td>\n",
       "      <td>1</td>\n",
       "      <td>False.</td>\n",
       "    </tr>\n",
       "    <tr>\n",
       "      <th>1</th>\n",
       "      <td>OH</td>\n",
       "      <td>107</td>\n",
       "      <td>415</td>\n",
       "      <td>371-7191</td>\n",
       "      <td>no</td>\n",
       "      <td>yes</td>\n",
       "      <td>26</td>\n",
       "      <td>161.6</td>\n",
       "      <td>123</td>\n",
       "      <td>27.47</td>\n",
       "      <td>...</td>\n",
       "      <td>103</td>\n",
       "      <td>?</td>\n",
       "      <td>254.4</td>\n",
       "      <td>103</td>\n",
       "      <td>11.45</td>\n",
       "      <td>13.7</td>\n",
       "      <td>3</td>\n",
       "      <td>3.70</td>\n",
       "      <td>1</td>\n",
       "      <td>False.</td>\n",
       "    </tr>\n",
       "    <tr>\n",
       "      <th>2</th>\n",
       "      <td>NJ</td>\n",
       "      <td>137</td>\n",
       "      <td>415</td>\n",
       "      <td>358-1921</td>\n",
       "      <td>no</td>\n",
       "      <td>no</td>\n",
       "      <td>0</td>\n",
       "      <td>243.4</td>\n",
       "      <td>114</td>\n",
       "      <td>41.38</td>\n",
       "      <td>...</td>\n",
       "      <td>110</td>\n",
       "      <td>10.3</td>\n",
       "      <td>162.6</td>\n",
       "      <td>104</td>\n",
       "      <td>7.32</td>\n",
       "      <td>12.2</td>\n",
       "      <td>5</td>\n",
       "      <td>3.29</td>\n",
       "      <td>0</td>\n",
       "      <td>False.</td>\n",
       "    </tr>\n",
       "    <tr>\n",
       "      <th>3</th>\n",
       "      <td>OH</td>\n",
       "      <td>84</td>\n",
       "      <td>408</td>\n",
       "      <td>375-9999</td>\n",
       "      <td>yes</td>\n",
       "      <td>no</td>\n",
       "      <td>0</td>\n",
       "      <td>299.4</td>\n",
       "      <td>71</td>\n",
       "      <td>50.90</td>\n",
       "      <td>...</td>\n",
       "      <td>88</td>\n",
       "      <td>5.26</td>\n",
       "      <td>196.9</td>\n",
       "      <td>89</td>\n",
       "      <td>8.86</td>\n",
       "      <td>6.6</td>\n",
       "      <td>7</td>\n",
       "      <td>1.78</td>\n",
       "      <td>2</td>\n",
       "      <td>False.</td>\n",
       "    </tr>\n",
       "    <tr>\n",
       "      <th>4</th>\n",
       "      <td>OK</td>\n",
       "      <td>75</td>\n",
       "      <td>415</td>\n",
       "      <td>330-6626</td>\n",
       "      <td>yes</td>\n",
       "      <td>no</td>\n",
       "      <td>0</td>\n",
       "      <td>166.7</td>\n",
       "      <td>113</td>\n",
       "      <td>28.34</td>\n",
       "      <td>...</td>\n",
       "      <td>122</td>\n",
       "      <td>12.61</td>\n",
       "      <td>186.9</td>\n",
       "      <td>121</td>\n",
       "      <td>8.41</td>\n",
       "      <td>10.1</td>\n",
       "      <td>3</td>\n",
       "      <td>2.73</td>\n",
       "      <td>3</td>\n",
       "      <td>False.</td>\n",
       "    </tr>\n",
       "  </tbody>\n",
       "</table>\n",
       "<p>5 rows × 21 columns</p>\n",
       "</div>"
      ],
      "text/plain": [
       "  state  account_length  area_code phone_number intl_plan voice_mail_plan  \\\n",
       "0    KS             128        415     382-4657        no             yes   \n",
       "1    OH             107        415     371-7191        no             yes   \n",
       "2    NJ             137        415     358-1921        no              no   \n",
       "3    OH              84        408     375-9999       yes              no   \n",
       "4    OK              75        415     330-6626       yes              no   \n",
       "\n",
       "   number_vmail_messages  total_day_minutes  total_day_calls  \\\n",
       "0                     25              265.1              110   \n",
       "1                     26              161.6              123   \n",
       "2                      0              243.4              114   \n",
       "3                      0              299.4               71   \n",
       "4                      0              166.7              113   \n",
       "\n",
       "   total_day_charge  ...  total_eve_calls  total_eve_charge  \\\n",
       "0             45.07  ...               99             16.78   \n",
       "1             27.47  ...              103                 ?   \n",
       "2             41.38  ...              110              10.3   \n",
       "3             50.90  ...               88              5.26   \n",
       "4             28.34  ...              122             12.61   \n",
       "\n",
       "  total_night_minutes  total_night_calls  total_night_charge  \\\n",
       "0               244.7                 91               11.01   \n",
       "1               254.4                103               11.45   \n",
       "2               162.6                104                7.32   \n",
       "3               196.9                 89                8.86   \n",
       "4               186.9                121                8.41   \n",
       "\n",
       "   total_intl_minutes  total_intl_calls  total_intl_charge  \\\n",
       "0                10.0                 3               2.70   \n",
       "1                13.7                 3               3.70   \n",
       "2                12.2                 5               3.29   \n",
       "3                 6.6                 7               1.78   \n",
       "4                10.1                 3               2.73   \n",
       "\n",
       "   number_customer_service_calls  churned  \n",
       "0                              1   False.  \n",
       "1                              1   False.  \n",
       "2                              0   False.  \n",
       "3                              2   False.  \n",
       "4                              3   False.  \n",
       "\n",
       "[5 rows x 21 columns]"
      ]
     },
     "execution_count": 2,
     "metadata": {},
     "output_type": "execute_result"
    }
   ],
   "source": [
    "data.head()"
   ]
  },
  {
   "cell_type": "code",
   "execution_count": 3,
   "id": "032ea059",
   "metadata": {},
   "outputs": [
    {
     "name": "stdout",
     "output_type": "stream",
     "text": [
      "<class 'pandas.core.frame.DataFrame'>\n",
      "RangeIndex: 5000 entries, 0 to 4999\n",
      "Data columns (total 21 columns):\n",
      " #   Column                         Non-Null Count  Dtype  \n",
      "---  ------                         --------------  -----  \n",
      " 0   state                          5000 non-null   object \n",
      " 1   account_length                 5000 non-null   int64  \n",
      " 2   area_code                      5000 non-null   int64  \n",
      " 3   phone_number                   5000 non-null   object \n",
      " 4   intl_plan                      5000 non-null   object \n",
      " 5   voice_mail_plan                5000 non-null   object \n",
      " 6   number_vmail_messages          5000 non-null   int64  \n",
      " 7   total_day_minutes              5000 non-null   float64\n",
      " 8   total_day_calls                5000 non-null   int64  \n",
      " 9   total_day_charge               5000 non-null   float64\n",
      " 10  total_eve_minutes              5000 non-null   float64\n",
      " 11  total_eve_calls                5000 non-null   int64  \n",
      " 12  total_eve_charge               5000 non-null   object \n",
      " 13  total_night_minutes            5000 non-null   float64\n",
      " 14  total_night_calls              5000 non-null   int64  \n",
      " 15  total_night_charge             5000 non-null   float64\n",
      " 16  total_intl_minutes             5000 non-null   float64\n",
      " 17  total_intl_calls               5000 non-null   int64  \n",
      " 18  total_intl_charge              4999 non-null   float64\n",
      " 19  number_customer_service_calls  5000 non-null   int64  \n",
      " 20  churned                        5000 non-null   object \n",
      "dtypes: float64(7), int64(8), object(6)\n",
      "memory usage: 820.4+ KB\n"
     ]
    }
   ],
   "source": [
    "data.info()"
   ]
  },
  {
   "cell_type": "markdown",
   "id": "9e47a32e",
   "metadata": {},
   "source": [
    "Correct predictor data type"
   ]
  },
  {
   "cell_type": "code",
   "execution_count": 4,
   "id": "b7f0ec19",
   "metadata": {},
   "outputs": [],
   "source": [
    "cmap = {\" False.\":False, \" True.\":True}\n",
    "data['churned'] = data['churned'].replace(cmap)"
   ]
  },
  {
   "cell_type": "markdown",
   "id": "144f4574",
   "metadata": {},
   "source": [
    "Correct NaN values and data type"
   ]
  },
  {
   "cell_type": "code",
   "execution_count": 5,
   "id": "4d653938",
   "metadata": {},
   "outputs": [],
   "source": [
    "data['total_eve_charge'] = data['total_eve_charge'].replace({'?':np.nan})\n",
    "data['total_eve_charge'] = data['total_eve_charge'].astype(float)\n",
    "data['intl_plan'] = data['intl_plan'].astype('category')\n",
    "data['voice_mail_plan'] = data['voice_mail_plan'].astype('category')"
   ]
  },
  {
   "cell_type": "code",
   "execution_count": 6,
   "id": "5c2089b3",
   "metadata": {},
   "outputs": [
    {
     "name": "stdout",
     "output_type": "stream",
     "text": [
      "<class 'pandas.core.frame.DataFrame'>\n",
      "RangeIndex: 5000 entries, 0 to 4999\n",
      "Data columns (total 21 columns):\n",
      " #   Column                         Non-Null Count  Dtype   \n",
      "---  ------                         --------------  -----   \n",
      " 0   state                          5000 non-null   object  \n",
      " 1   account_length                 5000 non-null   int64   \n",
      " 2   area_code                      5000 non-null   int64   \n",
      " 3   phone_number                   5000 non-null   object  \n",
      " 4   intl_plan                      5000 non-null   category\n",
      " 5   voice_mail_plan                5000 non-null   category\n",
      " 6   number_vmail_messages          5000 non-null   int64   \n",
      " 7   total_day_minutes              5000 non-null   float64 \n",
      " 8   total_day_calls                5000 non-null   int64   \n",
      " 9   total_day_charge               5000 non-null   float64 \n",
      " 10  total_eve_minutes              5000 non-null   float64 \n",
      " 11  total_eve_calls                5000 non-null   int64   \n",
      " 12  total_eve_charge               4995 non-null   float64 \n",
      " 13  total_night_minutes            5000 non-null   float64 \n",
      " 14  total_night_calls              5000 non-null   int64   \n",
      " 15  total_night_charge             5000 non-null   float64 \n",
      " 16  total_intl_minutes             5000 non-null   float64 \n",
      " 17  total_intl_calls               5000 non-null   int64   \n",
      " 18  total_intl_charge              4999 non-null   float64 \n",
      " 19  number_customer_service_calls  5000 non-null   int64   \n",
      " 20  churned                        5000 non-null   bool    \n",
      "dtypes: bool(1), category(2), float64(8), int64(8), object(2)\n",
      "memory usage: 718.1+ KB\n"
     ]
    }
   ],
   "source": [
    "data.info()"
   ]
  },
  {
   "cell_type": "markdown",
   "id": "f0f69d6b",
   "metadata": {},
   "source": [
    "## Visualization"
   ]
  },
  {
   "cell_type": "code",
   "execution_count": 7,
   "id": "8d04956c",
   "metadata": {
    "scrolled": true
   },
   "outputs": [
    {
     "data": {
      "image/png": "[encoded data removed]",
      "text/plain": [
       "<Figure size 1296x432 with 1 Axes>"
      ]
     },
     "metadata": {
      "needs_background": "light"
     },
     "output_type": "display_data"
    }
   ],
   "source": [
    "data['state'].value_counts().plot(kind='bar',figsize=(18,6));"
   ]
  },
  {
   "cell_type": "markdown",
   "id": "a76fb53f",
   "metadata": {},
   "source": [
    "Somewhat uniform distribution of samples"
   ]
  },
  {
   "cell_type": "code",
   "execution_count": 8,
   "id": "8aefbc7e",
   "metadata": {},
   "outputs": [
    {
     "data": {
      "text/plain": [
       "(51,)"
      ]
     },
     "execution_count": 8,
     "metadata": {},
     "output_type": "execute_result"
    }
   ],
   "source": [
    "data['state'].value_counts().shape"
   ]
  },
  {
   "cell_type": "markdown",
   "id": "8c2cc7d4",
   "metadata": {},
   "source": [
    "Washington DC has its own data.\n",
    "### Categorical"
   ]
  },
  {
   "cell_type": "code",
   "execution_count": 9,
   "id": "160a5825",
   "metadata": {
    "scrolled": true
   },
   "outputs": [
    {
     "data": {
      "image/png": "[encoded data removed]",
      "text/plain": [
       "<Figure size 432x288 with 1 Axes>"
      ]
     },
     "metadata": {
      "needs_background": "light"
     },
     "output_type": "display_data"
    }
   ],
   "source": [
    "data.groupby(['churned', 'intl_plan']).size().unstack().plot(kind='bar', stacked=True,\n",
    "                                                             color=['steelblue', 'salmon'], title='International Plan');"
   ]
  },
  {
   "cell_type": "code",
   "execution_count": 10,
   "id": "a849f970",
   "metadata": {},
   "outputs": [
    {
     "data": {
      "image/png": "[encoded data removed]",
      "text/plain": [
       "<Figure size 432x288 with 1 Axes>"
      ]
     },
     "metadata": {
      "needs_background": "light"
     },
     "output_type": "display_data"
    }
   ],
   "source": [
    "data.groupby(['churned', 'voice_mail_plan']).size().unstack().plot(kind='bar', stacked=True,\n",
    "                                                                   color=['steelblue', 'salmon'], title='Voice Mail Plan');"
   ]
  },
  {
   "cell_type": "markdown",
   "id": "08b89c36",
   "metadata": {},
   "source": [
    "Having an international calling plan or voicemail plan is not a strong indicator of churn alone.\n",
    "\n",
    "### Column Means grouped by State and Area\n",
    "Group means represented below. Some columns will not make sense like phone number and categorical columns, and are removed automatically."
   ]
  },
  {
   "cell_type": "code",
   "execution_count": 11,
   "id": "de1ae8ee",
   "metadata": {},
   "outputs": [],
   "source": [
    "state_area_gc = data.groupby(by=['state','area_code','churned'])\n",
    "state_gc = data.groupby(by=['state','churned'])"
   ]
  },
  {
   "cell_type": "code",
   "execution_count": 12,
   "id": "8cfdec40",
   "metadata": {
    "scrolled": true
   },
   "outputs": [
    {
     "data": {
      "text/html": [
       "<div>\n",
       "<style scoped>\n",
       "    .dataframe tbody tr th:only-of-type {\n",
       "        vertical-align: middle;\n",
       "    }\n",
       "\n",
       "    .dataframe tbody tr th {\n",
       "        vertical-align: top;\n",
       "    }\n",
       "\n",
       "    .dataframe thead th {\n",
       "        text-align: right;\n",
       "    }\n",
       "</style>\n",
       "<table border=\"1\" class=\"dataframe\">\n",
       "  <thead>\n",
       "    <tr style=\"text-align: right;\">\n",
       "      <th></th>\n",
       "      <th></th>\n",
       "      <th></th>\n",
       "      <th>account_length</th>\n",
       "      <th>number_vmail_messages</th>\n",
       "      <th>total_day_minutes</th>\n",
       "      <th>total_day_calls</th>\n",
       "      <th>total_day_charge</th>\n",
       "      <th>total_eve_minutes</th>\n",
       "      <th>total_eve_calls</th>\n",
       "      <th>total_eve_charge</th>\n",
       "      <th>total_night_minutes</th>\n",
       "      <th>total_night_calls</th>\n",
       "      <th>total_night_charge</th>\n",
       "      <th>total_intl_minutes</th>\n",
       "      <th>total_intl_calls</th>\n",
       "      <th>total_intl_charge</th>\n",
       "      <th>number_customer_service_calls</th>\n",
       "    </tr>\n",
       "    <tr>\n",
       "      <th>state</th>\n",
       "      <th>area_code</th>\n",
       "      <th>churned</th>\n",
       "      <th></th>\n",
       "      <th></th>\n",
       "      <th></th>\n",
       "      <th></th>\n",
       "      <th></th>\n",
       "      <th></th>\n",
       "      <th></th>\n",
       "      <th></th>\n",
       "      <th></th>\n",
       "      <th></th>\n",
       "      <th></th>\n",
       "      <th></th>\n",
       "      <th></th>\n",
       "      <th></th>\n",
       "      <th></th>\n",
       "    </tr>\n",
       "  </thead>\n",
       "  <tbody>\n",
       "    <tr>\n",
       "      <th rowspan=\"5\" valign=\"top\">AK</th>\n",
       "      <th>408</th>\n",
       "      <th>False</th>\n",
       "      <td>83.800000</td>\n",
       "      <td>11.666667</td>\n",
       "      <td>172.906667</td>\n",
       "      <td>97.600000</td>\n",
       "      <td>29.394667</td>\n",
       "      <td>169.940000</td>\n",
       "      <td>98.933333</td>\n",
       "      <td>14.445333</td>\n",
       "      <td>178.946667</td>\n",
       "      <td>99.466667</td>\n",
       "      <td>8.052000</td>\n",
       "      <td>9.880000</td>\n",
       "      <td>4.000000</td>\n",
       "      <td>2.669333</td>\n",
       "      <td>1.133333</td>\n",
       "    </tr>\n",
       "    <tr>\n",
       "      <th rowspan=\"2\" valign=\"top\">415</th>\n",
       "      <th>False</th>\n",
       "      <td>100.676471</td>\n",
       "      <td>12.852941</td>\n",
       "      <td>190.905882</td>\n",
       "      <td>103.529412</td>\n",
       "      <td>32.454412</td>\n",
       "      <td>192.197059</td>\n",
       "      <td>99.558824</td>\n",
       "      <td>16.336471</td>\n",
       "      <td>197.773529</td>\n",
       "      <td>100.676471</td>\n",
       "      <td>8.899412</td>\n",
       "      <td>9.438235</td>\n",
       "      <td>5.147059</td>\n",
       "      <td>2.549118</td>\n",
       "      <td>1.264706</td>\n",
       "    </tr>\n",
       "    <tr>\n",
       "      <th>True</th>\n",
       "      <td>112.500000</td>\n",
       "      <td>4.750000</td>\n",
       "      <td>162.900000</td>\n",
       "      <td>91.500000</td>\n",
       "      <td>27.692500</td>\n",
       "      <td>173.125000</td>\n",
       "      <td>102.500000</td>\n",
       "      <td>14.715000</td>\n",
       "      <td>202.300000</td>\n",
       "      <td>89.500000</td>\n",
       "      <td>9.107500</td>\n",
       "      <td>10.400000</td>\n",
       "      <td>1.750000</td>\n",
       "      <td>2.807500</td>\n",
       "      <td>2.750000</td>\n",
       "    </tr>\n",
       "    <tr>\n",
       "      <th rowspan=\"2\" valign=\"top\">510</th>\n",
       "      <th>False</th>\n",
       "      <td>103.722222</td>\n",
       "      <td>2.666667</td>\n",
       "      <td>166.122222</td>\n",
       "      <td>93.000000</td>\n",
       "      <td>28.241111</td>\n",
       "      <td>205.061111</td>\n",
       "      <td>98.833333</td>\n",
       "      <td>17.430000</td>\n",
       "      <td>211.894444</td>\n",
       "      <td>97.166667</td>\n",
       "      <td>9.535000</td>\n",
       "      <td>10.550000</td>\n",
       "      <td>4.944444</td>\n",
       "      <td>2.848333</td>\n",
       "      <td>1.722222</td>\n",
       "    </tr>\n",
       "    <tr>\n",
       "      <th>True</th>\n",
       "      <td>152.000000</td>\n",
       "      <td>0.000000</td>\n",
       "      <td>302.800000</td>\n",
       "      <td>143.000000</td>\n",
       "      <td>51.480000</td>\n",
       "      <td>189.800000</td>\n",
       "      <td>69.000000</td>\n",
       "      <td>16.130000</td>\n",
       "      <td>214.900000</td>\n",
       "      <td>114.000000</td>\n",
       "      <td>9.670000</td>\n",
       "      <td>10.900000</td>\n",
       "      <td>4.000000</td>\n",
       "      <td>2.940000</td>\n",
       "      <td>2.000000</td>\n",
       "    </tr>\n",
       "  </tbody>\n",
       "</table>\n",
       "</div>"
      ],
      "text/plain": [
       "                         account_length  number_vmail_messages  \\\n",
       "state area_code churned                                          \n",
       "AK    408       False         83.800000              11.666667   \n",
       "      415       False        100.676471              12.852941   \n",
       "                True         112.500000               4.750000   \n",
       "      510       False        103.722222               2.666667   \n",
       "                True         152.000000               0.000000   \n",
       "\n",
       "                         total_day_minutes  total_day_calls  total_day_charge  \\\n",
       "state area_code churned                                                         \n",
       "AK    408       False           172.906667        97.600000         29.394667   \n",
       "      415       False           190.905882       103.529412         32.454412   \n",
       "                True            162.900000        91.500000         27.692500   \n",
       "      510       False           166.122222        93.000000         28.241111   \n",
       "                True            302.800000       143.000000         51.480000   \n",
       "\n",
       "                         total_eve_minutes  total_eve_calls  total_eve_charge  \\\n",
       "state area_code churned                                                         \n",
       "AK    408       False           169.940000        98.933333         14.445333   \n",
       "      415       False           192.197059        99.558824         16.336471   \n",
       "                True            173.125000       102.500000         14.715000   \n",
       "      510       False           205.061111        98.833333         17.430000   \n",
       "                True            189.800000        69.000000         16.130000   \n",
       "\n",
       "                         total_night_minutes  total_night_calls  \\\n",
       "state area_code churned                                           \n",
       "AK    408       False             178.946667          99.466667   \n",
       "      415       False             197.773529         100.676471   \n",
       "                True              202.300000          89.500000   \n",
       "      510       False             211.894444          97.166667   \n",
       "                True              214.900000         114.000000   \n",
       "\n",
       "                         total_night_charge  total_intl_minutes  \\\n",
       "state area_code churned                                           \n",
       "AK    408       False              8.052000            9.880000   \n",
       "      415       False              8.899412            9.438235   \n",
       "                True               9.107500           10.400000   \n",
       "      510       False              9.535000           10.550000   \n",
       "                True               9.670000           10.900000   \n",
       "\n",
       "                         total_intl_calls  total_intl_charge  \\\n",
       "state area_code churned                                        \n",
       "AK    408       False            4.000000           2.669333   \n",
       "      415       False            5.147059           2.549118   \n",
       "                True             1.750000           2.807500   \n",
       "      510       False            4.944444           2.848333   \n",
       "                True             4.000000           2.940000   \n",
       "\n",
       "                         number_customer_service_calls  \n",
       "state area_code churned                                 \n",
       "AK    408       False                         1.133333  \n",
       "      415       False                         1.264706  \n",
       "                True                          2.750000  \n",
       "      510       False                         1.722222  \n",
       "                True                          2.000000  "
      ]
     },
     "execution_count": 12,
     "metadata": {},
     "output_type": "execute_result"
    }
   ],
   "source": [
    "state_means = state_gc.mean()\n",
    "state_area_means = state_area_gc.mean()\n",
    "state_area_means.head()"
   ]
  },
  {
   "cell_type": "markdown",
   "id": "feb5952f",
   "metadata": {},
   "source": [
    "There are only 3 area codes, also each state has the same area code. This is not real because there are states with only 1 area code in real life.\n",
    "### Existing Customers"
   ]
  },
  {
   "cell_type": "code",
   "execution_count": 13,
   "id": "c54d920c",
   "metadata": {},
   "outputs": [
    {
     "data": {
      "image/png": "[encoded data removed]",
      "text/plain": [
       "<Figure size 1440x1440 with 4 Axes>"
      ]
     },
     "metadata": {
      "needs_background": "light"
     },
     "output_type": "display_data"
    }
   ],
   "source": [
    "from sklearn.preprocessing import MinMaxScaler\n",
    "\n",
    "fig, axs = plt.subplots(1, 3, figsize=(20, 20))\n",
    "codes = ['415', '408', '510']\n",
    "for i, ax in enumerate(axs.ravel()):\n",
    "    col_data = state_area_means.filter(like='False', axis=0).filter(\n",
    "        like=codes[i], axis=0).reset_index((1, 2)).drop(['area_code', 'churned'], axis=1)\n",
    "\n",
    "    scaler = MinMaxScaler()\n",
    "    x_scaled = scaler.fit_transform(col_data.values)\n",
    "    s_col_data = pd.DataFrame(\n",
    "        x_scaled, columns=state_area_means.columns, index=col_data.index)\n",
    "\n",
    "    ax.imshow(s_col_data, cmap='viridis')\n",
    "    ax.set_title(f'Area {codes[i]}')\n",
    "    ax.set_xticks(np.arange(15), labels=col_data.columns, rotation='vertical')\n",
    "    ax.set_yticks(np.arange(col_data.shape[0]), labels=col_data.index)\n",
    "plt.colorbar(axs[0].images[0], ax=axs, location='top');"
   ]
  },
  {
   "cell_type": "markdown",
   "id": "c1162221",
   "metadata": {},
   "source": [
    "Account lengths are generally low for each state and area of existing customers. \n",
    "### Churn group"
   ]
  },
  {
   "cell_type": "code",
   "execution_count": 14,
   "id": "e454e866",
   "metadata": {},
   "outputs": [
    {
     "data": {
      "image/png": "[encoded data removed]",
      "text/plain": [
       "<Figure size 1440x1440 with 4 Axes>"
      ]
     },
     "metadata": {
      "needs_background": "light"
     },
     "output_type": "display_data"
    }
   ],
   "source": [
    "fig, axs = plt.subplots(1, 3, figsize=(20, 20))\n",
    "codes = ['415', '408', '510']\n",
    "for i, ax in enumerate(axs.ravel()):\n",
    "    col_data = state_area_means.filter(like='True', axis=0).filter(\n",
    "        like=codes[i], axis=0).reset_index((1, 2)).drop(['area_code', 'churned'], axis=1)\n",
    "\n",
    "    min_max_scaler = MinMaxScaler()\n",
    "    x_scaled = min_max_scaler.fit_transform(col_data.values)\n",
    "    s_col_data = pd.DataFrame(\n",
    "        x_scaled, columns=state_area_means.columns, index=col_data.index)\n",
    "\n",
    "    ax.imshow(s_col_data, cmap='viridis')\n",
    "    ax.set_title(f'Area {codes[i]}')\n",
    "    ax.set_xticks(np.arange(15), labels=col_data.columns, rotation='vertical')\n",
    "    ax.set_yticks(np.arange(col_data.shape[0]), labels=col_data.index)\n",
    "plt.colorbar(axs[0].images[0], ax=axs, location='top');"
   ]
  },
  {
   "cell_type": "markdown",
   "id": "4f7d2c59",
   "metadata": {},
   "source": [
    "Looking along the columns of area 408, there is a strong absence in `number_vmail_messages`. This is the easiest commonality to see, but with dimension reduction, like PCA, we can find more columns that have a strong indicator of churn. "
   ]
  },
  {
   "cell_type": "markdown",
   "id": "9e4153d2",
   "metadata": {},
   "source": [
    "### Proportional Difference \n",
    "The following heatmap indicates which value is higher between existing customer and churn groups. If is is gray then the proportion is similar. Remeber these are proportions of the column means.\n"
   ]
  },
  {
   "cell_type": "code",
   "execution_count": 15,
   "id": "557d5239",
   "metadata": {
    "scrolled": false
   },
   "outputs": [
    {
     "data": {
      "image/png": "[encoded data removed]",
      "text/plain": [
       "<Figure size 1440x1440 with 4 Axes>"
      ]
     },
     "metadata": {
      "needs_background": "light"
     },
     "output_type": "display_data"
    }
   ],
   "source": [
    "fig, axs = plt.subplots(1, 3, figsize=(20, 20))\n",
    "# coolwarm cmap\n",
    "codes = ['415', '408', '510']\n",
    "for i, ax in enumerate(axs.ravel()):\n",
    "    churn = state_area_means.filter(like='True', axis=0).filter(like=codes[i], axis=0).reset_index(\n",
    "        (1, 2)).drop(['area_code', 'churned'], axis=1)\n",
    "\n",
    "    xist = state_area_means.filter(like='False', axis=0).filter(like=codes[i], axis=0).reset_index(\n",
    "        (1, 2)).drop(['area_code', 'churned'], axis=1)\n",
    "\n",
    "    propr = churn.div(xist, axis=0) #churn/xist\n",
    "\n",
    "    min_max_scaler = MinMaxScaler()\n",
    "    x_scaled = min_max_scaler.fit_transform(propr.values)\n",
    "    s_col_data = pd.DataFrame(\n",
    "        x_scaled, columns=state_area_means.columns, index=propr.index)\n",
    "\n",
    "    ax.imshow(s_col_data, cmap='coolwarm')\n",
    "    ax.set_title(f'Area {codes[i]}')\n",
    "    ax.set_xticks(np.arange(15), labels=propr.columns, rotation='vertical')\n",
    "    ax.set_yticks(np.arange(propr.shape[0]), labels=propr.index)\n",
    "plt.colorbar(axs[0].images[0], ax=axs, location='top');"
   ]
  },
  {
   "cell_type": "markdown",
   "id": "3e230d74",
   "metadata": {},
   "source": [
    "Red means the churn customers had a higher value. Blue means the existing customers had a higher value. Completely white rows means data was absent in churn or existing customer group.\n",
    "## Other visualizations"
   ]
  },
  {
   "cell_type": "code",
   "execution_count": 16,
   "id": "ce61c2a7",
   "metadata": {},
   "outputs": [
    {
     "data": {
      "application/vnd.jupyter.widget-view+json": {
       "model_id": "4ed3d760c2cb403a8a7d0cab526ab62f",
       "version_major": 2,
       "version_minor": 0
      },
      "text/plain": [
       "VBox(children=(HBox(children=(Dropdown(description='column', options=('account_length', 'area_code', 'number_v…"
      ]
     },
     "metadata": {},
     "output_type": "display_data"
    }
   ],
   "source": [
    "# Interactive Heatmap\n",
    "locs, l2 = zip(*state_means.loc(axis=0)\n",
    "               [pd.IndexSlice[:, False]]['account_length'].index)\n",
    "\n",
    "col_labels = [x.replace('_', ' ').title() for x in state_area_means.columns]\n",
    "titles = dict(zip(state_area_means.columns, col_labels))\n",
    "\n",
    "f = go.FigureWidget([go.Choropleth(\n",
    "    locations=locs,  # Spatial coordinates\n",
    "    z=state_means.loc(axis=0)[pd.IndexSlice[:, False]\n",
    "                              ]['account_length'],  # Data to be color-coded\n",
    "    locationmode='USA-states',  # set of locations match entries in `locations`\n",
    "    colorscale='Reds',\n",
    "    colorbar_title=\"Amount\")])\n",
    "f.layout.geo.scope = 'usa'\n",
    "f.layout.title = \"Average Account Length By State\"\n",
    "\n",
    "\n",
    "def update_axes(column, churn):\n",
    "    geo = f.data[0]\n",
    "    locs, l2 = zip(*state_means.loc(axis=0)\n",
    "                   [pd.IndexSlice[:, churn]][column].index)\n",
    "    geo.locations = locs\n",
    "    geo.z = state_means.loc(axis=0)[pd.IndexSlice[:, churn]][column]\n",
    "    f.layout.title = f\"Average {titles[column]} By State\"\n",
    "\n",
    "\n",
    "axis_dropdowns = widgets.interactive(\n",
    "    update_axes, column=state_means.columns, churn=[False, True])\n",
    "\n",
    "widgets.VBox((widgets.HBox(axis_dropdowns.children), f))"
   ]
  },
  {
   "cell_type": "code",
   "execution_count": 17,
   "id": "d849398f",
   "metadata": {
    "scrolled": true
   },
   "outputs": [
    {
     "data": {
      "image/png": "[encoded data removed]",
      "text/plain": [
       "<Figure size 1440x432 with 2 Axes>"
      ]
     },
     "metadata": {
      "needs_background": "light"
     },
     "output_type": "display_data"
    }
   ],
   "source": [
    "#Combined churned and not churned\n",
    "table = pd.pivot_table(data, values='number_customer_service_calls', index=['state'],columns=['area_code'], aggfunc=np.sum)\n",
    "\n",
    "fig, ax = plt.subplots(figsize=(20,6))\n",
    "plt.imshow(table.T,cmap='viridis')\n",
    "plt.colorbar(orientation='horizontal')\n",
    "ax.set_xticks(np.arange(51), labels=table.index)\n",
    "ax.set_yticks(np.arange(3), labels=table.columns)\n",
    "ax.set_title(\"# of Customer Service Calls per Area per State\")\n",
    "plt.show()"
   ]
  },
  {
   "cell_type": "markdown",
   "id": "771744d1",
   "metadata": {},
   "source": [
    "## Data Prep for Modeling"
   ]
  },
  {
   "cell_type": "code",
   "execution_count": 18,
   "id": "85b73916",
   "metadata": {},
   "outputs": [],
   "source": [
    "from sklearn.preprocessing import LabelEncoder\n",
    "from sklearn.model_selection import train_test_split\n",
    "\n",
    "X = data.iloc[:, 0:19].values\n",
    "y = data['churned'].values\n",
    "\n",
    "labelencoder_X_1 = LabelEncoder()\n",
    "X[:, 4] = labelencoder_X_1.fit_transform(X[:, 3])  # intl_plan\n",
    "\n",
    "labelencoder_X_2 = LabelEncoder()\n",
    "X[:, 5] = labelencoder_X_2.fit_transform(X[:, 4])  # voice_mail_column\n",
    "\n",
    "labelencoder_y = LabelEncoder()\n",
    "y = labelencoder_y.fit_transform(y)  # churn\n",
    "\n",
    "# OneHotEncoding with pandas\n",
    "\n",
    "X = pd.DataFrame(X)  # Converting X to a dataframe\n",
    "\n",
    "# Dropping the 'State' & 'phone_number' columns from X\n",
    "X = X.drop([0, 3], axis=1)\n",
    "\n",
    "# Convert states to columns\n",
    "X_State = pd.get_dummies(data.iloc[:, 0], drop_first=True)\n",
    "X_final = pd.concat([X, X_State], axis=1, ignore_index=True)  # Append columns\n",
    "\n",
    "X_train, X_test, y_train, y_test = train_test_split(X_final, y, random_state=6)"
   ]
  },
  {
   "cell_type": "code",
   "execution_count": 19,
   "id": "e70c91f5",
   "metadata": {},
   "outputs": [
    {
     "data": {
      "application/vnd.plotly.v1+json": {
       "config": {
        "plotlyServerURL": "https://plot.ly"
       },
       "data": [
        {
         "type": "heatmap",
         "x": [
          "account_length",
          "area_code",
          "number_vmail_messages",
          "total_day_minutes",
          "total_day_calls",
          "total_day_charge",
          "total_eve_minutes",
          "total_eve_calls",
          "total_eve_charge",
          "total_night_minutes",
          "total_night_calls",
          "total_night_charge",
          "total_intl_minutes",
          "total_intl_calls",
          "total_intl_charge",
          "number_customer_service_calls",
          "churned"
         ],
         "y": [
          "account_length",
          "area_code",
          "number_vmail_messages",
          "total_day_minutes",
          "total_day_calls",
          "total_day_charge",
          "total_eve_minutes",
          "total_eve_calls",
          "total_eve_charge",
          "total_night_minutes",
          "total_night_calls",
          "total_night_charge",
          "total_intl_minutes",
          "total_intl_calls",
          "total_intl_charge",
          "number_customer_service_calls",
          "churned"
         ],
         "z": [
          [
           1,
           -0.018054187431186045,
           -0.014574666267831002,
           -0.0010174908066805557,
           0.028240227881464887,
           -0.0010191979614159459,
           -0.009591333137542665,
           0.009142579036024275,
           -0.009499048027554946,
           0.000667911182280422,
           -0.00782547848770571,
           0.0006558936778097678,
           0.001290839427459895,
           0.014277273318296804,
           0.0012234190905226112,
           -0.0014447917651621565,
           0.021203451686939805
          ],
          [
           -0.018054187431186045,
           1,
           -0.0033989830645153687,
           -0.01911824474505625,
           -0.019313854482629646,
           -0.019119255917649538,
           0.0070978766487255806,
           -0.01229994728283027,
           0.007224516969701216,
           0.0020836263382525803,
           0.01465684606608161,
           0.0020702637383866905,
           -0.004153729199362986,
           -0.013623309325114517,
           -0.004184594866445518,
           0.020920513338666333,
           0.010195281261799383
          ],
          [
           -0.014574666267831002,
           -0.0033989830645153687,
           1,
           0.005381375960654525,
           0.0008831280067745973,
           0.0053767958516914,
           0.019490120754725556,
           -0.0039543728093618825,
           0.01985542745121532,
           0.005541383812742748,
           0.002676220227255797,
           0.005534928135168643,
           0.0024627017675346186,
           0.00012433024609732074,
           0.0023621500117715923,
           -0.007085642693096588,
           -0.09763335208851572
          ],
          [
           -0.0010174908066805557,
           -0.01911824474505625,
           0.005381375960654525,
           1,
           0.0019351486957893667,
           0.9999999509831975,
           -0.010750427386866528,
           0.008128130473126396,
           -0.010822387204054866,
           0.011798659999244022,
           0.0042360999072667445,
           0.011782532764223022,
           -0.01948574632583264,
           -0.0013031234662255879,
           -0.019516162008575946,
           0.0027325761618292054,
           0.2077051947784797
          ],
          [
           0.028240227881464887,
           -0.019313854482629646,
           0.0008831280067745973,
           0.0019351486957893667,
           1,
           0.0019358843646607251,
           -0.0006994114708042444,
           0.003754178695284276,
           -0.000913116617308,
           0.00280446497470731,
           -0.008308346717225579,
           0.0028018168792725067,
           0.013097219754673038,
           0.010892853267709963,
           0.013216381312061128,
           -0.010739495083121125,
           0.01612970855293181
          ],
          [
           -0.0010191979614159459,
           -0.019119255917649538,
           0.0053767958516914,
           0.9999999509831975,
           0.0019358843646607251,
           1,
           -0.010747296837522364,
           0.008129319004161854,
           -0.010819202394783178,
           0.011801433860012147,
           0.004234933740255773,
           0.01178530116313638,
           -0.01948970009749194,
           -0.001306635281505888,
           -0.0195201005624757,
           0.002726370192473038,
           0.20769977695633682
          ],
          [
           -0.009591333137542665,
           0.0070978766487255806,
           0.019490120754725556,
           -0.010750427386866528,
           -0.0006994114708042444,
           -0.010747296837522364,
           1,
           0.002763019406749719,
           0.9999997750791857,
           -0.01663911604411638,
           0.013420216275055744,
           -0.016642042112908144,
           0.00013654874558242691,
           0.008388155877574145,
           0.00013110014895570805,
           -0.013823422807747681,
           0.08928848603793077
          ],
          [
           0.009142579036024275,
           -0.01229994728283027,
           -0.0039543728093618825,
           0.008128130473126396,
           0.003754178695284276,
           0.008129319004161854,
           0.002763019406749719,
           1,
           0.0028649246186359246,
           0.0017814105504447828,
           -0.01368234079745179,
           0.0017993804229349112,
           -0.0074584583342127845,
           0.005574499916987404,
           -0.007543862824478683,
           0.006234830562523755,
           -0.006284071204129929
          ],
          [
           -0.009499048027554946,
           0.007224516969701216,
           0.01985542745121532,
           -0.010822387204054866,
           -0.000913116617308,
           -0.010819202394783178,
           0.9999997750791857,
           0.0028649246186359246,
           1,
           -0.016857494284930975,
           0.013302083083427512,
           -0.01686126728722401,
           0.000480246101375525,
           0.008294430384967926,
           0.00047419185274542955,
           -0.013901989619540568,
           0.08950197784981218
          ],
          [
           0.000667911182280422,
           0.0020836263382525803,
           0.005541383812742748,
           0.011798659999244022,
           0.00280446497470731,
           0.011801433860012147,
           -0.01663911604411638,
           0.0017814105504447828,
           -0.016857494284930975,
           1,
           0.02697181822308513,
           0.999999207186797,
           -0.006720966921597935,
           -0.01721401615173222,
           -0.006825434419741148,
           -0.008532536464559507,
           0.04567672039250776
          ],
          [
           -0.00782547848770571,
           0.01465684606608161,
           0.002676220227255797,
           0.0042360999072667445,
           -0.008308346717225579,
           0.004234933740255773,
           0.013420216275055744,
           -0.01368234079745179,
           0.013302083083427512,
           0.02697181822308513,
           1,
           0.026949491392387767,
           0.00039075729962840345,
           -0.0001557557298253518,
           0.00037777723201251124,
           -0.00828260746772502,
           -0.00698558981421073
          ],
          [
           0.0006558936778097678,
           0.0020702637383866905,
           0.005534928135168643,
           0.011782532764223022,
           0.0028018168792725067,
           0.01178530116313638,
           -0.016642042112908144,
           0.0017993804229349112,
           -0.01686126728722401,
           0.999999207186797,
           0.026949491392387767,
           1,
           -0.0067165376038990695,
           -0.017182157276491482,
           -0.00682105857830379,
           -0.008530076794367769,
           0.04567252950480966
          ],
          [
           0.001290839427459895,
           -0.004153729199362986,
           0.0024627017675346186,
           -0.01948574632583264,
           0.013097219754673038,
           -0.01948970009749194,
           0.00013654874558242691,
           -0.0074584583342127845,
           0.000480246101375525,
           -0.006720966921597935,
           0.00039075729962840345,
           -0.0067165376038990695,
           1,
           0.0167914752192571,
           0.9999926604894979,
           -0.012121812385459535,
           0.06328488783987872
          ],
          [
           0.014277273318296804,
           -0.013623309325114517,
           0.00012433024609732074,
           -0.0013031234662255879,
           0.010892853267709963,
           -0.001306635281505888,
           0.008388155877574145,
           0.005574499916987404,
           0.008294430384967926,
           -0.01721401615173222,
           -0.0001557557298253518,
           -0.017182157276491482,
           0.0167914752192571,
           1,
           0.01688501996916503,
           -0.01914665042520698,
           -0.046892513549319094
          ],
          [
           0.0012234190905226112,
           -0.004184594866445518,
           0.0023621500117715923,
           -0.019516162008575946,
           0.013216381312061128,
           -0.0195201005624757,
           0.00013110014895570805,
           -0.007543862824478683,
           0.00047419185274542955,
           -0.006825434419741148,
           0.00037777723201251124,
           -0.00682105857830379,
           0.9999926604894979,
           0.01688501996916503,
           1,
           -0.012101949022019394,
           0.0633041616698595
          ],
          [
           -0.0014447917651621565,
           0.020920513338666333,
           -0.007085642693096588,
           0.0027325761618292054,
           -0.010739495083121125,
           0.002726370192473038,
           -0.013823422807747681,
           0.006234830562523755,
           -0.013901989619540568,
           -0.008532536464559507,
           -0.00828260746772502,
           -0.008530076794367769,
           -0.012121812385459535,
           -0.01914665042520698,
           -0.012101949022019394,
           1,
           0.2125640465594373
          ],
          [
           0.021203451686939805,
           0.010195281261799383,
           -0.09763335208851572,
           0.2077051947784797,
           0.01612970855293181,
           0.20769977695633682,
           0.08928848603793077,
           -0.006284071204129929,
           0.08950197784981218,
           0.04567672039250776,
           -0.00698558981421073,
           0.04567252950480966,
           0.06328488783987872,
           -0.046892513549319094,
           0.0633041616698595,
           0.2125640465594373,
           1
          ]
         ]
        }
       ],
       "layout": {
        "template": {
         "data": {
          "bar": [
           {
            "error_x": {
             "color": "#2a3f5f"
            },
            "error_y": {
             "color": "#2a3f5f"
            },
            "marker": {
             "line": {
              "color": "#E5ECF6",
              "width": 0.5
             },
             "pattern": {
              "fillmode": "overlay",
              "size": 10,
              "solidity": 0.2
             }
            },
            "type": "bar"
           }
          ],
          "barpolar": [
           {
            "marker": {
             "line": {
              "color": "#E5ECF6",
              "width": 0.5
             },
             "pattern": {
              "fillmode": "overlay",
              "size": 10,
              "solidity": 0.2
             }
            },
            "type": "barpolar"
           }
          ],
          "carpet": [
           {
            "aaxis": {
             "endlinecolor": "#2a3f5f",
             "gridcolor": "white",
             "linecolor": "white",
             "minorgridcolor": "white",
             "startlinecolor": "#2a3f5f"
            },
            "baxis": {
             "endlinecolor": "#2a3f5f",
             "gridcolor": "white",
             "linecolor": "white",
             "minorgridcolor": "white",
             "startlinecolor": "#2a3f5f"
            },
            "type": "carpet"
           }
          ],
          "choropleth": [
           {
            "colorbar": {
             "outlinewidth": 0,
             "ticks": ""
            },
            "type": "choropleth"
           }
          ],
          "contour": [
           {
            "colorbar": {
             "outlinewidth": 0,
             "ticks": ""
            },
            "colorscale": [
             [
              0,
              "#0d0887"
             ],
             [
              0.1111111111111111,
              "#46039f"
             ],
             [
              0.2222222222222222,
              "#7201a8"
             ],
             [
              0.3333333333333333,
              "#9c179e"
             ],
             [
              0.4444444444444444,
              "#bd3786"
             ],
             [
              0.5555555555555556,
              "#d8576b"
             ],
             [
              0.6666666666666666,
              "#ed7953"
             ],
             [
              0.7777777777777778,
              "#fb9f3a"
             ],
             [
              0.8888888888888888,
              "#fdca26"
             ],
             [
              1,
              "#f0f921"
             ]
            ],
            "type": "contour"
           }
          ],
          "contourcarpet": [
           {
            "colorbar": {
             "outlinewidth": 0,
             "ticks": ""
            },
            "type": "contourcarpet"
           }
          ],
          "heatmap": [
           {
            "colorbar": {
             "outlinewidth": 0,
             "ticks": ""
            },
            "colorscale": [
             [
              0,
              "#0d0887"
             ],
             [
              0.1111111111111111,
              "#46039f"
             ],
             [
              0.2222222222222222,
              "#7201a8"
             ],
             [
              0.3333333333333333,
              "#9c179e"
             ],
             [
              0.4444444444444444,
              "#bd3786"
             ],
             [
              0.5555555555555556,
              "#d8576b"
             ],
             [
              0.6666666666666666,
              "#ed7953"
             ],
             [
              0.7777777777777778,
              "#fb9f3a"
             ],
             [
              0.8888888888888888,
              "#fdca26"
             ],
             [
              1,
              "#f0f921"
             ]
            ],
            "type": "heatmap"
           }
          ],
          "heatmapgl": [
           {
            "colorbar": {
             "outlinewidth": 0,
             "ticks": ""
            },
            "colorscale": [
             [
              0,
              "#0d0887"
             ],
             [
              0.1111111111111111,
              "#46039f"
             ],
             [
              0.2222222222222222,
              "#7201a8"
             ],
             [
              0.3333333333333333,
              "#9c179e"
             ],
             [
              0.4444444444444444,
              "#bd3786"
             ],
             [
              0.5555555555555556,
              "#d8576b"
             ],
             [
              0.6666666666666666,
              "#ed7953"
             ],
             [
              0.7777777777777778,
              "#fb9f3a"
             ],
             [
              0.8888888888888888,
              "#fdca26"
             ],
             [
              1,
              "#f0f921"
             ]
            ],
            "type": "heatmapgl"
           }
          ],
          "histogram": [
           {
            "marker": {
             "pattern": {
              "fillmode": "overlay",
              "size": 10,
              "solidity": 0.2
             }
            },
            "type": "histogram"
           }
          ],
          "histogram2d": [
           {
            "colorbar": {
             "outlinewidth": 0,
             "ticks": ""
            },
            "colorscale": [
             [
              0,
              "#0d0887"
             ],
             [
              0.1111111111111111,
              "#46039f"
             ],
             [
              0.2222222222222222,
              "#7201a8"
             ],
             [
              0.3333333333333333,
              "#9c179e"
             ],
             [
              0.4444444444444444,
              "#bd3786"
             ],
             [
              0.5555555555555556,
              "#d8576b"
             ],
             [
              0.6666666666666666,
              "#ed7953"
             ],
             [
              0.7777777777777778,
              "#fb9f3a"
             ],
             [
              0.8888888888888888,
              "#fdca26"
             ],
             [
              1,
              "#f0f921"
             ]
            ],
            "type": "histogram2d"
           }
          ],
          "histogram2dcontour": [
           {
            "colorbar": {
             "outlinewidth": 0,
             "ticks": ""
            },
            "colorscale": [
             [
              0,
              "#0d0887"
             ],
             [
              0.1111111111111111,
              "#46039f"
             ],
             [
              0.2222222222222222,
              "#7201a8"
             ],
             [
              0.3333333333333333,
              "#9c179e"
             ],
             [
              0.4444444444444444,
              "#bd3786"
             ],
             [
              0.5555555555555556,
              "#d8576b"
             ],
             [
              0.6666666666666666,
              "#ed7953"
             ],
             [
              0.7777777777777778,
              "#fb9f3a"
             ],
             [
              0.8888888888888888,
              "#fdca26"
             ],
             [
              1,
              "#f0f921"
             ]
            ],
            "type": "histogram2dcontour"
           }
          ],
          "mesh3d": [
           {
            "colorbar": {
             "outlinewidth": 0,
             "ticks": ""
            },
            "type": "mesh3d"
           }
          ],
          "parcoords": [
           {
            "line": {
             "colorbar": {
              "outlinewidth": 0,
              "ticks": ""
             }
            },
            "type": "parcoords"
           }
          ],
          "pie": [
           {
            "automargin": true,
            "type": "pie"
           }
          ],
          "scatter": [
           {
            "marker": {
             "colorbar": {
              "outlinewidth": 0,
              "ticks": ""
             }
            },
            "type": "scatter"
           }
          ],
          "scatter3d": [
           {
            "line": {
             "colorbar": {
              "outlinewidth": 0,
              "ticks": ""
             }
            },
            "marker": {
             "colorbar": {
              "outlinewidth": 0,
              "ticks": ""
             }
            },
            "type": "scatter3d"
           }
          ],
          "scattercarpet": [
           {
            "marker": {
             "colorbar": {
              "outlinewidth": 0,
              "ticks": ""
             }
            },
            "type": "scattercarpet"
           }
          ],
          "scattergeo": [
           {
            "marker": {
             "colorbar": {
              "outlinewidth": 0,
              "ticks": ""
             }
            },
            "type": "scattergeo"
           }
          ],
          "scattergl": [
           {
            "marker": {
             "colorbar": {
              "outlinewidth": 0,
              "ticks": ""
             }
            },
            "type": "scattergl"
           }
          ],
          "scattermapbox": [
           {
            "marker": {
             "colorbar": {
              "outlinewidth": 0,
              "ticks": ""
             }
            },
            "type": "scattermapbox"
           }
          ],
          "scatterpolar": [
           {
            "marker": {
             "colorbar": {
              "outlinewidth": 0,
              "ticks": ""
             }
            },
            "type": "scatterpolar"
           }
          ],
          "scatterpolargl": [
           {
            "marker": {
             "colorbar": {
              "outlinewidth": 0,
              "ticks": ""
             }
            },
            "type": "scatterpolargl"
           }
          ],
          "scatterternary": [
           {
            "marker": {
             "colorbar": {
              "outlinewidth": 0,
              "ticks": ""
             }
            },
            "type": "scatterternary"
           }
          ],
          "surface": [
           {
            "colorbar": {
             "outlinewidth": 0,
             "ticks": ""
            },
            "colorscale": [
             [
              0,
              "#0d0887"
             ],
             [
              0.1111111111111111,
              "#46039f"
             ],
             [
              0.2222222222222222,
              "#7201a8"
             ],
             [
              0.3333333333333333,
              "#9c179e"
             ],
             [
              0.4444444444444444,
              "#bd3786"
             ],
             [
              0.5555555555555556,
              "#d8576b"
             ],
             [
              0.6666666666666666,
              "#ed7953"
             ],
             [
              0.7777777777777778,
              "#fb9f3a"
             ],
             [
              0.8888888888888888,
              "#fdca26"
             ],
             [
              1,
              "#f0f921"
             ]
            ],
            "type": "surface"
           }
          ],
          "table": [
           {
            "cells": {
             "fill": {
              "color": "#EBF0F8"
             },
             "line": {
              "color": "white"
             }
            },
            "header": {
             "fill": {
              "color": "#C8D4E3"
             },
             "line": {
              "color": "white"
             }
            },
            "type": "table"
           }
          ]
         },
         "layout": {
          "annotationdefaults": {
           "arrowcolor": "#2a3f5f",
           "arrowhead": 0,
           "arrowwidth": 1
          },
          "autotypenumbers": "strict",
          "coloraxis": {
           "colorbar": {
            "outlinewidth": 0,
            "ticks": ""
           }
          },
          "colorscale": {
           "diverging": [
            [
             0,
             "#8e0152"
            ],
            [
             0.1,
             "#c51b7d"
            ],
            [
             0.2,
             "#de77ae"
            ],
            [
             0.3,
             "#f1b6da"
            ],
            [
             0.4,
             "#fde0ef"
            ],
            [
             0.5,
             "#f7f7f7"
            ],
            [
             0.6,
             "#e6f5d0"
            ],
            [
             0.7,
             "#b8e186"
            ],
            [
             0.8,
             "#7fbc41"
            ],
            [
             0.9,
             "#4d9221"
            ],
            [
             1,
             "#276419"
            ]
           ],
           "sequential": [
            [
             0,
             "#0d0887"
            ],
            [
             0.1111111111111111,
             "#46039f"
            ],
            [
             0.2222222222222222,
             "#7201a8"
            ],
            [
             0.3333333333333333,
             "#9c179e"
            ],
            [
             0.4444444444444444,
             "#bd3786"
            ],
            [
             0.5555555555555556,
             "#d8576b"
            ],
            [
             0.6666666666666666,
             "#ed7953"
            ],
            [
             0.7777777777777778,
             "#fb9f3a"
            ],
            [
             0.8888888888888888,
             "#fdca26"
            ],
            [
             1,
             "#f0f921"
            ]
           ],
           "sequentialminus": [
            [
             0,
             "#0d0887"
            ],
            [
             0.1111111111111111,
             "#46039f"
            ],
            [
             0.2222222222222222,
             "#7201a8"
            ],
            [
             0.3333333333333333,
             "#9c179e"
            ],
            [
             0.4444444444444444,
             "#bd3786"
            ],
            [
             0.5555555555555556,
             "#d8576b"
            ],
            [
             0.6666666666666666,
             "#ed7953"
            ],
            [
             0.7777777777777778,
             "#fb9f3a"
            ],
            [
             0.8888888888888888,
             "#fdca26"
            ],
            [
             1,
             "#f0f921"
            ]
           ]
          },
          "colorway": [
           "#636efa",
           "#EF553B",
           "#00cc96",
           "#ab63fa",
           "#FFA15A",
           "#19d3f3",
           "#FF6692",
           "#B6E880",
           "#FF97FF",
           "#FECB52"
          ],
          "font": {
           "color": "#2a3f5f"
          },
          "geo": {
           "bgcolor": "white",
           "lakecolor": "white",
           "landcolor": "#E5ECF6",
           "showlakes": true,
           "showland": true,
           "subunitcolor": "white"
          },
          "hoverlabel": {
           "align": "left"
          },
          "hovermode": "closest",
          "mapbox": {
           "style": "light"
          },
          "paper_bgcolor": "white",
          "plot_bgcolor": "#E5ECF6",
          "polar": {
           "angularaxis": {
            "gridcolor": "white",
            "linecolor": "white",
            "ticks": ""
           },
           "bgcolor": "#E5ECF6",
           "radialaxis": {
            "gridcolor": "white",
            "linecolor": "white",
            "ticks": ""
           }
          },
          "scene": {
           "xaxis": {
            "backgroundcolor": "#E5ECF6",
            "gridcolor": "white",
            "gridwidth": 2,
            "linecolor": "white",
            "showbackground": true,
            "ticks": "",
            "zerolinecolor": "white"
           },
           "yaxis": {
            "backgroundcolor": "#E5ECF6",
            "gridcolor": "white",
            "gridwidth": 2,
            "linecolor": "white",
            "showbackground": true,
            "ticks": "",
            "zerolinecolor": "white"
           },
           "zaxis": {
            "backgroundcolor": "#E5ECF6",
            "gridcolor": "white",
            "gridwidth": 2,
            "linecolor": "white",
            "showbackground": true,
            "ticks": "",
            "zerolinecolor": "white"
           }
          },
          "shapedefaults": {
           "line": {
            "color": "#2a3f5f"
           }
          },
          "ternary": {
           "aaxis": {
            "gridcolor": "white",
            "linecolor": "white",
            "ticks": ""
           },
           "baxis": {
            "gridcolor": "white",
            "linecolor": "white",
            "ticks": ""
           },
           "bgcolor": "#E5ECF6",
           "caxis": {
            "gridcolor": "white",
            "linecolor": "white",
            "ticks": ""
           }
          },
          "title": {
           "x": 0.05
          },
          "xaxis": {
           "automargin": true,
           "gridcolor": "white",
           "linecolor": "white",
           "ticks": "",
           "title": {
            "standoff": 15
           },
           "zerolinecolor": "white",
           "zerolinewidth": 2
          },
          "yaxis": {
           "automargin": true,
           "gridcolor": "white",
           "linecolor": "white",
           "ticks": "",
           "title": {
            "standoff": 15
           },
           "zerolinecolor": "white",
           "zerolinewidth": 2
          }
         }
        }
       }
      },
      "text/html": [
       "<div>                            <div id=\"0af2cb53-627b-48fd-b32c-e0dab2f9afad\" class=\"plotly-graph-div\" style=\"height:525px; width:100%;\"></div>            <script type=\"text/javascript\">                require([\"plotly\"], function(Plotly) {                    window.PLOTLYENV=window.PLOTLYENV || {};                                    if (document.getElementById(\"0af2cb53-627b-48fd-b32c-e0dab2f9afad\")) {                    Plotly.newPlot(                        \"0af2cb53-627b-48fd-b32c-e0dab2f9afad\",                        [{\"x\":[\"account_length\",\"area_code\",\"number_vmail_messages\",\"total_day_minutes\",\"total_day_calls\",\"total_day_charge\",\"total_eve_minutes\",\"total_eve_calls\",\"total_eve_charge\",\"total_night_minutes\",\"total_night_calls\",\"total_night_charge\",\"total_intl_minutes\",\"total_intl_calls\",\"total_intl_charge\",\"number_customer_service_calls\",\"churned\"],\"y\":[\"account_length\",\"area_code\",\"number_vmail_messages\",\"total_day_minutes\",\"total_day_calls\",\"total_day_charge\",\"total_eve_minutes\",\"total_eve_calls\",\"total_eve_charge\",\"total_night_minutes\",\"total_night_calls\",\"total_night_charge\",\"total_intl_minutes\",\"total_intl_calls\",\"total_intl_charge\",\"number_customer_service_calls\",\"churned\"],\"z\":[[1.0,-0.018054187431186045,-0.014574666267831002,-0.0010174908066805557,0.028240227881464887,-0.0010191979614159459,-0.009591333137542665,0.009142579036024275,-0.009499048027554946,0.000667911182280422,-0.00782547848770571,0.0006558936778097678,0.001290839427459895,0.014277273318296804,0.0012234190905226112,-0.0014447917651621565,0.021203451686939805],[-0.018054187431186045,1.0,-0.0033989830645153687,-0.01911824474505625,-0.019313854482629646,-0.019119255917649538,0.0070978766487255806,-0.01229994728283027,0.007224516969701216,0.0020836263382525803,0.01465684606608161,0.0020702637383866905,-0.004153729199362986,-0.013623309325114517,-0.004184594866445518,0.020920513338666333,0.010195281261799383],[-0.014574666267831002,-0.0033989830645153687,1.0,0.005381375960654525,0.0008831280067745973,0.0053767958516914,0.019490120754725556,-0.0039543728093618825,0.01985542745121532,0.005541383812742748,0.002676220227255797,0.005534928135168643,0.0024627017675346186,0.00012433024609732074,0.0023621500117715923,-0.007085642693096588,-0.09763335208851572],[-0.0010174908066805557,-0.01911824474505625,0.005381375960654525,1.0,0.0019351486957893667,0.9999999509831975,-0.010750427386866528,0.008128130473126396,-0.010822387204054866,0.011798659999244022,0.0042360999072667445,0.011782532764223022,-0.01948574632583264,-0.0013031234662255879,-0.019516162008575946,0.0027325761618292054,0.2077051947784797],[0.028240227881464887,-0.019313854482629646,0.0008831280067745973,0.0019351486957893667,1.0,0.0019358843646607251,-0.0006994114708042444,0.003754178695284276,-0.000913116617308,0.00280446497470731,-0.008308346717225579,0.0028018168792725067,0.013097219754673038,0.010892853267709963,0.013216381312061128,-0.010739495083121125,0.01612970855293181],[-0.0010191979614159459,-0.019119255917649538,0.0053767958516914,0.9999999509831975,0.0019358843646607251,1.0,-0.010747296837522364,0.008129319004161854,-0.010819202394783178,0.011801433860012147,0.004234933740255773,0.01178530116313638,-0.01948970009749194,-0.001306635281505888,-0.0195201005624757,0.002726370192473038,0.20769977695633682],[-0.009591333137542665,0.0070978766487255806,0.019490120754725556,-0.010750427386866528,-0.0006994114708042444,-0.010747296837522364,1.0,0.002763019406749719,0.9999997750791857,-0.01663911604411638,0.013420216275055744,-0.016642042112908144,0.00013654874558242691,0.008388155877574145,0.00013110014895570805,-0.013823422807747681,0.08928848603793077],[0.009142579036024275,-0.01229994728283027,-0.0039543728093618825,0.008128130473126396,0.003754178695284276,0.008129319004161854,0.002763019406749719,1.0,0.0028649246186359246,0.0017814105504447828,-0.01368234079745179,0.0017993804229349112,-0.0074584583342127845,0.005574499916987404,-0.007543862824478683,0.006234830562523755,-0.006284071204129929],[-0.009499048027554946,0.007224516969701216,0.01985542745121532,-0.010822387204054866,-0.000913116617308,-0.010819202394783178,0.9999997750791857,0.0028649246186359246,1.0,-0.016857494284930975,0.013302083083427512,-0.01686126728722401,0.000480246101375525,0.008294430384967926,0.00047419185274542955,-0.013901989619540568,0.08950197784981218],[0.000667911182280422,0.0020836263382525803,0.005541383812742748,0.011798659999244022,0.00280446497470731,0.011801433860012147,-0.01663911604411638,0.0017814105504447828,-0.016857494284930975,1.0,0.02697181822308513,0.999999207186797,-0.006720966921597935,-0.01721401615173222,-0.006825434419741148,-0.008532536464559507,0.04567672039250776],[-0.00782547848770571,0.01465684606608161,0.002676220227255797,0.0042360999072667445,-0.008308346717225579,0.004234933740255773,0.013420216275055744,-0.01368234079745179,0.013302083083427512,0.02697181822308513,1.0,0.026949491392387767,0.00039075729962840345,-0.0001557557298253518,0.00037777723201251124,-0.00828260746772502,-0.00698558981421073],[0.0006558936778097678,0.0020702637383866905,0.005534928135168643,0.011782532764223022,0.0028018168792725067,0.01178530116313638,-0.016642042112908144,0.0017993804229349112,-0.01686126728722401,0.999999207186797,0.026949491392387767,1.0,-0.0067165376038990695,-0.017182157276491482,-0.00682105857830379,-0.008530076794367769,0.04567252950480966],[0.001290839427459895,-0.004153729199362986,0.0024627017675346186,-0.01948574632583264,0.013097219754673038,-0.01948970009749194,0.00013654874558242691,-0.0074584583342127845,0.000480246101375525,-0.006720966921597935,0.00039075729962840345,-0.0067165376038990695,1.0,0.0167914752192571,0.9999926604894979,-0.012121812385459535,0.06328488783987872],[0.014277273318296804,-0.013623309325114517,0.00012433024609732074,-0.0013031234662255879,0.010892853267709963,-0.001306635281505888,0.008388155877574145,0.005574499916987404,0.008294430384967926,-0.01721401615173222,-0.0001557557298253518,-0.017182157276491482,0.0167914752192571,1.0,0.01688501996916503,-0.01914665042520698,-0.046892513549319094],[0.0012234190905226112,-0.004184594866445518,0.0023621500117715923,-0.019516162008575946,0.013216381312061128,-0.0195201005624757,0.00013110014895570805,-0.007543862824478683,0.00047419185274542955,-0.006825434419741148,0.00037777723201251124,-0.00682105857830379,0.9999926604894979,0.01688501996916503,1.0,-0.012101949022019394,0.0633041616698595],[-0.0014447917651621565,0.020920513338666333,-0.007085642693096588,0.0027325761618292054,-0.010739495083121125,0.002726370192473038,-0.013823422807747681,0.006234830562523755,-0.013901989619540568,-0.008532536464559507,-0.00828260746772502,-0.008530076794367769,-0.012121812385459535,-0.01914665042520698,-0.012101949022019394,1.0,0.2125640465594373],[0.021203451686939805,0.010195281261799383,-0.09763335208851572,0.2077051947784797,0.01612970855293181,0.20769977695633682,0.08928848603793077,-0.006284071204129929,0.08950197784981218,0.04567672039250776,-0.00698558981421073,0.04567252950480966,0.06328488783987872,-0.046892513549319094,0.0633041616698595,0.2125640465594373,1.0]],\"type\":\"heatmap\"}],                        {\"template\":{\"data\":{\"bar\":[{\"error_x\":{\"color\":\"#2a3f5f\"},\"error_y\":{\"color\":\"#2a3f5f\"},\"marker\":{\"line\":{\"color\":\"#E5ECF6\",\"width\":0.5},\"pattern\":{\"fillmode\":\"overlay\",\"size\":10,\"solidity\":0.2}},\"type\":\"bar\"}],\"barpolar\":[{\"marker\":{\"line\":{\"color\":\"#E5ECF6\",\"width\":0.5},\"pattern\":{\"fillmode\":\"overlay\",\"size\":10,\"solidity\":0.2}},\"type\":\"barpolar\"}],\"carpet\":[{\"aaxis\":{\"endlinecolor\":\"#2a3f5f\",\"gridcolor\":\"white\",\"linecolor\":\"white\",\"minorgridcolor\":\"white\",\"startlinecolor\":\"#2a3f5f\"},\"baxis\":{\"endlinecolor\":\"#2a3f5f\",\"gridcolor\":\"white\",\"linecolor\":\"white\",\"minorgridcolor\":\"white\",\"startlinecolor\":\"#2a3f5f\"},\"type\":\"carpet\"}],\"choropleth\":[{\"colorbar\":{\"outlinewidth\":0,\"ticks\":\"\"},\"type\":\"choropleth\"}],\"contour\":[{\"colorbar\":{\"outlinewidth\":0,\"ticks\":\"\"},\"colorscale\":[[0.0,\"#0d0887\"],[0.1111111111111111,\"#46039f\"],[0.2222222222222222,\"#7201a8\"],[0.3333333333333333,\"#9c179e\"],[0.4444444444444444,\"#bd3786\"],[0.5555555555555556,\"#d8576b\"],[0.6666666666666666,\"#ed7953\"],[0.7777777777777778,\"#fb9f3a\"],[0.8888888888888888,\"#fdca26\"],[1.0,\"#f0f921\"]],\"type\":\"contour\"}],\"contourcarpet\":[{\"colorbar\":{\"outlinewidth\":0,\"ticks\":\"\"},\"type\":\"contourcarpet\"}],\"heatmap\":[{\"colorbar\":{\"outlinewidth\":0,\"ticks\":\"\"},\"colorscale\":[[0.0,\"#0d0887\"],[0.1111111111111111,\"#46039f\"],[0.2222222222222222,\"#7201a8\"],[0.3333333333333333,\"#9c179e\"],[0.4444444444444444,\"#bd3786\"],[0.5555555555555556,\"#d8576b\"],[0.6666666666666666,\"#ed7953\"],[0.7777777777777778,\"#fb9f3a\"],[0.8888888888888888,\"#fdca26\"],[1.0,\"#f0f921\"]],\"type\":\"heatmap\"}],\"heatmapgl\":[{\"colorbar\":{\"outlinewidth\":0,\"ticks\":\"\"},\"colorscale\":[[0.0,\"#0d0887\"],[0.1111111111111111,\"#46039f\"],[0.2222222222222222,\"#7201a8\"],[0.3333333333333333,\"#9c179e\"],[0.4444444444444444,\"#bd3786\"],[0.5555555555555556,\"#d8576b\"],[0.6666666666666666,\"#ed7953\"],[0.7777777777777778,\"#fb9f3a\"],[0.8888888888888888,\"#fdca26\"],[1.0,\"#f0f921\"]],\"type\":\"heatmapgl\"}],\"histogram\":[{\"marker\":{\"pattern\":{\"fillmode\":\"overlay\",\"size\":10,\"solidity\":0.2}},\"type\":\"histogram\"}],\"histogram2d\":[{\"colorbar\":{\"outlinewidth\":0,\"ticks\":\"\"},\"colorscale\":[[0.0,\"#0d0887\"],[0.1111111111111111,\"#46039f\"],[0.2222222222222222,\"#7201a8\"],[0.3333333333333333,\"#9c179e\"],[0.4444444444444444,\"#bd3786\"],[0.5555555555555556,\"#d8576b\"],[0.6666666666666666,\"#ed7953\"],[0.7777777777777778,\"#fb9f3a\"],[0.8888888888888888,\"#fdca26\"],[1.0,\"#f0f921\"]],\"type\":\"histogram2d\"}],\"histogram2dcontour\":[{\"colorbar\":{\"outlinewidth\":0,\"ticks\":\"\"},\"colorscale\":[[0.0,\"#0d0887\"],[0.1111111111111111,\"#46039f\"],[0.2222222222222222,\"#7201a8\"],[0.3333333333333333,\"#9c179e\"],[0.4444444444444444,\"#bd3786\"],[0.5555555555555556,\"#d8576b\"],[0.6666666666666666,\"#ed7953\"],[0.7777777777777778,\"#fb9f3a\"],[0.8888888888888888,\"#fdca26\"],[1.0,\"#f0f921\"]],\"type\":\"histogram2dcontour\"}],\"mesh3d\":[{\"colorbar\":{\"outlinewidth\":0,\"ticks\":\"\"},\"type\":\"mesh3d\"}],\"parcoords\":[{\"line\":{\"colorbar\":{\"outlinewidth\":0,\"ticks\":\"\"}},\"type\":\"parcoords\"}],\"pie\":[{\"automargin\":true,\"type\":\"pie\"}],\"scatter\":[{\"marker\":{\"colorbar\":{\"outlinewidth\":0,\"ticks\":\"\"}},\"type\":\"scatter\"}],\"scatter3d\":[{\"line\":{\"colorbar\":{\"outlinewidth\":0,\"ticks\":\"\"}},\"marker\":{\"colorbar\":{\"outlinewidth\":0,\"ticks\":\"\"}},\"type\":\"scatter3d\"}],\"scattercarpet\":[{\"marker\":{\"colorbar\":{\"outlinewidth\":0,\"ticks\":\"\"}},\"type\":\"scattercarpet\"}],\"scattergeo\":[{\"marker\":{\"colorbar\":{\"outlinewidth\":0,\"ticks\":\"\"}},\"type\":\"scattergeo\"}],\"scattergl\":[{\"marker\":{\"colorbar\":{\"outlinewidth\":0,\"ticks\":\"\"}},\"type\":\"scattergl\"}],\"scattermapbox\":[{\"marker\":{\"colorbar\":{\"outlinewidth\":0,\"ticks\":\"\"}},\"type\":\"scattermapbox\"}],\"scatterpolar\":[{\"marker\":{\"colorbar\":{\"outlinewidth\":0,\"ticks\":\"\"}},\"type\":\"scatterpolar\"}],\"scatterpolargl\":[{\"marker\":{\"colorbar\":{\"outlinewidth\":0,\"ticks\":\"\"}},\"type\":\"scatterpolargl\"}],\"scatterternary\":[{\"marker\":{\"colorbar\":{\"outlinewidth\":0,\"ticks\":\"\"}},\"type\":\"scatterternary\"}],\"surface\":[{\"colorbar\":{\"outlinewidth\":0,\"ticks\":\"\"},\"colorscale\":[[0.0,\"#0d0887\"],[0.1111111111111111,\"#46039f\"],[0.2222222222222222,\"#7201a8\"],[0.3333333333333333,\"#9c179e\"],[0.4444444444444444,\"#bd3786\"],[0.5555555555555556,\"#d8576b\"],[0.6666666666666666,\"#ed7953\"],[0.7777777777777778,\"#fb9f3a\"],[0.8888888888888888,\"#fdca26\"],[1.0,\"#f0f921\"]],\"type\":\"surface\"}],\"table\":[{\"cells\":{\"fill\":{\"color\":\"#EBF0F8\"},\"line\":{\"color\":\"white\"}},\"header\":{\"fill\":{\"color\":\"#C8D4E3\"},\"line\":{\"color\":\"white\"}},\"type\":\"table\"}]},\"layout\":{\"annotationdefaults\":{\"arrowcolor\":\"#2a3f5f\",\"arrowhead\":0,\"arrowwidth\":1},\"autotypenumbers\":\"strict\",\"coloraxis\":{\"colorbar\":{\"outlinewidth\":0,\"ticks\":\"\"}},\"colorscale\":{\"diverging\":[[0,\"#8e0152\"],[0.1,\"#c51b7d\"],[0.2,\"#de77ae\"],[0.3,\"#f1b6da\"],[0.4,\"#fde0ef\"],[0.5,\"#f7f7f7\"],[0.6,\"#e6f5d0\"],[0.7,\"#b8e186\"],[0.8,\"#7fbc41\"],[0.9,\"#4d9221\"],[1,\"#276419\"]],\"sequential\":[[0.0,\"#0d0887\"],[0.1111111111111111,\"#46039f\"],[0.2222222222222222,\"#7201a8\"],[0.3333333333333333,\"#9c179e\"],[0.4444444444444444,\"#bd3786\"],[0.5555555555555556,\"#d8576b\"],[0.6666666666666666,\"#ed7953\"],[0.7777777777777778,\"#fb9f3a\"],[0.8888888888888888,\"#fdca26\"],[1.0,\"#f0f921\"]],\"sequentialminus\":[[0.0,\"#0d0887\"],[0.1111111111111111,\"#46039f\"],[0.2222222222222222,\"#7201a8\"],[0.3333333333333333,\"#9c179e\"],[0.4444444444444444,\"#bd3786\"],[0.5555555555555556,\"#d8576b\"],[0.6666666666666666,\"#ed7953\"],[0.7777777777777778,\"#fb9f3a\"],[0.8888888888888888,\"#fdca26\"],[1.0,\"#f0f921\"]]},\"colorway\":[\"#636efa\",\"#EF553B\",\"#00cc96\",\"#ab63fa\",\"#FFA15A\",\"#19d3f3\",\"#FF6692\",\"#B6E880\",\"#FF97FF\",\"#FECB52\"],\"font\":{\"color\":\"#2a3f5f\"},\"geo\":{\"bgcolor\":\"white\",\"lakecolor\":\"white\",\"landcolor\":\"#E5ECF6\",\"showlakes\":true,\"showland\":true,\"subunitcolor\":\"white\"},\"hoverlabel\":{\"align\":\"left\"},\"hovermode\":\"closest\",\"mapbox\":{\"style\":\"light\"},\"paper_bgcolor\":\"white\",\"plot_bgcolor\":\"#E5ECF6\",\"polar\":{\"angularaxis\":{\"gridcolor\":\"white\",\"linecolor\":\"white\",\"ticks\":\"\"},\"bgcolor\":\"#E5ECF6\",\"radialaxis\":{\"gridcolor\":\"white\",\"linecolor\":\"white\",\"ticks\":\"\"}},\"scene\":{\"xaxis\":{\"backgroundcolor\":\"#E5ECF6\",\"gridcolor\":\"white\",\"gridwidth\":2,\"linecolor\":\"white\",\"showbackground\":true,\"ticks\":\"\",\"zerolinecolor\":\"white\"},\"yaxis\":{\"backgroundcolor\":\"#E5ECF6\",\"gridcolor\":\"white\",\"gridwidth\":2,\"linecolor\":\"white\",\"showbackground\":true,\"ticks\":\"\",\"zerolinecolor\":\"white\"},\"zaxis\":{\"backgroundcolor\":\"#E5ECF6\",\"gridcolor\":\"white\",\"gridwidth\":2,\"linecolor\":\"white\",\"showbackground\":true,\"ticks\":\"\",\"zerolinecolor\":\"white\"}},\"shapedefaults\":{\"line\":{\"color\":\"#2a3f5f\"}},\"ternary\":{\"aaxis\":{\"gridcolor\":\"white\",\"linecolor\":\"white\",\"ticks\":\"\"},\"baxis\":{\"gridcolor\":\"white\",\"linecolor\":\"white\",\"ticks\":\"\"},\"bgcolor\":\"#E5ECF6\",\"caxis\":{\"gridcolor\":\"white\",\"linecolor\":\"white\",\"ticks\":\"\"}},\"title\":{\"x\":0.05},\"xaxis\":{\"automargin\":true,\"gridcolor\":\"white\",\"linecolor\":\"white\",\"ticks\":\"\",\"title\":{\"standoff\":15},\"zerolinecolor\":\"white\",\"zerolinewidth\":2},\"yaxis\":{\"automargin\":true,\"gridcolor\":\"white\",\"linecolor\":\"white\",\"ticks\":\"\",\"title\":{\"standoff\":15},\"zerolinecolor\":\"white\",\"zerolinewidth\":2}}}},                        {\"responsive\": true}                    ).then(function(){\n",
       "                            \n",
       "var gd = document.getElementById('0af2cb53-627b-48fd-b32c-e0dab2f9afad');\n",
       "var x = new MutationObserver(function (mutations, observer) {{\n",
       "        var display = window.getComputedStyle(gd).display;\n",
       "        if (!display || display === 'none') {{\n",
       "            console.log([gd, 'removed!']);\n",
       "            Plotly.purge(gd);\n",
       "            observer.disconnect();\n",
       "        }}\n",
       "}});\n",
       "\n",
       "// Listen for the removal of the full notebook cells\n",
       "var notebookContainer = gd.closest('#notebook-container');\n",
       "if (notebookContainer) {{\n",
       "    x.observe(notebookContainer, {childList: true});\n",
       "}}\n",
       "\n",
       "// Listen for the clearing of the current output cell\n",
       "var outputEl = gd.closest('.output');\n",
       "if (outputEl) {{\n",
       "    x.observe(outputEl, {childList: true});\n",
       "}}\n",
       "\n",
       "                        })                };                });            </script>        </div>"
      ]
     },
     "metadata": {},
     "output_type": "display_data"
    }
   ],
   "source": [
    "fig = go.Figure(data=go.Heatmap(\n",
    "                    z=data.corr(),\n",
    "                    x=data.corr().columns,\n",
    "                    y=data.corr().index\n",
    "))\n",
    "fig.show()"
   ]
  },
  {
   "cell_type": "markdown",
   "id": "a09aefbd",
   "metadata": {},
   "source": [
    "Weak correlation across all columns. Suggests the data is not linearly separable."
   ]
  },
  {
   "cell_type": "markdown",
   "id": "7b5d8d3b",
   "metadata": {},
   "source": [
    "## Modeling\n",
    "### PCA + Logistic Regression"
   ]
  },
  {
   "cell_type": "code",
   "execution_count": 20,
   "id": "119cf283",
   "metadata": {},
   "outputs": [
    {
     "name": "stdout",
     "output_type": "stream",
     "text": [
      "PCA Model Accuracy: 85.44%\n",
      "Plain Model Accuracy: 86.80%\n"
     ]
    }
   ],
   "source": [
    "from sklearn.decomposition import PCA\n",
    "from sklearn.pipeline import Pipeline\n",
    "from sklearn.preprocessing import StandardScaler\n",
    "from sklearn.linear_model import LogisticRegression\n",
    "from sklearn.impute import SimpleImputer\n",
    "from sklearn.metrics import accuracy_score\n",
    "\n",
    "# With PCA level 10\n",
    "n_components = 10\n",
    "pipe = Pipeline([('imputer', SimpleImputer(missing_values=np.nan, strategy='mean')),\n",
    "                ('scaler', StandardScaler()),\n",
    "                ('pca', PCA(n_components=n_components)),\n",
    "                ('model', LogisticRegression(C=1000, max_iter=50000))\n",
    "                 ])\n",
    "\n",
    "# No PCA\n",
    "pipe2 = Pipeline([('imputer', SimpleImputer(missing_values=np.nan, strategy='mean')),\n",
    "                  ('scaler', StandardScaler()),\n",
    "                  ('model', LogisticRegression(C=1000, max_iter=50000))\n",
    "                  ])\n",
    "\n",
    "pipe.fit(X_train, y_train)\n",
    "accuracy = pipe.score(X_test, y_test)*100\n",
    "pipe2.fit(X_train, y_train)\n",
    "accuracy2 = pipe2.score(X_test, y_test)*100\n",
    "\n",
    "print(f'PCA Model Accuracy: {accuracy}%')\n",
    "print(f'Plain Model Accuracy: {accuracy2:.2f}%')"
   ]
  },
  {
   "cell_type": "markdown",
   "id": "9e398c92",
   "metadata": {},
   "source": [
    "### Random Forest"
   ]
  },
  {
   "cell_type": "code",
   "execution_count": 21,
   "id": "a187c0eb",
   "metadata": {},
   "outputs": [
    {
     "name": "stdout",
     "output_type": "stream",
     "text": [
      "Best parameters are: {'max_depth': None, 'n_estimators': 100}\n",
      "\n",
      "\n",
      "0.874 + or -0.007 for the {'max_depth': 4, 'n_estimators': 50}\n",
      "0.872 + or -0.004 for the {'max_depth': 4, 'n_estimators': 100}\n",
      "0.873 + or -0.005 for the {'max_depth': 4, 'n_estimators': 250}\n",
      "0.893 + or -0.005 for the {'max_depth': 8, 'n_estimators': 50}\n",
      "0.893 + or -0.004 for the {'max_depth': 8, 'n_estimators': 100}\n",
      "0.893 + or -0.005 for the {'max_depth': 8, 'n_estimators': 250}\n",
      "0.897 + or -0.004 for the {'max_depth': 16, 'n_estimators': 50}\n",
      "0.897 + or -0.005 for the {'max_depth': 16, 'n_estimators': 100}\n",
      "0.898 + or -0.005 for the {'max_depth': 16, 'n_estimators': 250}\n",
      "0.898 + or -0.003 for the {'max_depth': 32, 'n_estimators': 50}\n",
      "0.899 + or -0.004 for the {'max_depth': 32, 'n_estimators': 100}\n",
      "0.897 + or -0.005 for the {'max_depth': 32, 'n_estimators': 250}\n",
      "0.898 + or -0.004 for the {'max_depth': None, 'n_estimators': 50}\n",
      "0.899 + or -0.003 for the {'max_depth': None, 'n_estimators': 100}\n",
      "0.898 + or -0.005 for the {'max_depth': None, 'n_estimators': 250}\n"
     ]
    }
   ],
   "source": [
    "from sklearn.ensemble import RandomForestClassifier\n",
    "from sklearn.model_selection import GridSearchCV\n",
    "\n",
    "parameters = {\n",
    "    \"n_estimators\": [50, 100, 250],\n",
    "    \"max_depth\": [4, 8, 16, 32, None]\n",
    "}\n",
    "pipe3 = Pipeline([('imputer', SimpleImputer(missing_values=np.nan, strategy='mean')),\n",
    "                  ('grid', GridSearchCV(RandomForestClassifier(random_state=3), parameters, cv=5))\n",
    "                  ])\n",
    "\n",
    "pipe3.fit(X_train, y_train)\n",
    "grid = pipe3['grid']\n",
    "print(f'Best parameters are: {grid.best_params_}')\n",
    "print(\"\\n\")\n",
    "mean_score = grid.cv_results_['mean_test_score']\n",
    "std_score = grid.cv_results_['std_test_score']\n",
    "params = grid.cv_results_['params']\n",
    "for mean, std, params in zip(mean_score, std_score, params):\n",
    "    print(f'{round(mean,3)} + or -{round(std,3)} for the {params}')"
   ]
  },
  {
   "cell_type": "markdown",
   "id": "59462310",
   "metadata": {},
   "source": [
    "### Gradient Boosting\n"
   ]
  },
  {
   "cell_type": "code",
   "execution_count": 22,
   "id": "9db4e350",
   "metadata": {},
   "outputs": [
    {
     "name": "stdout",
     "output_type": "stream",
     "text": [
      "GB Model Accuracy: 88.72%\n"
     ]
    }
   ],
   "source": [
    "from sklearn.ensemble import GradientBoostingClassifier\n",
    "\n",
    "pipe4 = Pipeline([('imputer', SimpleImputer(missing_values=np.nan, strategy='mean')),\n",
    "                  ('model', GradientBoostingClassifier(n_estimators=100, validation_fraction=0.2,\n",
    "                                                       n_iter_no_change=5, tol=0.01, random_state=0))\n",
    "                  ])\n",
    "\n",
    "pipe4.fit(X_train, y_train)\n",
    "accuracy4 = pipe4.score(X_test, y_test)*100\n",
    "print(f'GB Model Accuracy: {accuracy4}%')"
   ]
  },
  {
   "cell_type": "code",
   "execution_count": 23,
   "id": "33b58aee",
   "metadata": {},
   "outputs": [
    {
     "data": {
      "text/plain": [
       "22"
      ]
     },
     "execution_count": 23,
     "metadata": {},
     "output_type": "execute_result"
    }
   ],
   "source": [
    "gb = pipe4['model']\n",
    "gb.n_estimators_"
   ]
  },
  {
   "cell_type": "markdown",
   "id": "31a411f1",
   "metadata": {},
   "source": [
    "## Conclusion\n",
    "The best model I could develop is a Random Forest Classifier. The parameters of the model are the default parameters of 100 estimators and no max depth. The train accuracy is 89%"
   ]
  },
  {
   "cell_type": "code",
   "execution_count": 29,
   "id": "425542c5",
   "metadata": {},
   "outputs": [
    {
     "name": "stdout",
     "output_type": "stream",
     "text": [
      "Best Model Test Accuracy: 89.60000000000001%\n"
     ]
    }
   ],
   "source": [
    "bp = grid.best_params_\n",
    "best_model = Pipeline([('imputer', SimpleImputer(missing_values=np.nan, strategy='mean')),\n",
    "                       ('model', RandomForestClassifier(random_state=3, **bp))\n",
    "                       ])\n",
    "best_model.fit(X_train, y_train)\n",
    "\n",
    "accuracy5 = best_model.score(X_test, y_test)*100\n",
    "print(f'Best Model Test Accuracy: {accuracy5}%')"
   ]
  },
  {
   "cell_type": "markdown",
   "id": "bb8abd11",
   "metadata": {},
   "source": [
    "Test accuracy is very similar to train at 89.6%"
   ]
  }
 ],
 "metadata": {
  "kernelspec": {
   "display_name": "Python 3 (ipykernel)",
   "language": "python",
   "name": "python3"
  },
  "language_info": {
   "codemirror_mode": {
    "name": "ipython",
    "version": 3
   },
   "file_extension": ".py",
   "mimetype": "text/x-python",
   "name": "python",
   "nbconvert_exporter": "python",
   "pygments_lexer": "ipython3",
   "version": "3.9.13"
  }
 },
 "nbformat": 4,
 "nbformat_minor": 5
}
