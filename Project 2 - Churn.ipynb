{
 "cells": [
  {
   "cell_type": "markdown",
   "id": "4df15d54",
   "metadata": {},
   "source": [
    "# Project 2 Churn Analysis\n",
    "## Francis Yang - 12/5/2022\n",
    "\n",
    "This project is about a very common business problem: analyzing customer churn. In this project, using *supervised learning models*, you will identify cell phone service customers who are more likely to stop using the service in the future and create a model that can predict if a certain customer will drop the service. Furthermore, it would help to analyze the top factors that influence user retention to guide the company prevent user churn. The dataset contains the information of customers' plans and usage of the service, as well as whether or not they stopped using the service eventually. You may find solutions to very similar data science problems on many different platforms. It is important that you put all your effort to get to a working solution yourself.  "
   ]
  },
  {
   "cell_type": "code",
   "execution_count": 1,
   "id": "98a536d9",
   "metadata": {},
   "outputs": [],
   "source": [
    "import pandas as pd\n",
    "import numpy as np\n",
    "import matplotlib.pyplot as plt\n",
    "import matplotlib.colors as colors\n",
    "\n",
    "data = pd.read_csv(\"datasets/churn.csv\")"
   ]
  },
  {
   "cell_type": "code",
   "execution_count": 2,
   "id": "c14296e1",
   "metadata": {},
   "outputs": [
    {
     "data": {
      "text/html": [
       "<div>\n",
       "<style scoped>\n",
       "    .dataframe tbody tr th:only-of-type {\n",
       "        vertical-align: middle;\n",
       "    }\n",
       "\n",
       "    .dataframe tbody tr th {\n",
       "        vertical-align: top;\n",
       "    }\n",
       "\n",
       "    .dataframe thead th {\n",
       "        text-align: right;\n",
       "    }\n",
       "</style>\n",
       "<table border=\"1\" class=\"dataframe\">\n",
       "  <thead>\n",
       "    <tr style=\"text-align: right;\">\n",
       "      <th></th>\n",
       "      <th>state</th>\n",
       "      <th>account_length</th>\n",
       "      <th>area_code</th>\n",
       "      <th>phone_number</th>\n",
       "      <th>intl_plan</th>\n",
       "      <th>voice_mail_plan</th>\n",
       "      <th>number_vmail_messages</th>\n",
       "      <th>total_day_minutes</th>\n",
       "      <th>total_day_calls</th>\n",
       "      <th>total_day_charge</th>\n",
       "      <th>...</th>\n",
       "      <th>total_eve_calls</th>\n",
       "      <th>total_eve_charge</th>\n",
       "      <th>total_night_minutes</th>\n",
       "      <th>total_night_calls</th>\n",
       "      <th>total_night_charge</th>\n",
       "      <th>total_intl_minutes</th>\n",
       "      <th>total_intl_calls</th>\n",
       "      <th>total_intl_charge</th>\n",
       "      <th>number_customer_service_calls</th>\n",
       "      <th>churned</th>\n",
       "    </tr>\n",
       "  </thead>\n",
       "  <tbody>\n",
       "    <tr>\n",
       "      <th>0</th>\n",
       "      <td>KS</td>\n",
       "      <td>128</td>\n",
       "      <td>415</td>\n",
       "      <td>382-4657</td>\n",
       "      <td>no</td>\n",
       "      <td>yes</td>\n",
       "      <td>25</td>\n",
       "      <td>265.1</td>\n",
       "      <td>110</td>\n",
       "      <td>45.07</td>\n",
       "      <td>...</td>\n",
       "      <td>99</td>\n",
       "      <td>16.78</td>\n",
       "      <td>244.7</td>\n",
       "      <td>91</td>\n",
       "      <td>11.01</td>\n",
       "      <td>10.0</td>\n",
       "      <td>3</td>\n",
       "      <td>2.70</td>\n",
       "      <td>1</td>\n",
       "      <td>False.</td>\n",
       "    </tr>\n",
       "    <tr>\n",
       "      <th>1</th>\n",
       "      <td>OH</td>\n",
       "      <td>107</td>\n",
       "      <td>415</td>\n",
       "      <td>371-7191</td>\n",
       "      <td>no</td>\n",
       "      <td>yes</td>\n",
       "      <td>26</td>\n",
       "      <td>161.6</td>\n",
       "      <td>123</td>\n",
       "      <td>27.47</td>\n",
       "      <td>...</td>\n",
       "      <td>103</td>\n",
       "      <td>?</td>\n",
       "      <td>254.4</td>\n",
       "      <td>103</td>\n",
       "      <td>11.45</td>\n",
       "      <td>13.7</td>\n",
       "      <td>3</td>\n",
       "      <td>3.70</td>\n",
       "      <td>1</td>\n",
       "      <td>False.</td>\n",
       "    </tr>\n",
       "    <tr>\n",
       "      <th>2</th>\n",
       "      <td>NJ</td>\n",
       "      <td>137</td>\n",
       "      <td>415</td>\n",
       "      <td>358-1921</td>\n",
       "      <td>no</td>\n",
       "      <td>no</td>\n",
       "      <td>0</td>\n",
       "      <td>243.4</td>\n",
       "      <td>114</td>\n",
       "      <td>41.38</td>\n",
       "      <td>...</td>\n",
       "      <td>110</td>\n",
       "      <td>10.3</td>\n",
       "      <td>162.6</td>\n",
       "      <td>104</td>\n",
       "      <td>7.32</td>\n",
       "      <td>12.2</td>\n",
       "      <td>5</td>\n",
       "      <td>3.29</td>\n",
       "      <td>0</td>\n",
       "      <td>False.</td>\n",
       "    </tr>\n",
       "    <tr>\n",
       "      <th>3</th>\n",
       "      <td>OH</td>\n",
       "      <td>84</td>\n",
       "      <td>408</td>\n",
       "      <td>375-9999</td>\n",
       "      <td>yes</td>\n",
       "      <td>no</td>\n",
       "      <td>0</td>\n",
       "      <td>299.4</td>\n",
       "      <td>71</td>\n",
       "      <td>50.90</td>\n",
       "      <td>...</td>\n",
       "      <td>88</td>\n",
       "      <td>5.26</td>\n",
       "      <td>196.9</td>\n",
       "      <td>89</td>\n",
       "      <td>8.86</td>\n",
       "      <td>6.6</td>\n",
       "      <td>7</td>\n",
       "      <td>1.78</td>\n",
       "      <td>2</td>\n",
       "      <td>False.</td>\n",
       "    </tr>\n",
       "    <tr>\n",
       "      <th>4</th>\n",
       "      <td>OK</td>\n",
       "      <td>75</td>\n",
       "      <td>415</td>\n",
       "      <td>330-6626</td>\n",
       "      <td>yes</td>\n",
       "      <td>no</td>\n",
       "      <td>0</td>\n",
       "      <td>166.7</td>\n",
       "      <td>113</td>\n",
       "      <td>28.34</td>\n",
       "      <td>...</td>\n",
       "      <td>122</td>\n",
       "      <td>12.61</td>\n",
       "      <td>186.9</td>\n",
       "      <td>121</td>\n",
       "      <td>8.41</td>\n",
       "      <td>10.1</td>\n",
       "      <td>3</td>\n",
       "      <td>2.73</td>\n",
       "      <td>3</td>\n",
       "      <td>False.</td>\n",
       "    </tr>\n",
       "  </tbody>\n",
       "</table>\n",
       "<p>5 rows × 21 columns</p>\n",
       "</div>"
      ],
      "text/plain": [
       "  state  account_length  area_code phone_number intl_plan voice_mail_plan  \\\n",
       "0    KS             128        415     382-4657        no             yes   \n",
       "1    OH             107        415     371-7191        no             yes   \n",
       "2    NJ             137        415     358-1921        no              no   \n",
       "3    OH              84        408     375-9999       yes              no   \n",
       "4    OK              75        415     330-6626       yes              no   \n",
       "\n",
       "   number_vmail_messages  total_day_minutes  total_day_calls  \\\n",
       "0                     25              265.1              110   \n",
       "1                     26              161.6              123   \n",
       "2                      0              243.4              114   \n",
       "3                      0              299.4               71   \n",
       "4                      0              166.7              113   \n",
       "\n",
       "   total_day_charge  ...  total_eve_calls  total_eve_charge  \\\n",
       "0             45.07  ...               99             16.78   \n",
       "1             27.47  ...              103                 ?   \n",
       "2             41.38  ...              110              10.3   \n",
       "3             50.90  ...               88              5.26   \n",
       "4             28.34  ...              122             12.61   \n",
       "\n",
       "  total_night_minutes  total_night_calls  total_night_charge  \\\n",
       "0               244.7                 91               11.01   \n",
       "1               254.4                103               11.45   \n",
       "2               162.6                104                7.32   \n",
       "3               196.9                 89                8.86   \n",
       "4               186.9                121                8.41   \n",
       "\n",
       "   total_intl_minutes  total_intl_calls  total_intl_charge  \\\n",
       "0                10.0                 3               2.70   \n",
       "1                13.7                 3               3.70   \n",
       "2                12.2                 5               3.29   \n",
       "3                 6.6                 7               1.78   \n",
       "4                10.1                 3               2.73   \n",
       "\n",
       "   number_customer_service_calls  churned  \n",
       "0                              1   False.  \n",
       "1                              1   False.  \n",
       "2                              0   False.  \n",
       "3                              2   False.  \n",
       "4                              3   False.  \n",
       "\n",
       "[5 rows x 21 columns]"
      ]
     },
     "execution_count": 2,
     "metadata": {},
     "output_type": "execute_result"
    }
   ],
   "source": [
    "data.head()"
   ]
  },
  {
   "cell_type": "code",
   "execution_count": 3,
   "id": "032ea059",
   "metadata": {},
   "outputs": [
    {
     "name": "stdout",
     "output_type": "stream",
     "text": [
      "<class 'pandas.core.frame.DataFrame'>\n",
      "RangeIndex: 5000 entries, 0 to 4999\n",
      "Data columns (total 21 columns):\n",
      " #   Column                         Non-Null Count  Dtype  \n",
      "---  ------                         --------------  -----  \n",
      " 0   state                          5000 non-null   object \n",
      " 1   account_length                 5000 non-null   int64  \n",
      " 2   area_code                      5000 non-null   int64  \n",
      " 3   phone_number                   5000 non-null   object \n",
      " 4   intl_plan                      5000 non-null   object \n",
      " 5   voice_mail_plan                5000 non-null   object \n",
      " 6   number_vmail_messages          5000 non-null   int64  \n",
      " 7   total_day_minutes              5000 non-null   float64\n",
      " 8   total_day_calls                5000 non-null   int64  \n",
      " 9   total_day_charge               5000 non-null   float64\n",
      " 10  total_eve_minutes              5000 non-null   float64\n",
      " 11  total_eve_calls                5000 non-null   int64  \n",
      " 12  total_eve_charge               5000 non-null   object \n",
      " 13  total_night_minutes            5000 non-null   float64\n",
      " 14  total_night_calls              5000 non-null   int64  \n",
      " 15  total_night_charge             5000 non-null   float64\n",
      " 16  total_intl_minutes             5000 non-null   float64\n",
      " 17  total_intl_calls               5000 non-null   int64  \n",
      " 18  total_intl_charge              4999 non-null   float64\n",
      " 19  number_customer_service_calls  5000 non-null   int64  \n",
      " 20  churned                        5000 non-null   object \n",
      "dtypes: float64(7), int64(8), object(6)\n",
      "memory usage: 820.4+ KB\n"
     ]
    }
   ],
   "source": [
    "data.info()"
   ]
  },
  {
   "cell_type": "markdown",
   "id": "9e47a32e",
   "metadata": {},
   "source": [
    "Correct predictor data type"
   ]
  },
  {
   "cell_type": "code",
   "execution_count": 4,
   "id": "b7f0ec19",
   "metadata": {},
   "outputs": [],
   "source": [
    "cmap = {\" False.\":False, \" True.\":True}\n",
    "data['churned'] = data['churned'].replace(cmap)"
   ]
  },
  {
   "cell_type": "markdown",
   "id": "144f4574",
   "metadata": {},
   "source": [
    "Correct NaN values and data type"
   ]
  },
  {
   "cell_type": "code",
   "execution_count": 5,
   "id": "4d653938",
   "metadata": {},
   "outputs": [],
   "source": [
    "data['total_eve_charge'] = data['total_eve_charge'].replace({'?':np.nan})\n",
    "data['total_eve_charge'] = data['total_eve_charge'].astype(float)\n",
    "data['intl_plan'] = data['intl_plan'].astype('category')\n",
    "data['voice_mail_plan'] = data['voice_mail_plan'].astype('category')"
   ]
  },
  {
   "cell_type": "code",
   "execution_count": 6,
   "id": "5c2089b3",
   "metadata": {},
   "outputs": [
    {
     "name": "stdout",
     "output_type": "stream",
     "text": [
      "<class 'pandas.core.frame.DataFrame'>\n",
      "RangeIndex: 5000 entries, 0 to 4999\n",
      "Data columns (total 21 columns):\n",
      " #   Column                         Non-Null Count  Dtype   \n",
      "---  ------                         --------------  -----   \n",
      " 0   state                          5000 non-null   object  \n",
      " 1   account_length                 5000 non-null   int64   \n",
      " 2   area_code                      5000 non-null   int64   \n",
      " 3   phone_number                   5000 non-null   object  \n",
      " 4   intl_plan                      5000 non-null   category\n",
      " 5   voice_mail_plan                5000 non-null   category\n",
      " 6   number_vmail_messages          5000 non-null   int64   \n",
      " 7   total_day_minutes              5000 non-null   float64 \n",
      " 8   total_day_calls                5000 non-null   int64   \n",
      " 9   total_day_charge               5000 non-null   float64 \n",
      " 10  total_eve_minutes              5000 non-null   float64 \n",
      " 11  total_eve_calls                5000 non-null   int64   \n",
      " 12  total_eve_charge               4995 non-null   float64 \n",
      " 13  total_night_minutes            5000 non-null   float64 \n",
      " 14  total_night_calls              5000 non-null   int64   \n",
      " 15  total_night_charge             5000 non-null   float64 \n",
      " 16  total_intl_minutes             5000 non-null   float64 \n",
      " 17  total_intl_calls               5000 non-null   int64   \n",
      " 18  total_intl_charge              4999 non-null   float64 \n",
      " 19  number_customer_service_calls  5000 non-null   int64   \n",
      " 20  churned                        5000 non-null   bool    \n",
      "dtypes: bool(1), category(2), float64(8), int64(8), object(2)\n",
      "memory usage: 718.1+ KB\n"
     ]
    }
   ],
   "source": [
    "data.info()"
   ]
  },
  {
   "cell_type": "markdown",
   "id": "f0f69d6b",
   "metadata": {},
   "source": [
    "## Visualization"
   ]
  },
  {
   "cell_type": "code",
   "execution_count": 7,
   "id": "8d04956c",
   "metadata": {
    "scrolled": true
   },
   "outputs": [
    {
     "data": {
      "image/png": "[encoded data removed]",
      "text/plain": [
       "<Figure size 1296x432 with 1 Axes>"
      ]
     },
     "metadata": {
      "needs_background": "light"
     },
     "output_type": "display_data"
    }
   ],
   "source": [
    "data['state'].value_counts().plot(kind='bar',figsize=(18,6));"
   ]
  },
  {
   "cell_type": "markdown",
   "id": "a76fb53f",
   "metadata": {},
   "source": [
    "Somewhat uniform distribution of samples"
   ]
  },
  {
   "cell_type": "code",
   "execution_count": 8,
   "id": "8aefbc7e",
   "metadata": {},
   "outputs": [
    {
     "data": {
      "text/plain": [
       "(51,)"
      ]
     },
     "execution_count": 8,
     "metadata": {},
     "output_type": "execute_result"
    }
   ],
   "source": [
    "data['state'].value_counts().shape"
   ]
  },
  {
   "cell_type": "markdown",
   "id": "8c2cc7d4",
   "metadata": {},
   "source": [
    "Washington DC has its own data"
   ]
  },
  {
   "cell_type": "code",
   "execution_count": 27,
   "id": "160a5825",
   "metadata": {},
   "outputs": [
    {
     "data": {
      "text/plain": [
       "<pandas.core.groupby.generic.DataFrameGroupBy object at 0x7f545ca7bca0>"
      ]
     },
     "execution_count": 27,
     "metadata": {},
     "output_type": "execute_result"
    }
   ],
   "source": [
    "test = data[['intl_plan','voice_mail_plan','churned']]\n",
    "test.groupby('churned')"
   ]
  },
  {
   "cell_type": "code",
   "execution_count": 12,
   "id": "7eb6d2b6",
   "metadata": {
    "scrolled": true
   },
   "outputs": [
    {
     "data": {
      "text/plain": [
       "<AxesSubplot:>"
      ]
     },
     "execution_count": 12,
     "metadata": {},
     "output_type": "execute_result"
    },
    {
     "data": {
      "image/png": "[encoded data removed]",
      "text/plain": [
       "<Figure size 432x288 with 1 Axes>"
      ]
     },
     "metadata": {
      "needs_background": "light"
     },
     "output_type": "display_data"
    }
   ],
   "source": [
    "data['voice_mail_plan'].value_counts().plot(kind='bar')"
   ]
  },
  {
   "cell_type": "code",
   "execution_count": null,
   "id": "de1ae8ee",
   "metadata": {},
   "outputs": [],
   "source": [
    "gc = data.groupby(by=['state','area_code','churned'])"
   ]
  },
  {
   "cell_type": "code",
   "execution_count": null,
   "id": "8cfdec40",
   "metadata": {
    "scrolled": true
   },
   "outputs": [],
   "source": [
    "group_means = gc.mean()\n",
    "group_means"
   ]
  },
  {
   "cell_type": "markdown",
   "id": "feb5952f",
   "metadata": {},
   "source": [
    "There are only 3 area codes, also each state has the same area code. This is not real because there are states with only 1 area code in real life."
   ]
  },
  {
   "cell_type": "markdown",
   "id": "c1162221",
   "metadata": {},
   "source": [
    "### Churn group\n",
    "Group means represented below. Some columns will not make sense like phone number and categorical columns, and are removed automatically."
   ]
  },
  {
   "cell_type": "code",
   "execution_count": null,
   "id": "e454e866",
   "metadata": {},
   "outputs": [],
   "source": [
    "from sklearn.preprocessing import MinMaxScaler\n",
    "\n",
    "fig, axs = plt.subplots(1, 3, figsize=(20,20))\n",
    "codes = ['415','408','510']\n",
    "for i, ax in enumerate(axs.ravel()):\n",
    "    churn = group_means.filter(like='True', axis=0).filter(\n",
    "        like=codes[i], axis=0).reset_index((1, 2)).drop(['area_code', 'churned'], axis=1)\n",
    "    \n",
    "    min_max_scaler = MinMaxScaler()\n",
    "    x_scaled = min_max_scaler.fit_transform(churn.values)\n",
    "    s_churn = pd.DataFrame(x_scaled, columns=group_means.columns,index=churn.index)\n",
    "    \n",
    "    ax.imshow(s_churn, cmap='viridis')\n",
    "    ax.set_title(f'Area {codes[i]}')\n",
    "    ax.set_xticks(np.arange(15), labels=churn.columns, rotation='vertical')\n",
    "    ax.set_yticks(np.arange(churn.shape[0]), labels=churn.index)\n",
    "plt.colorbar(axs[0].images[0],ax=axs,location='top');"
   ]
  },
  {
   "cell_type": "markdown",
   "id": "4f7d2c59",
   "metadata": {},
   "source": [
    "Looking along the columns of area 408, there is a strong absence in `number_vmail_messages`. This is the easiest commonality to see, but with dimension reduction, like PCA, we can find more columns that have a strong indicator of churn. "
   ]
  },
  {
   "cell_type": "code",
   "execution_count": null,
   "id": "d849398f",
   "metadata": {},
   "outputs": [],
   "source": [
    "#Combined churned and not churned\n",
    "table = pd.pivot_table(data, values='number_customer_service_calls', index=['state'],columns=['area_code'], aggfunc=np.sum)\n",
    "\n",
    "fig, ax = plt.subplots(figsize=(20,6))\n",
    "plt.imshow(table.T,cmap='viridis')\n",
    "plt.colorbar(orientation='horizontal')\n",
    "ax.set_xticks(np.arange(51), labels=table.index)\n",
    "ax.set_yticks(np.arange(3), labels=table.columns)\n",
    "ax.set_title(\"# of Customer Service Calls per Area per State\")\n",
    "plt.show()"
   ]
  },
  {
   "cell_type": "code",
   "execution_count": null,
   "id": "46b3048e",
   "metadata": {},
   "outputs": [],
   "source": [
    "table2 = pd.pivot_table(data, values=['account_length','number_customer_service_calls', 'churned'], index=['state'],columns=['area_code'], aggfunc=np.sum)\n",
    "table2.plot(kind='scatter',x='account_length', y='number_customer_service_calls', s='churned', figsize=(20,20))"
   ]
  },
  {
   "cell_type": "code",
   "execution_count": null,
   "id": "037b811b",
   "metadata": {},
   "outputs": [],
   "source": [
    "table2"
   ]
  },
  {
   "cell_type": "code",
   "execution_count": null,
   "id": "119cf283",
   "metadata": {},
   "outputs": [],
   "source": []
  }
 ],
 "metadata": {
  "kernelspec": {
   "display_name": "Python 3 (ipykernel)",
   "language": "python",
   "name": "python3"
  },
  "language_info": {
   "codemirror_mode": {
    "name": "ipython",
    "version": 3
   },
   "file_extension": ".py",
   "mimetype": "text/x-python",
   "name": "python",
   "nbconvert_exporter": "python",
   "pygments_lexer": "ipython3",
   "version": "3.9.7"
  }
 },
 "nbformat": 4,
 "nbformat_minor": 5
}
