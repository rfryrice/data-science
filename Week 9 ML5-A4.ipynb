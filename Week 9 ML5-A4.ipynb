{
 "cells": [
  {
   "cell_type": "markdown",
   "id": "5cd54840",
   "metadata": {},
   "source": [
    "# Week 9 Module 5 Assignment 4\n",
    "## Francis Yang 12/15/2022\n",
    "### Early stopping of Gradient Boosting\n",
    "\n",
    "Gradient boosting is an ensembling technique where several weak learners (regression trees) are combined to yield a powerful single model, in an iterative fashion.\n",
    "\n",
    "Early stopping support in Gradient Boosting enables us to find the least number of iterations which is sufficient to build a model that generalizes well to unseen data.\n",
    "\n",
    "The concept of early stopping is simple. We specify a `validation_fraction` which denotes the fraction of the whole dataset that will be kept aside from training to assess the validation loss of the model. The gradient boosting model is trained using the training set and evaluated using the validation set. When each additional stage of regression tree is added, the validation set is used to score the model. This is continued until the scores of the model in the last `n_iter_no_change` stages do not improve by atleast `tol`. After that the model is considered to have converged and further addition of stages is \"stopped early\".\n",
    "\n",
    "The number of stages of the final model is available at the attribute `n_estimators_`.\n",
    "\n",
    "This example illustrates how the early stopping can used in the `sklearn.ensemble.GradientBoostingClassifier` model to achieve almost the same accuracy as compared to a model built without early stopping using many fewer estimators. This can significantly reduce training time, memory usage and prediction latency.\n",
    "\n",
    "   * Load digits data set using `load_digits()`\n",
    "   * Train `GradientBoostingCLassifier` with and without early stopping\n",
    "   * Keep a timer for both cases and report the time it takes to train both models\n",
    "   * Report the scores for both models"
   ]
  },
  {
   "cell_type": "code",
   "execution_count": 2,
   "id": "1764f011",
   "metadata": {},
   "outputs": [
    {
     "data": {
      "text/plain": [
       "dict_keys(['data', 'target', 'frame', 'feature_names', 'target_names', 'images', 'DESCR'])"
      ]
     },
     "execution_count": 2,
     "metadata": {},
     "output_type": "execute_result"
    }
   ],
   "source": [
    "import time\n",
    "import numpy as np\n",
    "import matplotlib.pyplot as plt\n",
    "from sklearn.ensemble import GradientBoostingClassifier \n",
    "from sklearn.datasets import load_digits \n",
    "from sklearn.model_selection import train_test_split\n",
    "\n",
    "data = load_digits()\n",
    "data.keys()"
   ]
  },
  {
   "cell_type": "code",
   "execution_count": 4,
   "id": "1baa3dc9",
   "metadata": {},
   "outputs": [
    {
     "name": "stdout",
     "output_type": "stream",
     "text": [
      "Without Early Stop \n",
      " Train time: 5.8581109046936035 Score: 0.9511111111111111 n_estimators: 100\n",
      "With Early Stop \n",
      " Train time: 2.8082473278045654 Score: 0.94 n_estimators: 58\n"
     ]
    }
   ],
   "source": [
    "X = data.data\n",
    "y = data.target\n",
    "\n",
    "X_train, X_test, y_train, y_test = train_test_split(X, y, random_state=5)\n",
    "n_estimators = 100\n",
    "\n",
    "early = GradientBoostingClassifier(n_estimators=n_estimators, validation_fraction=0.2, \n",
    "                                   n_iter_no_change=5, tol=0.01 ,random_state=0)\n",
    "plain = GradientBoostingClassifier(n_estimators=n_estimators, random_state=0)\n",
    "\n",
    "start = time.time()\n",
    "plain.fit(X_train, y_train)\n",
    "time_gb = time.time() - start\n",
    "\n",
    "start = time.time()\n",
    "early.fit(X_train, y_train)\n",
    "time_gbes = time.time() - start\n",
    "\n",
    "plain_score = plain.score(X_test, y_test)\n",
    "early_score = early.score(X_test, y_test)\n",
    "\n",
    "n_est_plain = plain.n_estimators_\n",
    "n_est_early = early.n_estimators_\n",
    "\n",
    "print(f\"Without Early Stop \\n Train time: {time_gb} Score: {plain_score} n_estimators: {n_est_plain}\")\n",
    "print(f\"With Early Stop \\n Train time: {time_gbes} Score: {early_score} n_estimators: {n_est_early}\")"
   ]
  }
 ],
 "metadata": {
  "kernelspec": {
   "display_name": "Python 3 (ipykernel)",
   "language": "python",
   "name": "python3"
  },
  "language_info": {
   "codemirror_mode": {
    "name": "ipython",
    "version": 3
   },
   "file_extension": ".py",
   "mimetype": "text/x-python",
   "name": "python",
   "nbconvert_exporter": "python",
   "pygments_lexer": "ipython3",
   "version": "3.9.7"
  }
 },
 "nbformat": 4,
 "nbformat_minor": 5
}
