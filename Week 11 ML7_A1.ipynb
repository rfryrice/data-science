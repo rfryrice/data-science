{
 "cells": [
  {
   "cell_type": "markdown",
   "id": "a2ad7e54",
   "metadata": {},
   "source": [
    "# Week 11 Module 7 Assignment 1\n",
    "## Francis Yang 12/20/22\n",
    "### Faces recognition example using eigenfaces and SVMs\n",
    "Very similar to Module 4 Assignment 2"
   ]
  },
  {
   "cell_type": "code",
   "execution_count": 4,
   "id": "734b6940",
   "metadata": {},
   "outputs": [
    {
     "data": {
      "text/plain": [
       "{'estimator__C': 4, 'estimator__gamma': 0.003635714285714286}"
      ]
     },
     "execution_count": 4,
     "metadata": {},
     "output_type": "execute_result"
    }
   ],
   "source": [
    "from sklearn.model_selection import train_test_split, GridSearchCV\n",
    "from sklearn.datasets import fetch_lfw_people\n",
    "from sklearn.metrics import classification_report, confusion_matrix\n",
    "from sklearn.decomposition import PCA\n",
    "from sklearn.svm import SVC\n",
    "from sklearn.pipeline import Pipeline\n",
    "import numpy as np\n",
    "\n",
    "data = fetch_lfw_people(min_faces_per_person=70, resize=0.4)\n",
    "\n",
    "pca = PCA(n_components=150, whiten=True, random_state=42)\n",
    "svc = SVC(class_weight='balanced')\n",
    "\n",
    "pipe = Pipeline([('pca',pca),('estimator',svc)])\n",
    "\n",
    "X_train, X_test, y_train, y_test = train_test_split(\n",
    "    data.data, data.target, random_state=2)\n",
    "\n",
    "param_grid = {'estimator__C': np.arange(1, 15, 3),\n",
    "              'estimator__gamma': np.linspace(0.0001, 0.01, num=15)}\n",
    "\n",
    "grid = GridSearchCV(pipe, param_grid, cv=5)\n",
    "grid.fit(X_train, y_train)\n",
    "\n",
    "grid.best_params_"
   ]
  },
  {
   "cell_type": "code",
   "execution_count": 5,
   "id": "463a5820",
   "metadata": {},
   "outputs": [
    {
     "data": {
      "text/plain": [
       "0.8623470968431175"
      ]
     },
     "execution_count": 5,
     "metadata": {},
     "output_type": "execute_result"
    }
   ],
   "source": [
    "grid.best_score_"
   ]
  },
  {
   "cell_type": "code",
   "execution_count": 7,
   "id": "a2142f11",
   "metadata": {},
   "outputs": [
    {
     "name": "stdout",
     "output_type": "stream",
     "text": [
      "                   precision    recall  f1-score   support\n",
      "\n",
      "     Ariel Sharon       0.93      0.68      0.79        19\n",
      "     Colin Powell       0.73      0.78      0.75        55\n",
      "  Donald Rumsfeld       0.71      0.68      0.69        25\n",
      "    George W Bush       0.86      0.94      0.90       142\n",
      "Gerhard Schroeder       0.93      0.87      0.90        31\n",
      "      Hugo Chavez       1.00      0.75      0.86        16\n",
      "       Tony Blair       0.83      0.71      0.76        34\n",
      "\n",
      "         accuracy                           0.84       322\n",
      "        macro avg       0.86      0.77      0.81       322\n",
      "     weighted avg       0.84      0.84      0.84       322\n",
      "\n"
     ]
    }
   ],
   "source": [
    "model = grid.best_estimator_\n",
    "yfit = model.predict(X_test)\n",
    "\n",
    "print(classification_report(y_test, yfit,\n",
    "                            target_names=data.target_names))"
   ]
  },
  {
   "cell_type": "code",
   "execution_count": 8,
   "id": "a847377a",
   "metadata": {},
   "outputs": [
    {
     "name": "stdout",
     "output_type": "stream",
     "text": [
      "[[ 13   4   2   0   0   0   0]\n",
      " [  0  43   2   9   0   0   1]\n",
      " [  0   1  17   6   0   0   1]\n",
      " [  1   5   1 134   1   0   0]\n",
      " [  0   0   1   0  27   0   3]\n",
      " [  0   3   0   1   0  12   0]\n",
      " [  0   3   1   5   1   0  24]]\n"
     ]
    }
   ],
   "source": [
    "print(confusion_matrix(y_test,yfit))"
   ]
  }
 ],
 "metadata": {
  "kernelspec": {
   "display_name": "Python 3 (ipykernel)",
   "language": "python",
   "name": "python3"
  },
  "language_info": {
   "codemirror_mode": {
    "name": "ipython",
    "version": 3
   },
   "file_extension": ".py",
   "mimetype": "text/x-python",
   "name": "python",
   "nbconvert_exporter": "python",
   "pygments_lexer": "ipython3",
   "version": "3.9.12"
  }
 },
 "nbformat": 4,
 "nbformat_minor": 5
}
